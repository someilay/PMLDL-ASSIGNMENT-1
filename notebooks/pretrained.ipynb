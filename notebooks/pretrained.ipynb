{
 "cells": [
  {
   "cell_type": "markdown",
   "id": "0227f090",
   "metadata": {
    "papermill": {
     "duration": 0.010444,
     "end_time": "2023-10-29T11:10:06.410687",
     "exception": false,
     "start_time": "2023-10-29T11:10:06.400243",
     "status": "completed"
    },
    "tags": []
   },
   "source": [
    "# Imports"
   ]
  },
  {
   "cell_type": "code",
   "execution_count": 1,
   "id": "1ff6b0af",
   "metadata": {
    "collapsed": false,
    "execution": {
     "iopub.execute_input": "2023-10-29T11:10:21.552716Z",
     "iopub.status.busy": "2023-10-29T11:10:21.552392Z",
     "iopub.status.idle": "2023-10-29T11:10:21.556945Z",
     "shell.execute_reply": "2023-10-29T11:10:21.556051Z"
    },
    "papermill": {
     "duration": 0.018608,
     "end_time": "2023-10-29T11:10:21.558890",
     "exception": false,
     "start_time": "2023-10-29T11:10:21.540282",
     "status": "completed"
    },
    "tags": [],
    "ExecuteTime": {
     "end_time": "2023-10-29T13:08:54.934152956Z",
     "start_time": "2023-10-29T13:08:54.933073196Z"
    }
   },
   "outputs": [],
   "source": [
    "import warnings\n",
    "\n",
    "warnings.filterwarnings('ignore')"
   ]
  },
  {
   "cell_type": "code",
   "execution_count": 2,
   "id": "7b91ae0b",
   "metadata": {
    "execution": {
     "iopub.execute_input": "2023-10-29T11:10:21.582068Z",
     "iopub.status.busy": "2023-10-29T11:10:21.581812Z",
     "iopub.status.idle": "2023-10-29T11:10:32.417441Z",
     "shell.execute_reply": "2023-10-29T11:10:32.416371Z"
    },
    "papermill": {
     "duration": 10.85003,
     "end_time": "2023-10-29T11:10:32.419907",
     "exception": false,
     "start_time": "2023-10-29T11:10:21.569877",
     "status": "completed"
    },
    "tags": [],
    "ExecuteTime": {
     "end_time": "2023-10-29T13:08:58.739973764Z",
     "start_time": "2023-10-29T13:08:54.933431972Z"
    }
   },
   "outputs": [],
   "source": [
    "import transformers\n",
    "import datasets\n",
    "import random\n",
    "import numpy as np\n",
    "import pandas as pd\n",
    "\n",
    "from typing import Callable, Any, Dict\n",
    "from pathlib import Path\n",
    "from datasets import load_dataset, load_metric\n",
    "from sklearn.model_selection import train_test_split\n",
    "from torch.utils.data import DataLoader, Dataset\n",
    "from IPython.display import display, HTML\n",
    "\n",
    "transformers.manual_seed(432)"
   ]
  },
  {
   "cell_type": "code",
   "execution_count": 3,
   "id": "82c8c754",
   "metadata": {
    "collapsed": false,
    "execution": {
     "iopub.execute_input": "2023-10-29T11:10:32.444005Z",
     "iopub.status.busy": "2023-10-29T11:10:32.443413Z",
     "iopub.status.idle": "2023-10-29T11:10:32.481014Z",
     "shell.execute_reply": "2023-10-29T11:10:32.480222Z"
    },
    "papermill": {
     "duration": 0.0518,
     "end_time": "2023-10-29T11:10:32.483205",
     "exception": false,
     "start_time": "2023-10-29T11:10:32.431405",
     "status": "completed"
    },
    "tags": [],
    "ExecuteTime": {
     "end_time": "2023-10-29T13:08:58.770062845Z",
     "start_time": "2023-10-29T13:08:58.744207905Z"
    }
   },
   "outputs": [],
   "source": [
    "%load_ext tensorboard"
   ]
  },
  {
   "cell_type": "markdown",
   "id": "53b3a320",
   "metadata": {
    "papermill": {
     "duration": 0.010381,
     "end_time": "2023-10-29T11:10:32.504530",
     "exception": false,
     "start_time": "2023-10-29T11:10:32.494149",
     "status": "completed"
    },
    "tags": []
   },
   "source": [
    "# Loading data"
   ]
  },
  {
   "cell_type": "code",
   "execution_count": 8,
   "id": "a126695d",
   "metadata": {
    "execution": {
     "iopub.execute_input": "2023-10-29T11:10:32.528256Z",
     "iopub.status.busy": "2023-10-29T11:10:32.527729Z",
     "iopub.status.idle": "2023-10-29T11:10:32.532387Z",
     "shell.execute_reply": "2023-10-29T11:10:32.531523Z"
    },
    "papermill": {
     "duration": 0.018464,
     "end_time": "2023-10-29T11:10:32.534431",
     "exception": false,
     "start_time": "2023-10-29T11:10:32.515967",
     "status": "completed"
    },
    "tags": [],
    "ExecuteTime": {
     "end_time": "2023-10-29T13:09:23.019097020Z",
     "start_time": "2023-10-29T13:09:22.994384461Z"
    }
   },
   "outputs": [],
   "source": [
    "base_path = Path('..').resolve()\n",
    "data_path = base_path / Path('data/raw/filtered.tsv')\n",
    "model_cktp_path = base_path / 'models' / 'pretrained.pt'"
   ]
  },
  {
   "cell_type": "code",
   "execution_count": 9,
   "id": "50fcd524",
   "metadata": {
    "collapsed": false,
    "execution": {
     "iopub.execute_input": "2023-10-29T11:10:32.557040Z",
     "iopub.status.busy": "2023-10-29T11:10:32.556269Z",
     "iopub.status.idle": "2023-10-29T11:10:32.560754Z",
     "shell.execute_reply": "2023-10-29T11:10:32.559922Z"
    },
    "papermill": {
     "duration": 0.017788,
     "end_time": "2023-10-29T11:10:32.562821",
     "exception": false,
     "start_time": "2023-10-29T11:10:32.545033",
     "status": "completed"
    },
    "tags": [],
    "ExecuteTime": {
     "end_time": "2023-10-29T13:09:23.395073288Z",
     "start_time": "2023-10-29T13:09:23.391049618Z"
    }
   },
   "outputs": [],
   "source": [
    "AMOUNT_OF_PAIRS = 50000\n",
    "EPOCHS = 15\n",
    "VAL_RATIO = 0.1\n",
    "MAX_LENGTH = 75\n",
    "MIN_TOX = 0.75\n",
    "MODEL_CHECKPOINT = \"t5-small\"\n",
    "SEED=432"
   ]
  },
  {
   "cell_type": "code",
   "execution_count": 10,
   "id": "1e615842",
   "metadata": {
    "execution": {
     "iopub.execute_input": "2023-10-29T11:10:32.586477Z",
     "iopub.status.busy": "2023-10-29T11:10:32.585751Z",
     "iopub.status.idle": "2023-10-29T11:10:49.103504Z",
     "shell.execute_reply": "2023-10-29T11:10:49.102513Z"
    },
    "id": "IreSlFmlIrIm",
    "papermill": {
     "duration": 16.5316,
     "end_time": "2023-10-29T11:10:49.105605",
     "exception": false,
     "start_time": "2023-10-29T11:10:32.574005",
     "status": "completed"
    },
    "tags": [],
    "ExecuteTime": {
     "end_time": "2023-10-29T13:09:25.781652421Z",
     "start_time": "2023-10-29T13:09:23.796818420Z"
    }
   },
   "outputs": [
    {
     "data": {
      "text/plain": "                                           reference  \\\n0  If Alkar is flooding her with psychic waste, t...   \n1                          Now you're getting nasty.   \n2           Well, we could spare your life, for one.   \n3          Ah! Monkey, you've got to snap out of it.   \n4                   I've got orders to put her down.   \n\n                                         translation  similarity  lenght_diff  \\\n0  if Alkar floods her with her mental waste, it ...    0.785171     0.010309   \n1                        you're becoming disgusting.    0.749687     0.071429   \n2                      well, we can spare your life.    0.919051     0.268293   \n3                       monkey, you have to wake up.    0.664333     0.309524   \n4                         I have orders to kill her.    0.726639     0.181818   \n\n    ref_tox   trn_tox  \n0  0.014195  0.981983  \n1  0.065473  0.999039  \n2  0.213313  0.985068  \n3  0.053362  0.994215  \n4  0.009402  0.999348  ",
      "text/html": "<div>\n<style scoped>\n    .dataframe tbody tr th:only-of-type {\n        vertical-align: middle;\n    }\n\n    .dataframe tbody tr th {\n        vertical-align: top;\n    }\n\n    .dataframe thead th {\n        text-align: right;\n    }\n</style>\n<table border=\"1\" class=\"dataframe\">\n  <thead>\n    <tr style=\"text-align: right;\">\n      <th></th>\n      <th>reference</th>\n      <th>translation</th>\n      <th>similarity</th>\n      <th>lenght_diff</th>\n      <th>ref_tox</th>\n      <th>trn_tox</th>\n    </tr>\n  </thead>\n  <tbody>\n    <tr>\n      <th>0</th>\n      <td>If Alkar is flooding her with psychic waste, t...</td>\n      <td>if Alkar floods her with her mental waste, it ...</td>\n      <td>0.785171</td>\n      <td>0.010309</td>\n      <td>0.014195</td>\n      <td>0.981983</td>\n    </tr>\n    <tr>\n      <th>1</th>\n      <td>Now you're getting nasty.</td>\n      <td>you're becoming disgusting.</td>\n      <td>0.749687</td>\n      <td>0.071429</td>\n      <td>0.065473</td>\n      <td>0.999039</td>\n    </tr>\n    <tr>\n      <th>2</th>\n      <td>Well, we could spare your life, for one.</td>\n      <td>well, we can spare your life.</td>\n      <td>0.919051</td>\n      <td>0.268293</td>\n      <td>0.213313</td>\n      <td>0.985068</td>\n    </tr>\n    <tr>\n      <th>3</th>\n      <td>Ah! Monkey, you've got to snap out of it.</td>\n      <td>monkey, you have to wake up.</td>\n      <td>0.664333</td>\n      <td>0.309524</td>\n      <td>0.053362</td>\n      <td>0.994215</td>\n    </tr>\n    <tr>\n      <th>4</th>\n      <td>I've got orders to put her down.</td>\n      <td>I have orders to kill her.</td>\n      <td>0.726639</td>\n      <td>0.181818</td>\n      <td>0.009402</td>\n      <td>0.999348</td>\n    </tr>\n  </tbody>\n</table>\n</div>"
     },
     "execution_count": 10,
     "metadata": {},
     "output_type": "execute_result"
    }
   ],
   "source": [
    "transformers.set_seed(42)\n",
    "raw_data = pd.read_csv(data_path, sep='\\t', index_col=False)\n",
    "raw_data = raw_data[raw_data.columns[1:]]\n",
    "raw_data.head()"
   ]
  },
  {
   "cell_type": "code",
   "execution_count": 11,
   "id": "089380e4",
   "metadata": {
    "collapsed": false,
    "execution": {
     "iopub.execute_input": "2023-10-29T11:10:49.129278Z",
     "iopub.status.busy": "2023-10-29T11:10:49.128980Z",
     "iopub.status.idle": "2023-10-29T11:10:49.163099Z",
     "shell.execute_reply": "2023-10-29T11:10:49.162245Z"
    },
    "papermill": {
     "duration": 0.048242,
     "end_time": "2023-10-29T11:10:49.165241",
     "exception": false,
     "start_time": "2023-10-29T11:10:49.116999",
     "status": "completed"
    },
    "tags": [],
    "ExecuteTime": {
     "end_time": "2023-10-29T13:09:27.415060222Z",
     "start_time": "2023-10-29T13:09:27.366187259Z"
    }
   },
   "outputs": [],
   "source": [
    "raw_data = raw_data[\n",
    "    (raw_data['ref_tox'] >= MIN_TOX) &\n",
    "    (raw_data['trn_tox'] <= 1 - MIN_TOX)\n",
    "]"
   ]
  },
  {
   "cell_type": "code",
   "execution_count": 12,
   "id": "9c64fe21",
   "metadata": {
    "collapsed": false,
    "execution": {
     "iopub.execute_input": "2023-10-29T11:10:49.189309Z",
     "iopub.status.busy": "2023-10-29T11:10:49.189010Z",
     "iopub.status.idle": "2023-10-29T11:10:49.239863Z",
     "shell.execute_reply": "2023-10-29T11:10:49.238925Z"
    },
    "papermill": {
     "duration": 0.065365,
     "end_time": "2023-10-29T11:10:49.242005",
     "exception": false,
     "start_time": "2023-10-29T11:10:49.176640",
     "status": "completed"
    },
    "tags": [],
    "ExecuteTime": {
     "end_time": "2023-10-29T13:09:28.023973882Z",
     "start_time": "2023-10-29T13:09:27.945780824Z"
    }
   },
   "outputs": [],
   "source": [
    "raw_data['id'] = pd.RangeIndex(0, len(raw_data))\n",
    "train_split, val_split = train_test_split(\n",
    "    range(raw_data[raw_data['id'] < AMOUNT_OF_PAIRS]['id'].max() + 1),\n",
    "    test_size=VAL_RATIO,\n",
    "    random_state=SEED\n",
    ")\n",
    "train_dataframe = raw_data[raw_data['id'].isin(train_split)]\n",
    "val_dataframe = raw_data[raw_data['id'].isin(val_split)]"
   ]
  },
  {
   "cell_type": "markdown",
   "id": "c33453eb",
   "metadata": {
    "papermill": {
     "duration": 0.010809,
     "end_time": "2023-10-29T11:10:49.263888",
     "exception": false,
     "start_time": "2023-10-29T11:10:49.253079",
     "status": "completed"
    },
    "tags": []
   },
   "source": [
    "# Dataset"
   ]
  },
  {
   "cell_type": "code",
   "execution_count": 13,
   "id": "7dba9eb0",
   "metadata": {
    "collapsed": false,
    "execution": {
     "iopub.execute_input": "2023-10-29T11:10:49.287163Z",
     "iopub.status.busy": "2023-10-29T11:10:49.286843Z",
     "iopub.status.idle": "2023-10-29T11:10:51.380436Z",
     "shell.execute_reply": "2023-10-29T11:10:51.379054Z"
    },
    "papermill": {
     "duration": 2.108485,
     "end_time": "2023-10-29T11:10:51.383325",
     "exception": false,
     "start_time": "2023-10-29T11:10:49.274840",
     "status": "completed"
    },
    "tags": [],
    "ExecuteTime": {
     "end_time": "2023-10-29T13:09:29.853437174Z",
     "start_time": "2023-10-29T13:09:29.099638996Z"
    }
   },
   "outputs": [],
   "source": [
    "ModelTokenizer = transformers.models.t5.tokenization_t5_fast.T5TokenizerFast\n",
    "model_tokenizer: ModelTokenizer = transformers.AutoTokenizer.from_pretrained(MODEL_CHECKPOINT)"
   ]
  },
  {
   "cell_type": "code",
   "execution_count": 14,
   "id": "ccadcb12",
   "metadata": {
    "collapsed": false,
    "execution": {
     "iopub.execute_input": "2023-10-29T11:10:51.409120Z",
     "iopub.status.busy": "2023-10-29T11:10:51.408705Z",
     "iopub.status.idle": "2023-10-29T11:10:51.417414Z",
     "shell.execute_reply": "2023-10-29T11:10:51.416425Z"
    },
    "papermill": {
     "duration": 0.024084,
     "end_time": "2023-10-29T11:10:51.419683",
     "exception": false,
     "start_time": "2023-10-29T11:10:51.395599",
     "status": "completed"
    },
    "tags": [],
    "ExecuteTime": {
     "end_time": "2023-10-29T13:09:29.914749798Z",
     "start_time": "2023-10-29T13:09:29.857955653Z"
    }
   },
   "outputs": [],
   "source": [
    "class DeToxificationDataset(Dataset):\n",
    "    def __init__(self,\n",
    "                 dataframe: pd.DataFrame,\n",
    "                 tokenizer: ModelTokenizer,\n",
    "                 max_length: int):\n",
    "        self.dataframe = dataframe\n",
    "        self.tokenizer = tokenizer\n",
    "        self.max_length = max_length\n",
    "        self.reference = self.dataframe['reference'].values\n",
    "        self.translation = self.dataframe['translation'].values\n",
    "\n",
    "    def __getitem__(self, index) -> Dict[str, Any]:\n",
    "        inputs = self.reference[index]\n",
    "        targets = self.translation[index]\n",
    "        model_inputs = self.tokenizer.__call__(inputs, max_length=self.max_length, truncation=True)\n",
    "        labels = self.tokenizer.__call__(targets, max_length=self.max_length, truncation=True)    \n",
    "        model_inputs[\"labels\"] = labels[\"input_ids\"]\n",
    "        return model_inputs\n",
    "\n",
    "    def __len__(self) -> int:\n",
    "        return len(self.dataframe)"
   ]
  },
  {
   "cell_type": "code",
   "execution_count": 15,
   "id": "2f45331c",
   "metadata": {
    "collapsed": false,
    "execution": {
     "iopub.execute_input": "2023-10-29T11:10:51.445683Z",
     "iopub.status.busy": "2023-10-29T11:10:51.445391Z",
     "iopub.status.idle": "2023-10-29T11:10:51.450305Z",
     "shell.execute_reply": "2023-10-29T11:10:51.449354Z"
    },
    "papermill": {
     "duration": 0.020103,
     "end_time": "2023-10-29T11:10:51.452355",
     "exception": false,
     "start_time": "2023-10-29T11:10:51.432252",
     "status": "completed"
    },
    "tags": [],
    "ExecuteTime": {
     "end_time": "2023-10-29T13:09:30.420182327Z",
     "start_time": "2023-10-29T13:09:30.410175997Z"
    }
   },
   "outputs": [],
   "source": [
    "train_dataset = DeToxificationDataset(train_dataframe, model_tokenizer, MAX_LENGTH)\n",
    "val_dataset = DeToxificationDataset(val_dataframe, model_tokenizer, MAX_LENGTH)"
   ]
  },
  {
   "cell_type": "code",
   "execution_count": 16,
   "id": "90e34b39",
   "metadata": {
    "collapsed": false,
    "execution": {
     "iopub.execute_input": "2023-10-29T11:10:51.477789Z",
     "iopub.status.busy": "2023-10-29T11:10:51.477431Z",
     "iopub.status.idle": "2023-10-29T11:10:51.490123Z",
     "shell.execute_reply": "2023-10-29T11:10:51.489232Z"
    },
    "papermill": {
     "duration": 0.027399,
     "end_time": "2023-10-29T11:10:51.492055",
     "exception": false,
     "start_time": "2023-10-29T11:10:51.464656",
     "status": "completed"
    },
    "tags": [],
    "ExecuteTime": {
     "end_time": "2023-10-29T13:09:31.048213037Z",
     "start_time": "2023-10-29T13:09:31.039539235Z"
    }
   },
   "outputs": [
    {
     "data": {
      "text/plain": "{'input_ids': [27, 31, 51, 59, 3, 13366, 43, 3, 9, 861, 233, 3, 233, 4065, 8, 337, 6472, 9311, 38, 140, 113, 31, 7, 3, 13366, 67, 5, 301, 233, 1], 'attention_mask': [1, 1, 1, 1, 1, 1, 1, 1, 1, 1, 1, 1, 1, 1, 1, 1, 1, 1, 1, 1, 1, 1, 1, 1, 1, 1, 1, 1, 1, 1], 'labels': [27, 31, 51, 59, 352, 12, 8885, 1082, 28, 3, 9, 6472, 9311, 24, 656, 135, 67, 5, 1]}"
     },
     "execution_count": 16,
     "metadata": {},
     "output_type": "execute_result"
    }
   ],
   "source": [
    "train_dataset[0]"
   ]
  },
  {
   "cell_type": "code",
   "execution_count": 18,
   "id": "77a8b9c4",
   "metadata": {
    "collapsed": false,
    "execution": {
     "iopub.execute_input": "2023-10-29T11:10:51.517913Z",
     "iopub.status.busy": "2023-10-29T11:10:51.517618Z",
     "iopub.status.idle": "2023-10-29T11:10:51.525523Z",
     "shell.execute_reply": "2023-10-29T11:10:51.524536Z"
    },
    "papermill": {
     "duration": 0.022962,
     "end_time": "2023-10-29T11:10:51.527408",
     "exception": false,
     "start_time": "2023-10-29T11:10:51.504446",
     "status": "completed"
    },
    "tags": [],
    "ExecuteTime": {
     "end_time": "2023-10-29T13:09:37.688619576Z",
     "start_time": "2023-10-29T13:09:37.663778212Z"
    }
   },
   "outputs": [
    {
     "name": "stdout",
     "output_type": "stream",
     "text": [
      "Death . \n",
      " he ' s dead . \n"
     ]
    }
   ],
   "source": [
    "def random_sample(some_dataset: DeToxificationDataset, tokenizer: ModelTokenizer):\n",
    "    idx = np.random.randint(0, len(some_dataset))\n",
    "    model_inputs = some_dataset[idx]\n",
    "    ref = tokenizer.batch_decode(\n",
    "        model_inputs['input_ids'], \n",
    "        skip_special_tokens=True\n",
    "    )\n",
    "    trn = tokenizer.batch_decode(\n",
    "        model_inputs['labels'], \n",
    "        skip_special_tokens=True\n",
    "    )\n",
    "    print(' '.join(ref))\n",
    "    print(' '.join(trn))\n",
    "\n",
    "random_sample(train_dataset, train_dataset.tokenizer)"
   ]
  },
  {
   "cell_type": "code",
   "execution_count": 19,
   "id": "2631acbc",
   "metadata": {
    "collapsed": false,
    "execution": {
     "iopub.execute_input": "2023-10-29T11:10:51.552684Z",
     "iopub.status.busy": "2023-10-29T11:10:51.552243Z",
     "iopub.status.idle": "2023-10-29T11:10:51.557813Z",
     "shell.execute_reply": "2023-10-29T11:10:51.557016Z"
    },
    "papermill": {
     "duration": 0.020396,
     "end_time": "2023-10-29T11:10:51.559883",
     "exception": false,
     "start_time": "2023-10-29T11:10:51.539487",
     "status": "completed"
    },
    "tags": [],
    "ExecuteTime": {
     "end_time": "2023-10-29T13:09:39.938952614Z",
     "start_time": "2023-10-29T13:09:39.930468344Z"
    }
   },
   "outputs": [
    {
     "data": {
      "text/plain": "(45000, 5000)"
     },
     "execution_count": 19,
     "metadata": {},
     "output_type": "execute_result"
    }
   ],
   "source": [
    "len(train_dataset), len(val_dataset)"
   ]
  },
  {
   "cell_type": "markdown",
   "id": "80223b7c",
   "metadata": {
    "id": "545PP3o8IrJV",
    "papermill": {
     "duration": 0.012044,
     "end_time": "2023-10-29T11:10:51.584451",
     "exception": false,
     "start_time": "2023-10-29T11:10:51.572407",
     "status": "completed"
    },
    "tags": []
   },
   "source": [
    "# Fine-tuning the model"
   ]
  },
  {
   "cell_type": "code",
   "execution_count": 20,
   "id": "b3d51eba",
   "metadata": {
    "collapsed": false,
    "execution": {
     "iopub.execute_input": "2023-10-29T11:10:51.609115Z",
     "iopub.status.busy": "2023-10-29T11:10:51.608837Z",
     "iopub.status.idle": "2023-10-29T11:10:52.181864Z",
     "shell.execute_reply": "2023-10-29T11:10:52.181014Z"
    },
    "papermill": {
     "duration": 0.587942,
     "end_time": "2023-10-29T11:10:52.184373",
     "exception": false,
     "start_time": "2023-10-29T11:10:51.596431",
     "status": "completed"
    },
    "tags": [],
    "ExecuteTime": {
     "end_time": "2023-10-29T13:09:43.812339549Z",
     "start_time": "2023-10-29T13:09:42.330612093Z"
    }
   },
   "outputs": [],
   "source": [
    "metric = load_metric(\"sacrebleu\")"
   ]
  },
  {
   "cell_type": "code",
   "execution_count": 21,
   "id": "150bb655",
   "metadata": {
    "execution": {
     "iopub.execute_input": "2023-10-29T11:10:52.211124Z",
     "iopub.status.busy": "2023-10-29T11:10:52.210439Z",
     "iopub.status.idle": "2023-10-29T11:10:56.683066Z",
     "shell.execute_reply": "2023-10-29T11:10:56.682208Z"
    },
    "id": "TlqNaB8jIrJW",
    "outputId": "84916cf3-6e6c-47f3-d081-032ec30a4132",
    "papermill": {
     "duration": 4.487885,
     "end_time": "2023-10-29T11:10:56.685069",
     "exception": false,
     "start_time": "2023-10-29T11:10:52.197184",
     "status": "completed"
    },
    "tags": [],
    "ExecuteTime": {
     "end_time": "2023-10-29T13:09:46.260297428Z",
     "start_time": "2023-10-29T13:09:44.422061996Z"
    }
   },
   "outputs": [],
   "source": [
    "model = transformers.AutoModelForSeq2SeqLM.from_pretrained(MODEL_CHECKPOINT)"
   ]
  },
  {
   "cell_type": "code",
   "execution_count": 22,
   "id": "81a35d69",
   "metadata": {
    "execution": {
     "iopub.execute_input": "2023-10-29T11:10:56.712279Z",
     "iopub.status.busy": "2023-10-29T11:10:56.711996Z",
     "iopub.status.idle": "2023-10-29T11:10:56.854556Z",
     "shell.execute_reply": "2023-10-29T11:10:56.853793Z"
    },
    "id": "Bliy8zgjIrJY",
    "papermill": {
     "duration": 0.158686,
     "end_time": "2023-10-29T11:10:56.856884",
     "exception": false,
     "start_time": "2023-10-29T11:10:56.698198",
     "status": "completed"
    },
    "tags": [],
    "ExecuteTime": {
     "end_time": "2023-10-29T13:09:46.836132615Z",
     "start_time": "2023-10-29T13:09:46.798702052Z"
    }
   },
   "outputs": [],
   "source": [
    "# defining the parameters for training\n",
    "batch_size = 25\n",
    "args = transformers.Seq2SeqTrainingArguments(\n",
    "    f\"{MODEL_CHECKPOINT}-finetuned-de-toxification\",\n",
    "    evaluation_strategy = \"epoch\",\n",
    "    learning_rate=2e-5,\n",
    "    per_device_train_batch_size=batch_size,\n",
    "    per_device_eval_batch_size=batch_size,\n",
    "    weight_decay=0.01,\n",
    "    save_total_limit=3,\n",
    "    num_train_epochs=EPOCHS,\n",
    "    predict_with_generate=True,\n",
    "    fp16=True,\n",
    "    report_to=['tensorboard'],\n",
    "    seed=SEED,\n",
    ")"
   ]
  },
  {
   "cell_type": "code",
   "execution_count": 23,
   "id": "89094c27",
   "metadata": {
    "execution": {
     "iopub.execute_input": "2023-10-29T11:10:56.884514Z",
     "iopub.status.busy": "2023-10-29T11:10:56.884205Z",
     "iopub.status.idle": "2023-10-29T11:10:56.917834Z",
     "shell.execute_reply": "2023-10-29T11:10:56.917110Z"
    },
    "papermill": {
     "duration": 0.049285,
     "end_time": "2023-10-29T11:10:56.920002",
     "exception": false,
     "start_time": "2023-10-29T11:10:56.870717",
     "status": "completed"
    },
    "tags": [],
    "ExecuteTime": {
     "end_time": "2023-10-29T13:09:48.044453069Z",
     "start_time": "2023-10-29T13:09:48.015642023Z"
    }
   },
   "outputs": [],
   "source": [
    "data_collator = transformers.DataCollatorForSeq2Seq(model_tokenizer, model=model)"
   ]
  },
  {
   "cell_type": "code",
   "execution_count": 24,
   "id": "cc9fd621",
   "metadata": {
    "execution": {
     "iopub.execute_input": "2023-10-29T11:10:56.948546Z",
     "iopub.status.busy": "2023-10-29T11:10:56.948286Z",
     "iopub.status.idle": "2023-10-29T11:10:56.957254Z",
     "shell.execute_reply": "2023-10-29T11:10:56.956491Z"
    },
    "id": "UmvbnJ9JIrJd",
    "papermill": {
     "duration": 0.026309,
     "end_time": "2023-10-29T11:10:56.959120",
     "exception": false,
     "start_time": "2023-10-29T11:10:56.932811",
     "status": "completed"
    },
    "tags": [],
    "ExecuteTime": {
     "end_time": "2023-10-29T13:09:48.686181923Z",
     "start_time": "2023-10-29T13:09:48.680645706Z"
    }
   },
   "outputs": [],
   "source": [
    "# simple postprocessing for text\n",
    "def postprocess_text(preds, labels):\n",
    "    preds = [pred.strip() for pred in preds]\n",
    "    labels = [[label.strip()] for label in labels]\n",
    "\n",
    "    return preds, labels\n",
    "\n",
    "# compute metrics function to pass to trainer\n",
    "def compute_metrics(eval_preds):\n",
    "    preds, labels = eval_preds\n",
    "    if isinstance(preds, tuple):\n",
    "        preds = preds[0]\n",
    "\n",
    "    decoded_preds = model_tokenizer.batch_decode(preds, skip_special_tokens=True)\n",
    "    \n",
    "    # Replace -100 in the labels as we can't decode them.\n",
    "    labels = np.where(labels != -100, labels, model_tokenizer.pad_token_id)\n",
    "    decoded_labels = model_tokenizer.batch_decode(labels, skip_special_tokens=True)\n",
    "\n",
    "    # Some simple post-processing\n",
    "    decoded_preds, decoded_labels = postprocess_text(decoded_preds, decoded_labels)\n",
    "\n",
    "    result = metric.compute(predictions=decoded_preds, references=decoded_labels)\n",
    "    result = {\"bleu\": result[\"score\"]}\n",
    "\n",
    "    prediction_lens = [np.count_nonzero(pred != model_tokenizer.pad_token_id) for pred in preds]\n",
    "    result[\"gen_len\"] = np.mean(prediction_lens)\n",
    "    result = {k: round(v, 4) for k, v in result.items()}\n",
    "    return result"
   ]
  },
  {
   "cell_type": "code",
   "execution_count": 25,
   "id": "7ec9ddc6",
   "metadata": {
    "execution": {
     "iopub.execute_input": "2023-10-29T11:10:56.985552Z",
     "iopub.status.busy": "2023-10-29T11:10:56.985245Z",
     "iopub.status.idle": "2023-10-29T11:11:04.954429Z",
     "shell.execute_reply": "2023-10-29T11:11:04.953336Z"
    },
    "id": "imY1oC3SIrJf",
    "papermill": {
     "duration": 7.985351,
     "end_time": "2023-10-29T11:11:04.957037",
     "exception": false,
     "start_time": "2023-10-29T11:10:56.971686",
     "status": "completed"
    },
    "tags": [],
    "ExecuteTime": {
     "end_time": "2023-10-29T13:09:50.246420289Z",
     "start_time": "2023-10-29T13:09:50.029814173Z"
    }
   },
   "outputs": [],
   "source": [
    "# instead of writing train loop we will use Seq2SeqTrainer\n",
    "trainer = transformers.Seq2SeqTrainer(\n",
    "    model,\n",
    "    args,\n",
    "    train_dataset=train_dataset,\n",
    "    eval_dataset=val_dataset,\n",
    "    data_collator=data_collator,\n",
    "    tokenizer=model_tokenizer,\n",
    "    compute_metrics=compute_metrics\n",
    ")"
   ]
  },
  {
   "cell_type": "code",
   "execution_count": 22,
   "id": "db7aaa9c",
   "metadata": {
    "ExecuteTime": {
     "end_time": "2023-10-29T10:19:48.029059807Z",
     "start_time": "2023-10-29T10:17:10.971521459Z"
    },
    "execution": {
     "iopub.execute_input": "2023-10-29T11:11:04.985918Z",
     "iopub.status.busy": "2023-10-29T11:11:04.985562Z",
     "iopub.status.idle": "2023-10-29T12:15:32.295516Z",
     "shell.execute_reply": "2023-10-29T12:15:32.294598Z"
    },
    "id": "uNx5pyRlIrJh",
    "outputId": "077e661e-d36c-469b-89b8-7ff7f73541ec",
    "papermill": {
     "duration": 3867.325851,
     "end_time": "2023-10-29T12:15:32.297583",
     "exception": false,
     "start_time": "2023-10-29T11:11:04.971732",
     "status": "completed"
    },
    "tags": []
   },
   "outputs": [
    {
     "name": "stderr",
     "output_type": "stream",
     "text": [
      "You're using a T5TokenizerFast tokenizer. Please note that with a fast tokenizer, using the `__call__` method is faster than using a method to encode the text followed by a call to the `pad` method to get a padded encoding.\n"
     ]
    },
    {
     "data": {
      "text/html": [
       "\n",
       "    <div>\n",
       "      \n",
       "      <progress value='13500' max='13500' style='width:300px; height:20px; vertical-align: middle;'></progress>\n",
       "      [13500/13500 1:04:19, Epoch 15/15]\n",
       "    </div>\n",
       "    <table border=\"1\" class=\"dataframe\">\n",
       "  <thead>\n",
       " <tr style=\"text-align: left;\">\n",
       "      <th>Epoch</th>\n",
       "      <th>Training Loss</th>\n",
       "      <th>Validation Loss</th>\n",
       "      <th>Bleu</th>\n",
       "      <th>Gen Len</th>\n",
       "    </tr>\n",
       "  </thead>\n",
       "  <tbody>\n",
       "    <tr>\n",
       "      <td>1</td>\n",
       "      <td>2.125500</td>\n",
       "      <td>1.714027</td>\n",
       "      <td>23.607900</td>\n",
       "      <td>13.265800</td>\n",
       "    </tr>\n",
       "    <tr>\n",
       "      <td>2</td>\n",
       "      <td>1.836600</td>\n",
       "      <td>1.656125</td>\n",
       "      <td>24.516800</td>\n",
       "      <td>13.215600</td>\n",
       "    </tr>\n",
       "    <tr>\n",
       "      <td>3</td>\n",
       "      <td>1.773000</td>\n",
       "      <td>1.627491</td>\n",
       "      <td>24.742000</td>\n",
       "      <td>13.204400</td>\n",
       "    </tr>\n",
       "    <tr>\n",
       "      <td>4</td>\n",
       "      <td>1.752800</td>\n",
       "      <td>1.610212</td>\n",
       "      <td>24.966800</td>\n",
       "      <td>13.119400</td>\n",
       "    </tr>\n",
       "    <tr>\n",
       "      <td>5</td>\n",
       "      <td>1.720500</td>\n",
       "      <td>1.595325</td>\n",
       "      <td>25.221800</td>\n",
       "      <td>13.114200</td>\n",
       "    </tr>\n",
       "    <tr>\n",
       "      <td>6</td>\n",
       "      <td>1.706400</td>\n",
       "      <td>1.585188</td>\n",
       "      <td>25.343100</td>\n",
       "      <td>13.093600</td>\n",
       "    </tr>\n",
       "    <tr>\n",
       "      <td>7</td>\n",
       "      <td>1.694800</td>\n",
       "      <td>1.577094</td>\n",
       "      <td>25.447300</td>\n",
       "      <td>13.088600</td>\n",
       "    </tr>\n",
       "    <tr>\n",
       "      <td>8</td>\n",
       "      <td>1.681600</td>\n",
       "      <td>1.570604</td>\n",
       "      <td>25.522300</td>\n",
       "      <td>13.100000</td>\n",
       "    </tr>\n",
       "    <tr>\n",
       "      <td>9</td>\n",
       "      <td>1.672200</td>\n",
       "      <td>1.565133</td>\n",
       "      <td>25.663900</td>\n",
       "      <td>13.067400</td>\n",
       "    </tr>\n",
       "    <tr>\n",
       "      <td>10</td>\n",
       "      <td>1.663400</td>\n",
       "      <td>1.562667</td>\n",
       "      <td>25.707100</td>\n",
       "      <td>13.035400</td>\n",
       "    </tr>\n",
       "    <tr>\n",
       "      <td>11</td>\n",
       "      <td>1.659800</td>\n",
       "      <td>1.558728</td>\n",
       "      <td>25.662800</td>\n",
       "      <td>13.063800</td>\n",
       "    </tr>\n",
       "    <tr>\n",
       "      <td>12</td>\n",
       "      <td>1.657500</td>\n",
       "      <td>1.556531</td>\n",
       "      <td>25.668000</td>\n",
       "      <td>13.062000</td>\n",
       "    </tr>\n",
       "    <tr>\n",
       "      <td>13</td>\n",
       "      <td>1.648600</td>\n",
       "      <td>1.554811</td>\n",
       "      <td>25.679000</td>\n",
       "      <td>13.048800</td>\n",
       "    </tr>\n",
       "    <tr>\n",
       "      <td>14</td>\n",
       "      <td>1.650800</td>\n",
       "      <td>1.554036</td>\n",
       "      <td>25.685600</td>\n",
       "      <td>13.050600</td>\n",
       "    </tr>\n",
       "    <tr>\n",
       "      <td>15</td>\n",
       "      <td>1.644200</td>\n",
       "      <td>1.553554</td>\n",
       "      <td>25.676400</td>\n",
       "      <td>13.048400</td>\n",
       "    </tr>\n",
       "  </tbody>\n",
       "</table><p>"
      ],
      "text/plain": [
       "<IPython.core.display.HTML object>"
      ]
     },
     "metadata": {},
     "output_type": "display_data"
    },
    {
     "data": {
      "text/plain": [
       "TrainOutput(global_step=13500, training_loss=1.7195449806495948, metrics={'train_runtime': 3867.0013, 'train_samples_per_second': 174.554, 'train_steps_per_second': 3.491, 'total_flos': 9233126075596800.0, 'train_loss': 1.7195449806495948, 'epoch': 15.0})"
      ]
     },
     "execution_count": 22,
     "metadata": {},
     "output_type": "execute_result"
    }
   ],
   "source": [
    "trainer.train()"
   ]
  },
  {
   "cell_type": "code",
   "execution_count": 23,
   "id": "0e7fa012",
   "metadata": {
    "execution": {
     "iopub.execute_input": "2023-10-29T12:15:32.326463Z",
     "iopub.status.busy": "2023-10-29T12:15:32.325636Z",
     "iopub.status.idle": "2023-10-29T12:15:32.753742Z",
     "shell.execute_reply": "2023-10-29T12:15:32.752725Z"
    },
    "papermill": {
     "duration": 0.444838,
     "end_time": "2023-10-29T12:15:32.756286",
     "exception": false,
     "start_time": "2023-10-29T12:15:32.311448",
     "status": "completed"
    },
    "tags": []
   },
   "outputs": [],
   "source": [
    "# saving model\n",
    "trainer.save_model(model_cktp_path)"
   ]
  },
  {
   "cell_type": "code",
   "execution_count": 27,
   "id": "a4472816",
   "metadata": {
    "execution": {
     "iopub.execute_input": "2023-10-29T12:15:32.783675Z",
     "iopub.status.busy": "2023-10-29T12:15:32.783363Z",
     "iopub.status.idle": "2023-10-29T12:15:33.785578Z",
     "shell.execute_reply": "2023-10-29T12:15:33.784638Z"
    },
    "papermill": {
     "duration": 1.018475,
     "end_time": "2023-10-29T12:15:33.787976",
     "exception": false,
     "start_time": "2023-10-29T12:15:32.769501",
     "status": "completed"
    },
    "tags": [],
    "ExecuteTime": {
     "end_time": "2023-10-29T13:10:58.971019113Z",
     "start_time": "2023-10-29T13:10:58.193633730Z"
    }
   },
   "outputs": [],
   "source": [
    "# loading the model and run inference for it\n",
    "ModelType = transformers.models.t5.modeling_t5.T5ForConditionalGeneration\n",
    "model = transformers.AutoModelForSeq2SeqLM.from_pretrained(model_cktp_path)\n",
    "model.eval()\n",
    "model.config.use_cache = False"
   ]
  },
  {
   "cell_type": "code",
   "execution_count": 28,
   "id": "b0a7715f",
   "metadata": {
    "execution": {
     "iopub.execute_input": "2023-10-29T12:15:33.815924Z",
     "iopub.status.busy": "2023-10-29T12:15:33.815542Z",
     "iopub.status.idle": "2023-10-29T12:15:33.821312Z",
     "shell.execute_reply": "2023-10-29T12:15:33.820385Z"
    },
    "papermill": {
     "duration": 0.022192,
     "end_time": "2023-10-29T12:15:33.823529",
     "exception": false,
     "start_time": "2023-10-29T12:15:33.801337",
     "status": "completed"
    },
    "tags": [],
    "ExecuteTime": {
     "end_time": "2023-10-29T13:11:00.259109256Z",
     "start_time": "2023-10-29T13:11:00.247837473Z"
    }
   },
   "outputs": [],
   "source": [
    "def de_toxification(model: ModelType, inference_request: str, tokenizer: ModelTokenizer) -> str:\n",
    "    input_ids = tokenizer(inference_request, return_tensors=\"pt\").input_ids\n",
    "    outputs = model.generate(input_ids=input_ids)\n",
    "    return tokenizer.decode(outputs[0], skip_special_tokens=True, temperature=0)"
   ]
  },
  {
   "cell_type": "code",
   "execution_count": 33,
   "id": "4b6f9e6b",
   "metadata": {
    "execution": {
     "iopub.execute_input": "2023-10-29T12:15:33.850722Z",
     "iopub.status.busy": "2023-10-29T12:15:33.850443Z",
     "iopub.status.idle": "2023-10-29T12:15:34.422767Z",
     "shell.execute_reply": "2023-10-29T12:15:34.421546Z"
    },
    "papermill": {
     "duration": 0.588583,
     "end_time": "2023-10-29T12:15:34.424857",
     "exception": false,
     "start_time": "2023-10-29T12:15:33.836274",
     "status": "completed"
    },
    "tags": [],
    "ExecuteTime": {
     "end_time": "2023-10-29T13:14:57.676484168Z",
     "start_time": "2023-10-29T13:14:57.571653039Z"
    }
   },
   "outputs": [
    {
     "name": "stdout",
     "output_type": "stream",
     "text": [
      "Bob is a bad guy!\n"
     ]
    }
   ],
   "source": [
    "inference_request = 'Bob is stupid bastard!'\n",
    "de_tox = de_toxification(model, inference_request, model_tokenizer)\n",
    "print(de_tox)"
   ]
  },
  {
   "cell_type": "code",
   "execution_count": null,
   "outputs": [],
   "source": [],
   "metadata": {
    "collapsed": false
   },
   "id": "2c4b901713e0a000"
  }
 ],
 "metadata": {
  "kernelspec": {
   "display_name": "Python 3",
   "language": "python",
   "name": "python3"
  },
  "language_info": {
   "codemirror_mode": {
    "name": "ipython",
    "version": 3
   },
   "file_extension": ".py",
   "mimetype": "text/x-python",
   "name": "python",
   "nbconvert_exporter": "python",
   "pygments_lexer": "ipython3",
   "version": "3.10.12"
  },
  "papermill": {
   "default_parameters": {},
   "duration": 3945.043737,
   "end_time": "2023-10-29T12:15:38.039877",
   "environment_variables": {},
   "exception": null,
   "input_path": "__notebook__.ipynb",
   "output_path": "__notebook__.ipynb",
   "parameters": {},
   "start_time": "2023-10-29T11:09:52.996140",
   "version": "2.4.0"
  },
  "widgets": {
   "application/vnd.jupyter.widget-state+json": {
    "state": {
     "01ed06f817044ee69f1da5e98e06d3c5": {
      "model_module": "@jupyter-widgets/base",
      "model_module_version": "1.2.0",
      "model_name": "LayoutModel",
      "state": {
       "_model_module": "@jupyter-widgets/base",
       "_model_module_version": "1.2.0",
       "_model_name": "LayoutModel",
       "_view_count": null,
       "_view_module": "@jupyter-widgets/base",
       "_view_module_version": "1.2.0",
       "_view_name": "LayoutView",
       "align_content": null,
       "align_items": null,
       "align_self": null,
       "border": null,
       "bottom": null,
       "display": null,
       "flex": null,
       "flex_flow": null,
       "grid_area": null,
       "grid_auto_columns": null,
       "grid_auto_flow": null,
       "grid_auto_rows": null,
       "grid_column": null,
       "grid_gap": null,
       "grid_row": null,
       "grid_template_areas": null,
       "grid_template_columns": null,
       "grid_template_rows": null,
       "height": null,
       "justify_content": null,
       "justify_items": null,
       "left": null,
       "margin": null,
       "max_height": null,
       "max_width": null,
       "min_height": null,
       "min_width": null,
       "object_fit": null,
       "object_position": null,
       "order": null,
       "overflow": null,
       "overflow_x": null,
       "overflow_y": null,
       "padding": null,
       "right": null,
       "top": null,
       "visibility": null,
       "width": null
      }
     },
     "05760433873f4c5d881cd89de300c176": {
      "model_module": "@jupyter-widgets/controls",
      "model_module_version": "1.5.0",
      "model_name": "HBoxModel",
      "state": {
       "_dom_classes": [],
       "_model_module": "@jupyter-widgets/controls",
       "_model_module_version": "1.5.0",
       "_model_name": "HBoxModel",
       "_view_count": null,
       "_view_module": "@jupyter-widgets/controls",
       "_view_module_version": "1.5.0",
       "_view_name": "HBoxView",
       "box_style": "",
       "children": [
        "IPY_MODEL_25372261518e4d6b9cf4a773daf51ab0",
        "IPY_MODEL_3cb726b71ebc457c9a48a9bbd6dc8988",
        "IPY_MODEL_5494c4e6b8be4b3bb81295a4dcbc96e4"
       ],
       "layout": "IPY_MODEL_2dc89c118714467393bbb39de5944362"
      }
     },
     "0b62716c6a30491cbb4653ba31a6a6da": {
      "model_module": "@jupyter-widgets/controls",
      "model_module_version": "1.5.0",
      "model_name": "ProgressStyleModel",
      "state": {
       "_model_module": "@jupyter-widgets/controls",
       "_model_module_version": "1.5.0",
       "_model_name": "ProgressStyleModel",
       "_view_count": null,
       "_view_module": "@jupyter-widgets/base",
       "_view_module_version": "1.2.0",
       "_view_name": "StyleView",
       "bar_color": null,
       "description_width": ""
      }
     },
     "154fc94898584b57af4c563b2738ac4e": {
      "model_module": "@jupyter-widgets/controls",
      "model_module_version": "1.5.0",
      "model_name": "DescriptionStyleModel",
      "state": {
       "_model_module": "@jupyter-widgets/controls",
       "_model_module_version": "1.5.0",
       "_model_name": "DescriptionStyleModel",
       "_view_count": null,
       "_view_module": "@jupyter-widgets/base",
       "_view_module_version": "1.2.0",
       "_view_name": "StyleView",
       "description_width": ""
      }
     },
     "15b0d704224349c1a5af2122ca58acaf": {
      "model_module": "@jupyter-widgets/controls",
      "model_module_version": "1.5.0",
      "model_name": "DescriptionStyleModel",
      "state": {
       "_model_module": "@jupyter-widgets/controls",
       "_model_module_version": "1.5.0",
       "_model_name": "DescriptionStyleModel",
       "_view_count": null,
       "_view_module": "@jupyter-widgets/base",
       "_view_module_version": "1.2.0",
       "_view_name": "StyleView",
       "description_width": ""
      }
     },
     "15febc62b14b423dafc0eb39d6b50a54": {
      "model_module": "@jupyter-widgets/controls",
      "model_module_version": "1.5.0",
      "model_name": "HTMLModel",
      "state": {
       "_dom_classes": [],
       "_model_module": "@jupyter-widgets/controls",
       "_model_module_version": "1.5.0",
       "_model_name": "HTMLModel",
       "_view_count": null,
       "_view_module": "@jupyter-widgets/controls",
       "_view_module_version": "1.5.0",
       "_view_name": "HTMLView",
       "description": "",
       "description_tooltip": null,
       "layout": "IPY_MODEL_c55b579ff89b456b8cc36177ddaf2f8c",
       "placeholder": "​",
       "style": "IPY_MODEL_154fc94898584b57af4c563b2738ac4e",
       "value": " 147/147 [00:00&lt;00:00, 12.5kB/s]"
      }
     },
     "18b42b87cbab4f89a7d837edf283ca1f": {
      "model_module": "@jupyter-widgets/base",
      "model_module_version": "1.2.0",
      "model_name": "LayoutModel",
      "state": {
       "_model_module": "@jupyter-widgets/base",
       "_model_module_version": "1.2.0",
       "_model_name": "LayoutModel",
       "_view_count": null,
       "_view_module": "@jupyter-widgets/base",
       "_view_module_version": "1.2.0",
       "_view_name": "LayoutView",
       "align_content": null,
       "align_items": null,
       "align_self": null,
       "border": null,
       "bottom": null,
       "display": null,
       "flex": null,
       "flex_flow": null,
       "grid_area": null,
       "grid_auto_columns": null,
       "grid_auto_flow": null,
       "grid_auto_rows": null,
       "grid_column": null,
       "grid_gap": null,
       "grid_row": null,
       "grid_template_areas": null,
       "grid_template_columns": null,
       "grid_template_rows": null,
       "height": null,
       "justify_content": null,
       "justify_items": null,
       "left": null,
       "margin": null,
       "max_height": null,
       "max_width": null,
       "min_height": null,
       "min_width": null,
       "object_fit": null,
       "object_position": null,
       "order": null,
       "overflow": null,
       "overflow_x": null,
       "overflow_y": null,
       "padding": null,
       "right": null,
       "top": null,
       "visibility": null,
       "width": null
      }
     },
     "1930ba58b94f4ac681fa986487e916b9": {
      "model_module": "@jupyter-widgets/controls",
      "model_module_version": "1.5.0",
      "model_name": "HTMLModel",
      "state": {
       "_dom_classes": [],
       "_model_module": "@jupyter-widgets/controls",
       "_model_module_version": "1.5.0",
       "_model_name": "HTMLModel",
       "_view_count": null,
       "_view_module": "@jupyter-widgets/controls",
       "_view_module_version": "1.5.0",
       "_view_name": "HTMLView",
       "description": "",
       "description_tooltip": null,
       "layout": "IPY_MODEL_26ed6629e298476eab952ffb48d5621a",
       "placeholder": "​",
       "style": "IPY_MODEL_66a313be0a5d49f79b35f717ba34704e",
       "value": "Downloading (…)/main/tokenizer.json: 100%"
      }
     },
     "1aa89bee86a042f4b2d6b403fbf59d51": {
      "model_module": "@jupyter-widgets/controls",
      "model_module_version": "1.5.0",
      "model_name": "ProgressStyleModel",
      "state": {
       "_model_module": "@jupyter-widgets/controls",
       "_model_module_version": "1.5.0",
       "_model_name": "ProgressStyleModel",
       "_view_count": null,
       "_view_module": "@jupyter-widgets/base",
       "_view_module_version": "1.2.0",
       "_view_name": "StyleView",
       "bar_color": null,
       "description_width": ""
      }
     },
     "1aa94db0cce448d4830bb5a3661257a2": {
      "model_module": "@jupyter-widgets/controls",
      "model_module_version": "1.5.0",
      "model_name": "HTMLModel",
      "state": {
       "_dom_classes": [],
       "_model_module": "@jupyter-widgets/controls",
       "_model_module_version": "1.5.0",
       "_model_name": "HTMLModel",
       "_view_count": null,
       "_view_module": "@jupyter-widgets/controls",
       "_view_module_version": "1.5.0",
       "_view_name": "HTMLView",
       "description": "",
       "description_tooltip": null,
       "layout": "IPY_MODEL_1fd11207755d4dda989390cfb54149d6",
       "placeholder": "​",
       "style": "IPY_MODEL_1e9cba38c5d14567973eb68e2cc1838c",
       "value": "Downloading (…)lve/main/config.json: 100%"
      }
     },
     "1db95a8129024c0f9b1219c147075e72": {
      "model_module": "@jupyter-widgets/controls",
      "model_module_version": "1.5.0",
      "model_name": "HTMLModel",
      "state": {
       "_dom_classes": [],
       "_model_module": "@jupyter-widgets/controls",
       "_model_module_version": "1.5.0",
       "_model_name": "HTMLModel",
       "_view_count": null,
       "_view_module": "@jupyter-widgets/controls",
       "_view_module_version": "1.5.0",
       "_view_name": "HTMLView",
       "description": "",
       "description_tooltip": null,
       "layout": "IPY_MODEL_4964eb16aa6f4ca2875321e3633ed3d1",
       "placeholder": "​",
       "style": "IPY_MODEL_7668de0b6088471a957ca470b3483423",
       "value": "Downloading model.safetensors: 100%"
      }
     },
     "1e9cba38c5d14567973eb68e2cc1838c": {
      "model_module": "@jupyter-widgets/controls",
      "model_module_version": "1.5.0",
      "model_name": "DescriptionStyleModel",
      "state": {
       "_model_module": "@jupyter-widgets/controls",
       "_model_module_version": "1.5.0",
       "_model_name": "DescriptionStyleModel",
       "_view_count": null,
       "_view_module": "@jupyter-widgets/base",
       "_view_module_version": "1.2.0",
       "_view_name": "StyleView",
       "description_width": ""
      }
     },
     "1fd11207755d4dda989390cfb54149d6": {
      "model_module": "@jupyter-widgets/base",
      "model_module_version": "1.2.0",
      "model_name": "LayoutModel",
      "state": {
       "_model_module": "@jupyter-widgets/base",
       "_model_module_version": "1.2.0",
       "_model_name": "LayoutModel",
       "_view_count": null,
       "_view_module": "@jupyter-widgets/base",
       "_view_module_version": "1.2.0",
       "_view_name": "LayoutView",
       "align_content": null,
       "align_items": null,
       "align_self": null,
       "border": null,
       "bottom": null,
       "display": null,
       "flex": null,
       "flex_flow": null,
       "grid_area": null,
       "grid_auto_columns": null,
       "grid_auto_flow": null,
       "grid_auto_rows": null,
       "grid_column": null,
       "grid_gap": null,
       "grid_row": null,
       "grid_template_areas": null,
       "grid_template_columns": null,
       "grid_template_rows": null,
       "height": null,
       "justify_content": null,
       "justify_items": null,
       "left": null,
       "margin": null,
       "max_height": null,
       "max_width": null,
       "min_height": null,
       "min_width": null,
       "object_fit": null,
       "object_position": null,
       "order": null,
       "overflow": null,
       "overflow_x": null,
       "overflow_y": null,
       "padding": null,
       "right": null,
       "top": null,
       "visibility": null,
       "width": null
      }
     },
     "213bba4af76b499e86f85f8968fad62e": {
      "model_module": "@jupyter-widgets/base",
      "model_module_version": "1.2.0",
      "model_name": "LayoutModel",
      "state": {
       "_model_module": "@jupyter-widgets/base",
       "_model_module_version": "1.2.0",
       "_model_name": "LayoutModel",
       "_view_count": null,
       "_view_module": "@jupyter-widgets/base",
       "_view_module_version": "1.2.0",
       "_view_name": "LayoutView",
       "align_content": null,
       "align_items": null,
       "align_self": null,
       "border": null,
       "bottom": null,
       "display": null,
       "flex": null,
       "flex_flow": null,
       "grid_area": null,
       "grid_auto_columns": null,
       "grid_auto_flow": null,
       "grid_auto_rows": null,
       "grid_column": null,
       "grid_gap": null,
       "grid_row": null,
       "grid_template_areas": null,
       "grid_template_columns": null,
       "grid_template_rows": null,
       "height": null,
       "justify_content": null,
       "justify_items": null,
       "left": null,
       "margin": null,
       "max_height": null,
       "max_width": null,
       "min_height": null,
       "min_width": null,
       "object_fit": null,
       "object_position": null,
       "order": null,
       "overflow": null,
       "overflow_x": null,
       "overflow_y": null,
       "padding": null,
       "right": null,
       "top": null,
       "visibility": null,
       "width": null
      }
     },
     "24452213f09944d9a98ec3708b059875": {
      "model_module": "@jupyter-widgets/base",
      "model_module_version": "1.2.0",
      "model_name": "LayoutModel",
      "state": {
       "_model_module": "@jupyter-widgets/base",
       "_model_module_version": "1.2.0",
       "_model_name": "LayoutModel",
       "_view_count": null,
       "_view_module": "@jupyter-widgets/base",
       "_view_module_version": "1.2.0",
       "_view_name": "LayoutView",
       "align_content": null,
       "align_items": null,
       "align_self": null,
       "border": null,
       "bottom": null,
       "display": null,
       "flex": null,
       "flex_flow": null,
       "grid_area": null,
       "grid_auto_columns": null,
       "grid_auto_flow": null,
       "grid_auto_rows": null,
       "grid_column": null,
       "grid_gap": null,
       "grid_row": null,
       "grid_template_areas": null,
       "grid_template_columns": null,
       "grid_template_rows": null,
       "height": null,
       "justify_content": null,
       "justify_items": null,
       "left": null,
       "margin": null,
       "max_height": null,
       "max_width": null,
       "min_height": null,
       "min_width": null,
       "object_fit": null,
       "object_position": null,
       "order": null,
       "overflow": null,
       "overflow_x": null,
       "overflow_y": null,
       "padding": null,
       "right": null,
       "top": null,
       "visibility": null,
       "width": null
      }
     },
     "25372261518e4d6b9cf4a773daf51ab0": {
      "model_module": "@jupyter-widgets/controls",
      "model_module_version": "1.5.0",
      "model_name": "HTMLModel",
      "state": {
       "_dom_classes": [],
       "_model_module": "@jupyter-widgets/controls",
       "_model_module_version": "1.5.0",
       "_model_name": "HTMLModel",
       "_view_count": null,
       "_view_module": "@jupyter-widgets/controls",
       "_view_module_version": "1.5.0",
       "_view_name": "HTMLView",
       "description": "",
       "description_tooltip": null,
       "layout": "IPY_MODEL_be20e43059e946d1ac0386c05a01b29e",
       "placeholder": "​",
       "style": "IPY_MODEL_82d862178ce34c74880fddc656f9c9bf",
       "value": "Downloading (…)ve/main/spiece.model: 100%"
      }
     },
     "26ed6629e298476eab952ffb48d5621a": {
      "model_module": "@jupyter-widgets/base",
      "model_module_version": "1.2.0",
      "model_name": "LayoutModel",
      "state": {
       "_model_module": "@jupyter-widgets/base",
       "_model_module_version": "1.2.0",
       "_model_name": "LayoutModel",
       "_view_count": null,
       "_view_module": "@jupyter-widgets/base",
       "_view_module_version": "1.2.0",
       "_view_name": "LayoutView",
       "align_content": null,
       "align_items": null,
       "align_self": null,
       "border": null,
       "bottom": null,
       "display": null,
       "flex": null,
       "flex_flow": null,
       "grid_area": null,
       "grid_auto_columns": null,
       "grid_auto_flow": null,
       "grid_auto_rows": null,
       "grid_column": null,
       "grid_gap": null,
       "grid_row": null,
       "grid_template_areas": null,
       "grid_template_columns": null,
       "grid_template_rows": null,
       "height": null,
       "justify_content": null,
       "justify_items": null,
       "left": null,
       "margin": null,
       "max_height": null,
       "max_width": null,
       "min_height": null,
       "min_width": null,
       "object_fit": null,
       "object_position": null,
       "order": null,
       "overflow": null,
       "overflow_x": null,
       "overflow_y": null,
       "padding": null,
       "right": null,
       "top": null,
       "visibility": null,
       "width": null
      }
     },
     "2a00f0eea75e4b59bc51f86933cea469": {
      "model_module": "@jupyter-widgets/controls",
      "model_module_version": "1.5.0",
      "model_name": "HTMLModel",
      "state": {
       "_dom_classes": [],
       "_model_module": "@jupyter-widgets/controls",
       "_model_module_version": "1.5.0",
       "_model_name": "HTMLModel",
       "_view_count": null,
       "_view_module": "@jupyter-widgets/controls",
       "_view_module_version": "1.5.0",
       "_view_name": "HTMLView",
       "description": "",
       "description_tooltip": null,
       "layout": "IPY_MODEL_ef5469ae0850417e9d0dd1493ffb1cb6",
       "placeholder": "​",
       "style": "IPY_MODEL_e42882bb4b17450f83725536955ec48e",
       "value": " 1.21k/1.21k [00:00&lt;00:00, 75.0kB/s]"
      }
     },
     "2b9b3be97a2e444190dd40b89b9520cd": {
      "model_module": "@jupyter-widgets/controls",
      "model_module_version": "1.5.0",
      "model_name": "DescriptionStyleModel",
      "state": {
       "_model_module": "@jupyter-widgets/controls",
       "_model_module_version": "1.5.0",
       "_model_name": "DescriptionStyleModel",
       "_view_count": null,
       "_view_module": "@jupyter-widgets/base",
       "_view_module_version": "1.2.0",
       "_view_name": "StyleView",
       "description_width": ""
      }
     },
     "2c9d3ac62f0b43c9a6017fd67a5f7797": {
      "model_module": "@jupyter-widgets/controls",
      "model_module_version": "1.5.0",
      "model_name": "FloatProgressModel",
      "state": {
       "_dom_classes": [],
       "_model_module": "@jupyter-widgets/controls",
       "_model_module_version": "1.5.0",
       "_model_name": "FloatProgressModel",
       "_view_count": null,
       "_view_module": "@jupyter-widgets/controls",
       "_view_module_version": "1.5.0",
       "_view_name": "ProgressView",
       "bar_style": "success",
       "description": "",
       "description_tooltip": null,
       "layout": "IPY_MODEL_d5b308e0e25d4259b4b5b4dd301fc85f",
       "max": 1389353.0,
       "min": 0.0,
       "orientation": "horizontal",
       "style": "IPY_MODEL_610f47f4cc70486da8ca3159eb6cca73",
       "value": 1389353.0
      }
     },
     "2dc89c118714467393bbb39de5944362": {
      "model_module": "@jupyter-widgets/base",
      "model_module_version": "1.2.0",
      "model_name": "LayoutModel",
      "state": {
       "_model_module": "@jupyter-widgets/base",
       "_model_module_version": "1.2.0",
       "_model_name": "LayoutModel",
       "_view_count": null,
       "_view_module": "@jupyter-widgets/base",
       "_view_module_version": "1.2.0",
       "_view_name": "LayoutView",
       "align_content": null,
       "align_items": null,
       "align_self": null,
       "border": null,
       "bottom": null,
       "display": null,
       "flex": null,
       "flex_flow": null,
       "grid_area": null,
       "grid_auto_columns": null,
       "grid_auto_flow": null,
       "grid_auto_rows": null,
       "grid_column": null,
       "grid_gap": null,
       "grid_row": null,
       "grid_template_areas": null,
       "grid_template_columns": null,
       "grid_template_rows": null,
       "height": null,
       "justify_content": null,
       "justify_items": null,
       "left": null,
       "margin": null,
       "max_height": null,
       "max_width": null,
       "min_height": null,
       "min_width": null,
       "object_fit": null,
       "object_position": null,
       "order": null,
       "overflow": null,
       "overflow_x": null,
       "overflow_y": null,
       "padding": null,
       "right": null,
       "top": null,
       "visibility": null,
       "width": null
      }
     },
     "32432268e96a4ace9b2342f85b3ff03a": {
      "model_module": "@jupyter-widgets/base",
      "model_module_version": "1.2.0",
      "model_name": "LayoutModel",
      "state": {
       "_model_module": "@jupyter-widgets/base",
       "_model_module_version": "1.2.0",
       "_model_name": "LayoutModel",
       "_view_count": null,
       "_view_module": "@jupyter-widgets/base",
       "_view_module_version": "1.2.0",
       "_view_name": "LayoutView",
       "align_content": null,
       "align_items": null,
       "align_self": null,
       "border": null,
       "bottom": null,
       "display": null,
       "flex": null,
       "flex_flow": null,
       "grid_area": null,
       "grid_auto_columns": null,
       "grid_auto_flow": null,
       "grid_auto_rows": null,
       "grid_column": null,
       "grid_gap": null,
       "grid_row": null,
       "grid_template_areas": null,
       "grid_template_columns": null,
       "grid_template_rows": null,
       "height": null,
       "justify_content": null,
       "justify_items": null,
       "left": null,
       "margin": null,
       "max_height": null,
       "max_width": null,
       "min_height": null,
       "min_width": null,
       "object_fit": null,
       "object_position": null,
       "order": null,
       "overflow": null,
       "overflow_x": null,
       "overflow_y": null,
       "padding": null,
       "right": null,
       "top": null,
       "visibility": null,
       "width": null
      }
     },
     "32d8df7dbd204e5c80ef61d179fe371f": {
      "model_module": "@jupyter-widgets/base",
      "model_module_version": "1.2.0",
      "model_name": "LayoutModel",
      "state": {
       "_model_module": "@jupyter-widgets/base",
       "_model_module_version": "1.2.0",
       "_model_name": "LayoutModel",
       "_view_count": null,
       "_view_module": "@jupyter-widgets/base",
       "_view_module_version": "1.2.0",
       "_view_name": "LayoutView",
       "align_content": null,
       "align_items": null,
       "align_self": null,
       "border": null,
       "bottom": null,
       "display": null,
       "flex": null,
       "flex_flow": null,
       "grid_area": null,
       "grid_auto_columns": null,
       "grid_auto_flow": null,
       "grid_auto_rows": null,
       "grid_column": null,
       "grid_gap": null,
       "grid_row": null,
       "grid_template_areas": null,
       "grid_template_columns": null,
       "grid_template_rows": null,
       "height": null,
       "justify_content": null,
       "justify_items": null,
       "left": null,
       "margin": null,
       "max_height": null,
       "max_width": null,
       "min_height": null,
       "min_width": null,
       "object_fit": null,
       "object_position": null,
       "order": null,
       "overflow": null,
       "overflow_x": null,
       "overflow_y": null,
       "padding": null,
       "right": null,
       "top": null,
       "visibility": null,
       "width": null
      }
     },
     "3a2fe56f53d84c6684ffa89e1adbd2ba": {
      "model_module": "@jupyter-widgets/controls",
      "model_module_version": "1.5.0",
      "model_name": "FloatProgressModel",
      "state": {
       "_dom_classes": [],
       "_model_module": "@jupyter-widgets/controls",
       "_model_module_version": "1.5.0",
       "_model_name": "FloatProgressModel",
       "_view_count": null,
       "_view_module": "@jupyter-widgets/controls",
       "_view_module_version": "1.5.0",
       "_view_name": "ProgressView",
       "bar_style": "success",
       "description": "",
       "description_tooltip": null,
       "layout": "IPY_MODEL_c8c0783f0ef5456e81a73ae1297b4212",
       "max": 1206.0,
       "min": 0.0,
       "orientation": "horizontal",
       "style": "IPY_MODEL_91ca66a37cee41aa8a862d0580ab6a83",
       "value": 1206.0
      }
     },
     "3cb726b71ebc457c9a48a9bbd6dc8988": {
      "model_module": "@jupyter-widgets/controls",
      "model_module_version": "1.5.0",
      "model_name": "FloatProgressModel",
      "state": {
       "_dom_classes": [],
       "_model_module": "@jupyter-widgets/controls",
       "_model_module_version": "1.5.0",
       "_model_name": "FloatProgressModel",
       "_view_count": null,
       "_view_module": "@jupyter-widgets/controls",
       "_view_module_version": "1.5.0",
       "_view_name": "ProgressView",
       "bar_style": "success",
       "description": "",
       "description_tooltip": null,
       "layout": "IPY_MODEL_d632afbb03394f2ca1eb1f852cad6cbc",
       "max": 791656.0,
       "min": 0.0,
       "orientation": "horizontal",
       "style": "IPY_MODEL_1aa89bee86a042f4b2d6b403fbf59d51",
       "value": 791656.0
      }
     },
     "3e40b730d6524927bf1bcff067b9be5d": {
      "model_module": "@jupyter-widgets/controls",
      "model_module_version": "1.5.0",
      "model_name": "DescriptionStyleModel",
      "state": {
       "_model_module": "@jupyter-widgets/controls",
       "_model_module_version": "1.5.0",
       "_model_name": "DescriptionStyleModel",
       "_view_count": null,
       "_view_module": "@jupyter-widgets/base",
       "_view_module_version": "1.2.0",
       "_view_name": "StyleView",
       "description_width": ""
      }
     },
     "41fe918067794b63a87b8afc319863a3": {
      "model_module": "@jupyter-widgets/controls",
      "model_module_version": "1.5.0",
      "model_name": "HBoxModel",
      "state": {
       "_dom_classes": [],
       "_model_module": "@jupyter-widgets/controls",
       "_model_module_version": "1.5.0",
       "_model_name": "HBoxModel",
       "_view_count": null,
       "_view_module": "@jupyter-widgets/controls",
       "_view_module_version": "1.5.0",
       "_view_name": "HBoxView",
       "box_style": "",
       "children": [
        "IPY_MODEL_ee575cc254a642b4925ba93e3548c639",
        "IPY_MODEL_80238878d05b4a788fb513da3443b6ad",
        "IPY_MODEL_15febc62b14b423dafc0eb39d6b50a54"
       ],
       "layout": "IPY_MODEL_32432268e96a4ace9b2342f85b3ff03a"
      }
     },
     "46f540c600884b9ab13b3fa223d946c0": {
      "model_module": "@jupyter-widgets/base",
      "model_module_version": "1.2.0",
      "model_name": "LayoutModel",
      "state": {
       "_model_module": "@jupyter-widgets/base",
       "_model_module_version": "1.2.0",
       "_model_name": "LayoutModel",
       "_view_count": null,
       "_view_module": "@jupyter-widgets/base",
       "_view_module_version": "1.2.0",
       "_view_name": "LayoutView",
       "align_content": null,
       "align_items": null,
       "align_self": null,
       "border": null,
       "bottom": null,
       "display": null,
       "flex": null,
       "flex_flow": null,
       "grid_area": null,
       "grid_auto_columns": null,
       "grid_auto_flow": null,
       "grid_auto_rows": null,
       "grid_column": null,
       "grid_gap": null,
       "grid_row": null,
       "grid_template_areas": null,
       "grid_template_columns": null,
       "grid_template_rows": null,
       "height": null,
       "justify_content": null,
       "justify_items": null,
       "left": null,
       "margin": null,
       "max_height": null,
       "max_width": null,
       "min_height": null,
       "min_width": null,
       "object_fit": null,
       "object_position": null,
       "order": null,
       "overflow": null,
       "overflow_x": null,
       "overflow_y": null,
       "padding": null,
       "right": null,
       "top": null,
       "visibility": null,
       "width": null
      }
     },
     "4964eb16aa6f4ca2875321e3633ed3d1": {
      "model_module": "@jupyter-widgets/base",
      "model_module_version": "1.2.0",
      "model_name": "LayoutModel",
      "state": {
       "_model_module": "@jupyter-widgets/base",
       "_model_module_version": "1.2.0",
       "_model_name": "LayoutModel",
       "_view_count": null,
       "_view_module": "@jupyter-widgets/base",
       "_view_module_version": "1.2.0",
       "_view_name": "LayoutView",
       "align_content": null,
       "align_items": null,
       "align_self": null,
       "border": null,
       "bottom": null,
       "display": null,
       "flex": null,
       "flex_flow": null,
       "grid_area": null,
       "grid_auto_columns": null,
       "grid_auto_flow": null,
       "grid_auto_rows": null,
       "grid_column": null,
       "grid_gap": null,
       "grid_row": null,
       "grid_template_areas": null,
       "grid_template_columns": null,
       "grid_template_rows": null,
       "height": null,
       "justify_content": null,
       "justify_items": null,
       "left": null,
       "margin": null,
       "max_height": null,
       "max_width": null,
       "min_height": null,
       "min_width": null,
       "object_fit": null,
       "object_position": null,
       "order": null,
       "overflow": null,
       "overflow_x": null,
       "overflow_y": null,
       "padding": null,
       "right": null,
       "top": null,
       "visibility": null,
       "width": null
      }
     },
     "505ee67851fc4412b73c6bd9fc599b2e": {
      "model_module": "@jupyter-widgets/controls",
      "model_module_version": "1.5.0",
      "model_name": "HBoxModel",
      "state": {
       "_dom_classes": [],
       "_model_module": "@jupyter-widgets/controls",
       "_model_module_version": "1.5.0",
       "_model_name": "HBoxModel",
       "_view_count": null,
       "_view_module": "@jupyter-widgets/controls",
       "_view_module_version": "1.5.0",
       "_view_name": "HBoxView",
       "box_style": "",
       "children": [
        "IPY_MODEL_1aa94db0cce448d4830bb5a3661257a2",
        "IPY_MODEL_3a2fe56f53d84c6684ffa89e1adbd2ba",
        "IPY_MODEL_2a00f0eea75e4b59bc51f86933cea469"
       ],
       "layout": "IPY_MODEL_f8b336d065c340fda3aa629ed91a5c5d"
      }
     },
     "509f95ab001e416a87ae4c8ed85a2bc3": {
      "model_module": "@jupyter-widgets/base",
      "model_module_version": "1.2.0",
      "model_name": "LayoutModel",
      "state": {
       "_model_module": "@jupyter-widgets/base",
       "_model_module_version": "1.2.0",
       "_model_name": "LayoutModel",
       "_view_count": null,
       "_view_module": "@jupyter-widgets/base",
       "_view_module_version": "1.2.0",
       "_view_name": "LayoutView",
       "align_content": null,
       "align_items": null,
       "align_self": null,
       "border": null,
       "bottom": null,
       "display": null,
       "flex": null,
       "flex_flow": null,
       "grid_area": null,
       "grid_auto_columns": null,
       "grid_auto_flow": null,
       "grid_auto_rows": null,
       "grid_column": null,
       "grid_gap": null,
       "grid_row": null,
       "grid_template_areas": null,
       "grid_template_columns": null,
       "grid_template_rows": null,
       "height": null,
       "justify_content": null,
       "justify_items": null,
       "left": null,
       "margin": null,
       "max_height": null,
       "max_width": null,
       "min_height": null,
       "min_width": null,
       "object_fit": null,
       "object_position": null,
       "order": null,
       "overflow": null,
       "overflow_x": null,
       "overflow_y": null,
       "padding": null,
       "right": null,
       "top": null,
       "visibility": null,
       "width": null
      }
     },
     "52a9d25e93bf472cb41ed47ade70a7f0": {
      "model_module": "@jupyter-widgets/controls",
      "model_module_version": "1.5.0",
      "model_name": "DescriptionStyleModel",
      "state": {
       "_model_module": "@jupyter-widgets/controls",
       "_model_module_version": "1.5.0",
       "_model_name": "DescriptionStyleModel",
       "_view_count": null,
       "_view_module": "@jupyter-widgets/base",
       "_view_module_version": "1.2.0",
       "_view_name": "StyleView",
       "description_width": ""
      }
     },
     "5494c4e6b8be4b3bb81295a4dcbc96e4": {
      "model_module": "@jupyter-widgets/controls",
      "model_module_version": "1.5.0",
      "model_name": "HTMLModel",
      "state": {
       "_dom_classes": [],
       "_model_module": "@jupyter-widgets/controls",
       "_model_module_version": "1.5.0",
       "_model_name": "HTMLModel",
       "_view_count": null,
       "_view_module": "@jupyter-widgets/controls",
       "_view_module_version": "1.5.0",
       "_view_name": "HTMLView",
       "description": "",
       "description_tooltip": null,
       "layout": "IPY_MODEL_a7eb007f89414a278ab1b734553b4839",
       "placeholder": "​",
       "style": "IPY_MODEL_fb1740f6f1f042549aed401f541b8f9e",
       "value": " 792k/792k [00:00&lt;00:00, 11.4MB/s]"
      }
     },
     "56e46acedbdd4442b0d6734092970c65": {
      "model_module": "@jupyter-widgets/controls",
      "model_module_version": "1.5.0",
      "model_name": "DescriptionStyleModel",
      "state": {
       "_model_module": "@jupyter-widgets/controls",
       "_model_module_version": "1.5.0",
       "_model_name": "DescriptionStyleModel",
       "_view_count": null,
       "_view_module": "@jupyter-widgets/base",
       "_view_module_version": "1.2.0",
       "_view_name": "StyleView",
       "description_width": ""
      }
     },
     "56e4c5c9be41439eb9bd98e707147907": {
      "model_module": "@jupyter-widgets/controls",
      "model_module_version": "1.5.0",
      "model_name": "HTMLModel",
      "state": {
       "_dom_classes": [],
       "_model_module": "@jupyter-widgets/controls",
       "_model_module_version": "1.5.0",
       "_model_name": "HTMLModel",
       "_view_count": null,
       "_view_module": "@jupyter-widgets/controls",
       "_view_module_version": "1.5.0",
       "_view_name": "HTMLView",
       "description": "",
       "description_tooltip": null,
       "layout": "IPY_MODEL_24452213f09944d9a98ec3708b059875",
       "placeholder": "​",
       "style": "IPY_MODEL_15b0d704224349c1a5af2122ca58acaf",
       "value": " 242M/242M [00:01&lt;00:00, 208MB/s]"
      }
     },
     "5b6bb2d939e64ac3a84ec7f19eb79b3c": {
      "model_module": "@jupyter-widgets/controls",
      "model_module_version": "1.5.0",
      "model_name": "ProgressStyleModel",
      "state": {
       "_model_module": "@jupyter-widgets/controls",
       "_model_module_version": "1.5.0",
       "_model_name": "ProgressStyleModel",
       "_view_count": null,
       "_view_module": "@jupyter-widgets/base",
       "_view_module_version": "1.2.0",
       "_view_name": "StyleView",
       "bar_color": null,
       "description_width": ""
      }
     },
     "610f47f4cc70486da8ca3159eb6cca73": {
      "model_module": "@jupyter-widgets/controls",
      "model_module_version": "1.5.0",
      "model_name": "ProgressStyleModel",
      "state": {
       "_model_module": "@jupyter-widgets/controls",
       "_model_module_version": "1.5.0",
       "_model_name": "ProgressStyleModel",
       "_view_count": null,
       "_view_module": "@jupyter-widgets/base",
       "_view_module_version": "1.2.0",
       "_view_name": "StyleView",
       "bar_color": null,
       "description_width": ""
      }
     },
     "663009d0d1fa430ca62b39ae843c0575": {
      "model_module": "@jupyter-widgets/base",
      "model_module_version": "1.2.0",
      "model_name": "LayoutModel",
      "state": {
       "_model_module": "@jupyter-widgets/base",
       "_model_module_version": "1.2.0",
       "_model_name": "LayoutModel",
       "_view_count": null,
       "_view_module": "@jupyter-widgets/base",
       "_view_module_version": "1.2.0",
       "_view_name": "LayoutView",
       "align_content": null,
       "align_items": null,
       "align_self": null,
       "border": null,
       "bottom": null,
       "display": null,
       "flex": null,
       "flex_flow": null,
       "grid_area": null,
       "grid_auto_columns": null,
       "grid_auto_flow": null,
       "grid_auto_rows": null,
       "grid_column": null,
       "grid_gap": null,
       "grid_row": null,
       "grid_template_areas": null,
       "grid_template_columns": null,
       "grid_template_rows": null,
       "height": null,
       "justify_content": null,
       "justify_items": null,
       "left": null,
       "margin": null,
       "max_height": null,
       "max_width": null,
       "min_height": null,
       "min_width": null,
       "object_fit": null,
       "object_position": null,
       "order": null,
       "overflow": null,
       "overflow_x": null,
       "overflow_y": null,
       "padding": null,
       "right": null,
       "top": null,
       "visibility": null,
       "width": null
      }
     },
     "66a313be0a5d49f79b35f717ba34704e": {
      "model_module": "@jupyter-widgets/controls",
      "model_module_version": "1.5.0",
      "model_name": "DescriptionStyleModel",
      "state": {
       "_model_module": "@jupyter-widgets/controls",
       "_model_module_version": "1.5.0",
       "_model_name": "DescriptionStyleModel",
       "_view_count": null,
       "_view_module": "@jupyter-widgets/base",
       "_view_module_version": "1.2.0",
       "_view_name": "StyleView",
       "description_width": ""
      }
     },
     "68f93ef7fdee4b41ade334488cc3ee36": {
      "model_module": "@jupyter-widgets/controls",
      "model_module_version": "1.5.0",
      "model_name": "HBoxModel",
      "state": {
       "_dom_classes": [],
       "_model_module": "@jupyter-widgets/controls",
       "_model_module_version": "1.5.0",
       "_model_name": "HBoxModel",
       "_view_count": null,
       "_view_module": "@jupyter-widgets/controls",
       "_view_module_version": "1.5.0",
       "_view_name": "HBoxView",
       "box_style": "",
       "children": [
        "IPY_MODEL_93ccc8c924254d5f90c63d01712fb4cd",
        "IPY_MODEL_69a835a7cd2f4e0388e9b72a127b4056",
        "IPY_MODEL_c80542ae328e49a3810478213d936474"
       ],
       "layout": "IPY_MODEL_b887095fa438465eb891426872757ae3"
      }
     },
     "69a835a7cd2f4e0388e9b72a127b4056": {
      "model_module": "@jupyter-widgets/controls",
      "model_module_version": "1.5.0",
      "model_name": "FloatProgressModel",
      "state": {
       "_dom_classes": [],
       "_model_module": "@jupyter-widgets/controls",
       "_model_module_version": "1.5.0",
       "_model_name": "FloatProgressModel",
       "_view_count": null,
       "_view_module": "@jupyter-widgets/controls",
       "_view_module_version": "1.5.0",
       "_view_name": "ProgressView",
       "bar_style": "success",
       "description": "",
       "description_tooltip": null,
       "layout": "IPY_MODEL_32d8df7dbd204e5c80ef61d179fe371f",
       "max": 2848.0,
       "min": 0.0,
       "orientation": "horizontal",
       "style": "IPY_MODEL_7900ed046d2e434995418f5c77c490ff",
       "value": 2848.0
      }
     },
     "6d5454983b1c4e1c9440105844366c20": {
      "model_module": "@jupyter-widgets/controls",
      "model_module_version": "1.5.0",
      "model_name": "ProgressStyleModel",
      "state": {
       "_model_module": "@jupyter-widgets/controls",
       "_model_module_version": "1.5.0",
       "_model_name": "ProgressStyleModel",
       "_view_count": null,
       "_view_module": "@jupyter-widgets/base",
       "_view_module_version": "1.2.0",
       "_view_name": "StyleView",
       "bar_color": null,
       "description_width": ""
      }
     },
     "727eddf278f449659985cf609360997b": {
      "model_module": "@jupyter-widgets/controls",
      "model_module_version": "1.5.0",
      "model_name": "HBoxModel",
      "state": {
       "_dom_classes": [],
       "_model_module": "@jupyter-widgets/controls",
       "_model_module_version": "1.5.0",
       "_model_name": "HBoxModel",
       "_view_count": null,
       "_view_module": "@jupyter-widgets/controls",
       "_view_module_version": "1.5.0",
       "_view_name": "HBoxView",
       "box_style": "",
       "children": [
        "IPY_MODEL_1db95a8129024c0f9b1219c147075e72",
        "IPY_MODEL_c013e7fe5edb4062ab5a160a0d6f2a6c",
        "IPY_MODEL_56e4c5c9be41439eb9bd98e707147907"
       ],
       "layout": "IPY_MODEL_cfac4d036a764451b9537af99a2387e2"
      }
     },
     "7564e1b71fdc494cb77a2361d12f62e7": {
      "model_module": "@jupyter-widgets/controls",
      "model_module_version": "1.5.0",
      "model_name": "HTMLModel",
      "state": {
       "_dom_classes": [],
       "_model_module": "@jupyter-widgets/controls",
       "_model_module_version": "1.5.0",
       "_model_name": "HTMLModel",
       "_view_count": null,
       "_view_module": "@jupyter-widgets/controls",
       "_view_module_version": "1.5.0",
       "_view_name": "HTMLView",
       "description": "",
       "description_tooltip": null,
       "layout": "IPY_MODEL_46f540c600884b9ab13b3fa223d946c0",
       "placeholder": "​",
       "style": "IPY_MODEL_c4de09c517fc4362896495b0ccb15d39",
       "value": " 2.32k/2.32k [00:00&lt;00:00, 170kB/s]"
      }
     },
     "7668de0b6088471a957ca470b3483423": {
      "model_module": "@jupyter-widgets/controls",
      "model_module_version": "1.5.0",
      "model_name": "DescriptionStyleModel",
      "state": {
       "_model_module": "@jupyter-widgets/controls",
       "_model_module_version": "1.5.0",
       "_model_name": "DescriptionStyleModel",
       "_view_count": null,
       "_view_module": "@jupyter-widgets/base",
       "_view_module_version": "1.2.0",
       "_view_name": "StyleView",
       "description_width": ""
      }
     },
     "7760ece02cba4d1183daab28c63eece6": {
      "model_module": "@jupyter-widgets/controls",
      "model_module_version": "1.5.0",
      "model_name": "HBoxModel",
      "state": {
       "_dom_classes": [],
       "_model_module": "@jupyter-widgets/controls",
       "_model_module_version": "1.5.0",
       "_model_name": "HBoxModel",
       "_view_count": null,
       "_view_module": "@jupyter-widgets/controls",
       "_view_module_version": "1.5.0",
       "_view_name": "HBoxView",
       "box_style": "",
       "children": [
        "IPY_MODEL_9cd7fd0cfc324786b6d33f68bcc84839",
        "IPY_MODEL_ae6fbd1e3c71447283c64b375d401bcc",
        "IPY_MODEL_7564e1b71fdc494cb77a2361d12f62e7"
       ],
       "layout": "IPY_MODEL_90b7054a0c7d438b847a4b288028cc3a"
      }
     },
     "7900ed046d2e434995418f5c77c490ff": {
      "model_module": "@jupyter-widgets/controls",
      "model_module_version": "1.5.0",
      "model_name": "ProgressStyleModel",
      "state": {
       "_model_module": "@jupyter-widgets/controls",
       "_model_module_version": "1.5.0",
       "_model_name": "ProgressStyleModel",
       "_view_count": null,
       "_view_module": "@jupyter-widgets/base",
       "_view_module_version": "1.2.0",
       "_view_name": "StyleView",
       "bar_color": null,
       "description_width": ""
      }
     },
     "7c8470d1043d41c48e6d8fb1a77d4909": {
      "model_module": "@jupyter-widgets/controls",
      "model_module_version": "1.5.0",
      "model_name": "HTMLModel",
      "state": {
       "_dom_classes": [],
       "_model_module": "@jupyter-widgets/controls",
       "_model_module_version": "1.5.0",
       "_model_name": "HTMLModel",
       "_view_count": null,
       "_view_module": "@jupyter-widgets/controls",
       "_view_module_version": "1.5.0",
       "_view_name": "HTMLView",
       "description": "",
       "description_tooltip": null,
       "layout": "IPY_MODEL_fd303b761a8f40d7914cbc39e0275a67",
       "placeholder": "​",
       "style": "IPY_MODEL_56e46acedbdd4442b0d6734092970c65",
       "value": " 1.39M/1.39M [00:00&lt;00:00, 29.7MB/s]"
      }
     },
     "80238878d05b4a788fb513da3443b6ad": {
      "model_module": "@jupyter-widgets/controls",
      "model_module_version": "1.5.0",
      "model_name": "FloatProgressModel",
      "state": {
       "_dom_classes": [],
       "_model_module": "@jupyter-widgets/controls",
       "_model_module_version": "1.5.0",
       "_model_name": "FloatProgressModel",
       "_view_count": null,
       "_view_module": "@jupyter-widgets/controls",
       "_view_module_version": "1.5.0",
       "_view_name": "ProgressView",
       "bar_style": "success",
       "description": "",
       "description_tooltip": null,
       "layout": "IPY_MODEL_213bba4af76b499e86f85f8968fad62e",
       "max": 147.0,
       "min": 0.0,
       "orientation": "horizontal",
       "style": "IPY_MODEL_5b6bb2d939e64ac3a84ec7f19eb79b3c",
       "value": 147.0
      }
     },
     "82d862178ce34c74880fddc656f9c9bf": {
      "model_module": "@jupyter-widgets/controls",
      "model_module_version": "1.5.0",
      "model_name": "DescriptionStyleModel",
      "state": {
       "_model_module": "@jupyter-widgets/controls",
       "_model_module_version": "1.5.0",
       "_model_name": "DescriptionStyleModel",
       "_view_count": null,
       "_view_module": "@jupyter-widgets/base",
       "_view_module_version": "1.2.0",
       "_view_name": "StyleView",
       "description_width": ""
      }
     },
     "90b7054a0c7d438b847a4b288028cc3a": {
      "model_module": "@jupyter-widgets/base",
      "model_module_version": "1.2.0",
      "model_name": "LayoutModel",
      "state": {
       "_model_module": "@jupyter-widgets/base",
       "_model_module_version": "1.2.0",
       "_model_name": "LayoutModel",
       "_view_count": null,
       "_view_module": "@jupyter-widgets/base",
       "_view_module_version": "1.2.0",
       "_view_name": "LayoutView",
       "align_content": null,
       "align_items": null,
       "align_self": null,
       "border": null,
       "bottom": null,
       "display": null,
       "flex": null,
       "flex_flow": null,
       "grid_area": null,
       "grid_auto_columns": null,
       "grid_auto_flow": null,
       "grid_auto_rows": null,
       "grid_column": null,
       "grid_gap": null,
       "grid_row": null,
       "grid_template_areas": null,
       "grid_template_columns": null,
       "grid_template_rows": null,
       "height": null,
       "justify_content": null,
       "justify_items": null,
       "left": null,
       "margin": null,
       "max_height": null,
       "max_width": null,
       "min_height": null,
       "min_width": null,
       "object_fit": null,
       "object_position": null,
       "order": null,
       "overflow": null,
       "overflow_x": null,
       "overflow_y": null,
       "padding": null,
       "right": null,
       "top": null,
       "visibility": null,
       "width": null
      }
     },
     "91ca66a37cee41aa8a862d0580ab6a83": {
      "model_module": "@jupyter-widgets/controls",
      "model_module_version": "1.5.0",
      "model_name": "ProgressStyleModel",
      "state": {
       "_model_module": "@jupyter-widgets/controls",
       "_model_module_version": "1.5.0",
       "_model_name": "ProgressStyleModel",
       "_view_count": null,
       "_view_module": "@jupyter-widgets/base",
       "_view_module_version": "1.2.0",
       "_view_name": "StyleView",
       "bar_color": null,
       "description_width": ""
      }
     },
     "93ccc8c924254d5f90c63d01712fb4cd": {
      "model_module": "@jupyter-widgets/controls",
      "model_module_version": "1.5.0",
      "model_name": "HTMLModel",
      "state": {
       "_dom_classes": [],
       "_model_module": "@jupyter-widgets/controls",
       "_model_module_version": "1.5.0",
       "_model_name": "HTMLModel",
       "_view_count": null,
       "_view_module": "@jupyter-widgets/controls",
       "_view_module_version": "1.5.0",
       "_view_name": "HTMLView",
       "description": "",
       "description_tooltip": null,
       "layout": "IPY_MODEL_a7f02ba113a74e35b2e3ed569d6df974",
       "placeholder": "​",
       "style": "IPY_MODEL_52a9d25e93bf472cb41ed47ade70a7f0",
       "value": "Downloading builder script: "
      }
     },
     "9cd7fd0cfc324786b6d33f68bcc84839": {
      "model_module": "@jupyter-widgets/controls",
      "model_module_version": "1.5.0",
      "model_name": "HTMLModel",
      "state": {
       "_dom_classes": [],
       "_model_module": "@jupyter-widgets/controls",
       "_model_module_version": "1.5.0",
       "_model_name": "HTMLModel",
       "_view_count": null,
       "_view_module": "@jupyter-widgets/controls",
       "_view_module_version": "1.5.0",
       "_view_name": "HTMLView",
       "description": "",
       "description_tooltip": null,
       "layout": "IPY_MODEL_509f95ab001e416a87ae4c8ed85a2bc3",
       "placeholder": "​",
       "style": "IPY_MODEL_b4d81e4e8aba43c9a47679f1fff519f9",
       "value": "Downloading (…)okenizer_config.json: 100%"
      }
     },
     "a7eb007f89414a278ab1b734553b4839": {
      "model_module": "@jupyter-widgets/base",
      "model_module_version": "1.2.0",
      "model_name": "LayoutModel",
      "state": {
       "_model_module": "@jupyter-widgets/base",
       "_model_module_version": "1.2.0",
       "_model_name": "LayoutModel",
       "_view_count": null,
       "_view_module": "@jupyter-widgets/base",
       "_view_module_version": "1.2.0",
       "_view_name": "LayoutView",
       "align_content": null,
       "align_items": null,
       "align_self": null,
       "border": null,
       "bottom": null,
       "display": null,
       "flex": null,
       "flex_flow": null,
       "grid_area": null,
       "grid_auto_columns": null,
       "grid_auto_flow": null,
       "grid_auto_rows": null,
       "grid_column": null,
       "grid_gap": null,
       "grid_row": null,
       "grid_template_areas": null,
       "grid_template_columns": null,
       "grid_template_rows": null,
       "height": null,
       "justify_content": null,
       "justify_items": null,
       "left": null,
       "margin": null,
       "max_height": null,
       "max_width": null,
       "min_height": null,
       "min_width": null,
       "object_fit": null,
       "object_position": null,
       "order": null,
       "overflow": null,
       "overflow_x": null,
       "overflow_y": null,
       "padding": null,
       "right": null,
       "top": null,
       "visibility": null,
       "width": null
      }
     },
     "a7f02ba113a74e35b2e3ed569d6df974": {
      "model_module": "@jupyter-widgets/base",
      "model_module_version": "1.2.0",
      "model_name": "LayoutModel",
      "state": {
       "_model_module": "@jupyter-widgets/base",
       "_model_module_version": "1.2.0",
       "_model_name": "LayoutModel",
       "_view_count": null,
       "_view_module": "@jupyter-widgets/base",
       "_view_module_version": "1.2.0",
       "_view_name": "LayoutView",
       "align_content": null,
       "align_items": null,
       "align_self": null,
       "border": null,
       "bottom": null,
       "display": null,
       "flex": null,
       "flex_flow": null,
       "grid_area": null,
       "grid_auto_columns": null,
       "grid_auto_flow": null,
       "grid_auto_rows": null,
       "grid_column": null,
       "grid_gap": null,
       "grid_row": null,
       "grid_template_areas": null,
       "grid_template_columns": null,
       "grid_template_rows": null,
       "height": null,
       "justify_content": null,
       "justify_items": null,
       "left": null,
       "margin": null,
       "max_height": null,
       "max_width": null,
       "min_height": null,
       "min_width": null,
       "object_fit": null,
       "object_position": null,
       "order": null,
       "overflow": null,
       "overflow_x": null,
       "overflow_y": null,
       "padding": null,
       "right": null,
       "top": null,
       "visibility": null,
       "width": null
      }
     },
     "ae6fbd1e3c71447283c64b375d401bcc": {
      "model_module": "@jupyter-widgets/controls",
      "model_module_version": "1.5.0",
      "model_name": "FloatProgressModel",
      "state": {
       "_dom_classes": [],
       "_model_module": "@jupyter-widgets/controls",
       "_model_module_version": "1.5.0",
       "_model_name": "FloatProgressModel",
       "_view_count": null,
       "_view_module": "@jupyter-widgets/controls",
       "_view_module_version": "1.5.0",
       "_view_name": "ProgressView",
       "bar_style": "success",
       "description": "",
       "description_tooltip": null,
       "layout": "IPY_MODEL_af70318aeefd44208ae4137bffe432d6",
       "max": 2324.0,
       "min": 0.0,
       "orientation": "horizontal",
       "style": "IPY_MODEL_0b62716c6a30491cbb4653ba31a6a6da",
       "value": 2324.0
      }
     },
     "af70318aeefd44208ae4137bffe432d6": {
      "model_module": "@jupyter-widgets/base",
      "model_module_version": "1.2.0",
      "model_name": "LayoutModel",
      "state": {
       "_model_module": "@jupyter-widgets/base",
       "_model_module_version": "1.2.0",
       "_model_name": "LayoutModel",
       "_view_count": null,
       "_view_module": "@jupyter-widgets/base",
       "_view_module_version": "1.2.0",
       "_view_name": "LayoutView",
       "align_content": null,
       "align_items": null,
       "align_self": null,
       "border": null,
       "bottom": null,
       "display": null,
       "flex": null,
       "flex_flow": null,
       "grid_area": null,
       "grid_auto_columns": null,
       "grid_auto_flow": null,
       "grid_auto_rows": null,
       "grid_column": null,
       "grid_gap": null,
       "grid_row": null,
       "grid_template_areas": null,
       "grid_template_columns": null,
       "grid_template_rows": null,
       "height": null,
       "justify_content": null,
       "justify_items": null,
       "left": null,
       "margin": null,
       "max_height": null,
       "max_width": null,
       "min_height": null,
       "min_width": null,
       "object_fit": null,
       "object_position": null,
       "order": null,
       "overflow": null,
       "overflow_x": null,
       "overflow_y": null,
       "padding": null,
       "right": null,
       "top": null,
       "visibility": null,
       "width": null
      }
     },
     "b4d81e4e8aba43c9a47679f1fff519f9": {
      "model_module": "@jupyter-widgets/controls",
      "model_module_version": "1.5.0",
      "model_name": "DescriptionStyleModel",
      "state": {
       "_model_module": "@jupyter-widgets/controls",
       "_model_module_version": "1.5.0",
       "_model_name": "DescriptionStyleModel",
       "_view_count": null,
       "_view_module": "@jupyter-widgets/base",
       "_view_module_version": "1.2.0",
       "_view_name": "StyleView",
       "description_width": ""
      }
     },
     "b887095fa438465eb891426872757ae3": {
      "model_module": "@jupyter-widgets/base",
      "model_module_version": "1.2.0",
      "model_name": "LayoutModel",
      "state": {
       "_model_module": "@jupyter-widgets/base",
       "_model_module_version": "1.2.0",
       "_model_name": "LayoutModel",
       "_view_count": null,
       "_view_module": "@jupyter-widgets/base",
       "_view_module_version": "1.2.0",
       "_view_name": "LayoutView",
       "align_content": null,
       "align_items": null,
       "align_self": null,
       "border": null,
       "bottom": null,
       "display": null,
       "flex": null,
       "flex_flow": null,
       "grid_area": null,
       "grid_auto_columns": null,
       "grid_auto_flow": null,
       "grid_auto_rows": null,
       "grid_column": null,
       "grid_gap": null,
       "grid_row": null,
       "grid_template_areas": null,
       "grid_template_columns": null,
       "grid_template_rows": null,
       "height": null,
       "justify_content": null,
       "justify_items": null,
       "left": null,
       "margin": null,
       "max_height": null,
       "max_width": null,
       "min_height": null,
       "min_width": null,
       "object_fit": null,
       "object_position": null,
       "order": null,
       "overflow": null,
       "overflow_x": null,
       "overflow_y": null,
       "padding": null,
       "right": null,
       "top": null,
       "visibility": null,
       "width": null
      }
     },
     "be20e43059e946d1ac0386c05a01b29e": {
      "model_module": "@jupyter-widgets/base",
      "model_module_version": "1.2.0",
      "model_name": "LayoutModel",
      "state": {
       "_model_module": "@jupyter-widgets/base",
       "_model_module_version": "1.2.0",
       "_model_name": "LayoutModel",
       "_view_count": null,
       "_view_module": "@jupyter-widgets/base",
       "_view_module_version": "1.2.0",
       "_view_name": "LayoutView",
       "align_content": null,
       "align_items": null,
       "align_self": null,
       "border": null,
       "bottom": null,
       "display": null,
       "flex": null,
       "flex_flow": null,
       "grid_area": null,
       "grid_auto_columns": null,
       "grid_auto_flow": null,
       "grid_auto_rows": null,
       "grid_column": null,
       "grid_gap": null,
       "grid_row": null,
       "grid_template_areas": null,
       "grid_template_columns": null,
       "grid_template_rows": null,
       "height": null,
       "justify_content": null,
       "justify_items": null,
       "left": null,
       "margin": null,
       "max_height": null,
       "max_width": null,
       "min_height": null,
       "min_width": null,
       "object_fit": null,
       "object_position": null,
       "order": null,
       "overflow": null,
       "overflow_x": null,
       "overflow_y": null,
       "padding": null,
       "right": null,
       "top": null,
       "visibility": null,
       "width": null
      }
     },
     "c013e7fe5edb4062ab5a160a0d6f2a6c": {
      "model_module": "@jupyter-widgets/controls",
      "model_module_version": "1.5.0",
      "model_name": "FloatProgressModel",
      "state": {
       "_dom_classes": [],
       "_model_module": "@jupyter-widgets/controls",
       "_model_module_version": "1.5.0",
       "_model_name": "FloatProgressModel",
       "_view_count": null,
       "_view_module": "@jupyter-widgets/controls",
       "_view_module_version": "1.5.0",
       "_view_name": "ProgressView",
       "bar_style": "success",
       "description": "",
       "description_tooltip": null,
       "layout": "IPY_MODEL_c3772d16b2a549099845741c7b2debf9",
       "max": 2.42043056E8,
       "min": 0.0,
       "orientation": "horizontal",
       "style": "IPY_MODEL_6d5454983b1c4e1c9440105844366c20",
       "value": 2.42043056E8
      }
     },
     "c3772d16b2a549099845741c7b2debf9": {
      "model_module": "@jupyter-widgets/base",
      "model_module_version": "1.2.0",
      "model_name": "LayoutModel",
      "state": {
       "_model_module": "@jupyter-widgets/base",
       "_model_module_version": "1.2.0",
       "_model_name": "LayoutModel",
       "_view_count": null,
       "_view_module": "@jupyter-widgets/base",
       "_view_module_version": "1.2.0",
       "_view_name": "LayoutView",
       "align_content": null,
       "align_items": null,
       "align_self": null,
       "border": null,
       "bottom": null,
       "display": null,
       "flex": null,
       "flex_flow": null,
       "grid_area": null,
       "grid_auto_columns": null,
       "grid_auto_flow": null,
       "grid_auto_rows": null,
       "grid_column": null,
       "grid_gap": null,
       "grid_row": null,
       "grid_template_areas": null,
       "grid_template_columns": null,
       "grid_template_rows": null,
       "height": null,
       "justify_content": null,
       "justify_items": null,
       "left": null,
       "margin": null,
       "max_height": null,
       "max_width": null,
       "min_height": null,
       "min_width": null,
       "object_fit": null,
       "object_position": null,
       "order": null,
       "overflow": null,
       "overflow_x": null,
       "overflow_y": null,
       "padding": null,
       "right": null,
       "top": null,
       "visibility": null,
       "width": null
      }
     },
     "c4de09c517fc4362896495b0ccb15d39": {
      "model_module": "@jupyter-widgets/controls",
      "model_module_version": "1.5.0",
      "model_name": "DescriptionStyleModel",
      "state": {
       "_model_module": "@jupyter-widgets/controls",
       "_model_module_version": "1.5.0",
       "_model_name": "DescriptionStyleModel",
       "_view_count": null,
       "_view_module": "@jupyter-widgets/base",
       "_view_module_version": "1.2.0",
       "_view_name": "StyleView",
       "description_width": ""
      }
     },
     "c55b579ff89b456b8cc36177ddaf2f8c": {
      "model_module": "@jupyter-widgets/base",
      "model_module_version": "1.2.0",
      "model_name": "LayoutModel",
      "state": {
       "_model_module": "@jupyter-widgets/base",
       "_model_module_version": "1.2.0",
       "_model_name": "LayoutModel",
       "_view_count": null,
       "_view_module": "@jupyter-widgets/base",
       "_view_module_version": "1.2.0",
       "_view_name": "LayoutView",
       "align_content": null,
       "align_items": null,
       "align_self": null,
       "border": null,
       "bottom": null,
       "display": null,
       "flex": null,
       "flex_flow": null,
       "grid_area": null,
       "grid_auto_columns": null,
       "grid_auto_flow": null,
       "grid_auto_rows": null,
       "grid_column": null,
       "grid_gap": null,
       "grid_row": null,
       "grid_template_areas": null,
       "grid_template_columns": null,
       "grid_template_rows": null,
       "height": null,
       "justify_content": null,
       "justify_items": null,
       "left": null,
       "margin": null,
       "max_height": null,
       "max_width": null,
       "min_height": null,
       "min_width": null,
       "object_fit": null,
       "object_position": null,
       "order": null,
       "overflow": null,
       "overflow_x": null,
       "overflow_y": null,
       "padding": null,
       "right": null,
       "top": null,
       "visibility": null,
       "width": null
      }
     },
     "c80542ae328e49a3810478213d936474": {
      "model_module": "@jupyter-widgets/controls",
      "model_module_version": "1.5.0",
      "model_name": "HTMLModel",
      "state": {
       "_dom_classes": [],
       "_model_module": "@jupyter-widgets/controls",
       "_model_module_version": "1.5.0",
       "_model_name": "HTMLModel",
       "_view_count": null,
       "_view_module": "@jupyter-widgets/controls",
       "_view_module_version": "1.5.0",
       "_view_name": "HTMLView",
       "description": "",
       "description_tooltip": null,
       "layout": "IPY_MODEL_18b42b87cbab4f89a7d837edf283ca1f",
       "placeholder": "​",
       "style": "IPY_MODEL_3e40b730d6524927bf1bcff067b9be5d",
       "value": " 7.65k/? [00:00&lt;00:00, 515kB/s]"
      }
     },
     "c8c0783f0ef5456e81a73ae1297b4212": {
      "model_module": "@jupyter-widgets/base",
      "model_module_version": "1.2.0",
      "model_name": "LayoutModel",
      "state": {
       "_model_module": "@jupyter-widgets/base",
       "_model_module_version": "1.2.0",
       "_model_name": "LayoutModel",
       "_view_count": null,
       "_view_module": "@jupyter-widgets/base",
       "_view_module_version": "1.2.0",
       "_view_name": "LayoutView",
       "align_content": null,
       "align_items": null,
       "align_self": null,
       "border": null,
       "bottom": null,
       "display": null,
       "flex": null,
       "flex_flow": null,
       "grid_area": null,
       "grid_auto_columns": null,
       "grid_auto_flow": null,
       "grid_auto_rows": null,
       "grid_column": null,
       "grid_gap": null,
       "grid_row": null,
       "grid_template_areas": null,
       "grid_template_columns": null,
       "grid_template_rows": null,
       "height": null,
       "justify_content": null,
       "justify_items": null,
       "left": null,
       "margin": null,
       "max_height": null,
       "max_width": null,
       "min_height": null,
       "min_width": null,
       "object_fit": null,
       "object_position": null,
       "order": null,
       "overflow": null,
       "overflow_x": null,
       "overflow_y": null,
       "padding": null,
       "right": null,
       "top": null,
       "visibility": null,
       "width": null
      }
     },
     "cfac4d036a764451b9537af99a2387e2": {
      "model_module": "@jupyter-widgets/base",
      "model_module_version": "1.2.0",
      "model_name": "LayoutModel",
      "state": {
       "_model_module": "@jupyter-widgets/base",
       "_model_module_version": "1.2.0",
       "_model_name": "LayoutModel",
       "_view_count": null,
       "_view_module": "@jupyter-widgets/base",
       "_view_module_version": "1.2.0",
       "_view_name": "LayoutView",
       "align_content": null,
       "align_items": null,
       "align_self": null,
       "border": null,
       "bottom": null,
       "display": null,
       "flex": null,
       "flex_flow": null,
       "grid_area": null,
       "grid_auto_columns": null,
       "grid_auto_flow": null,
       "grid_auto_rows": null,
       "grid_column": null,
       "grid_gap": null,
       "grid_row": null,
       "grid_template_areas": null,
       "grid_template_columns": null,
       "grid_template_rows": null,
       "height": null,
       "justify_content": null,
       "justify_items": null,
       "left": null,
       "margin": null,
       "max_height": null,
       "max_width": null,
       "min_height": null,
       "min_width": null,
       "object_fit": null,
       "object_position": null,
       "order": null,
       "overflow": null,
       "overflow_x": null,
       "overflow_y": null,
       "padding": null,
       "right": null,
       "top": null,
       "visibility": null,
       "width": null
      }
     },
     "d5b308e0e25d4259b4b5b4dd301fc85f": {
      "model_module": "@jupyter-widgets/base",
      "model_module_version": "1.2.0",
      "model_name": "LayoutModel",
      "state": {
       "_model_module": "@jupyter-widgets/base",
       "_model_module_version": "1.2.0",
       "_model_name": "LayoutModel",
       "_view_count": null,
       "_view_module": "@jupyter-widgets/base",
       "_view_module_version": "1.2.0",
       "_view_name": "LayoutView",
       "align_content": null,
       "align_items": null,
       "align_self": null,
       "border": null,
       "bottom": null,
       "display": null,
       "flex": null,
       "flex_flow": null,
       "grid_area": null,
       "grid_auto_columns": null,
       "grid_auto_flow": null,
       "grid_auto_rows": null,
       "grid_column": null,
       "grid_gap": null,
       "grid_row": null,
       "grid_template_areas": null,
       "grid_template_columns": null,
       "grid_template_rows": null,
       "height": null,
       "justify_content": null,
       "justify_items": null,
       "left": null,
       "margin": null,
       "max_height": null,
       "max_width": null,
       "min_height": null,
       "min_width": null,
       "object_fit": null,
       "object_position": null,
       "order": null,
       "overflow": null,
       "overflow_x": null,
       "overflow_y": null,
       "padding": null,
       "right": null,
       "top": null,
       "visibility": null,
       "width": null
      }
     },
     "d632afbb03394f2ca1eb1f852cad6cbc": {
      "model_module": "@jupyter-widgets/base",
      "model_module_version": "1.2.0",
      "model_name": "LayoutModel",
      "state": {
       "_model_module": "@jupyter-widgets/base",
       "_model_module_version": "1.2.0",
       "_model_name": "LayoutModel",
       "_view_count": null,
       "_view_module": "@jupyter-widgets/base",
       "_view_module_version": "1.2.0",
       "_view_name": "LayoutView",
       "align_content": null,
       "align_items": null,
       "align_self": null,
       "border": null,
       "bottom": null,
       "display": null,
       "flex": null,
       "flex_flow": null,
       "grid_area": null,
       "grid_auto_columns": null,
       "grid_auto_flow": null,
       "grid_auto_rows": null,
       "grid_column": null,
       "grid_gap": null,
       "grid_row": null,
       "grid_template_areas": null,
       "grid_template_columns": null,
       "grid_template_rows": null,
       "height": null,
       "justify_content": null,
       "justify_items": null,
       "left": null,
       "margin": null,
       "max_height": null,
       "max_width": null,
       "min_height": null,
       "min_width": null,
       "object_fit": null,
       "object_position": null,
       "order": null,
       "overflow": null,
       "overflow_x": null,
       "overflow_y": null,
       "padding": null,
       "right": null,
       "top": null,
       "visibility": null,
       "width": null
      }
     },
     "e42882bb4b17450f83725536955ec48e": {
      "model_module": "@jupyter-widgets/controls",
      "model_module_version": "1.5.0",
      "model_name": "DescriptionStyleModel",
      "state": {
       "_model_module": "@jupyter-widgets/controls",
       "_model_module_version": "1.5.0",
       "_model_name": "DescriptionStyleModel",
       "_view_count": null,
       "_view_module": "@jupyter-widgets/base",
       "_view_module_version": "1.2.0",
       "_view_name": "StyleView",
       "description_width": ""
      }
     },
     "eaf35e619ece4cc28a7e7d0f8c3826a2": {
      "model_module": "@jupyter-widgets/controls",
      "model_module_version": "1.5.0",
      "model_name": "HBoxModel",
      "state": {
       "_dom_classes": [],
       "_model_module": "@jupyter-widgets/controls",
       "_model_module_version": "1.5.0",
       "_model_name": "HBoxModel",
       "_view_count": null,
       "_view_module": "@jupyter-widgets/controls",
       "_view_module_version": "1.5.0",
       "_view_name": "HBoxView",
       "box_style": "",
       "children": [
        "IPY_MODEL_1930ba58b94f4ac681fa986487e916b9",
        "IPY_MODEL_2c9d3ac62f0b43c9a6017fd67a5f7797",
        "IPY_MODEL_7c8470d1043d41c48e6d8fb1a77d4909"
       ],
       "layout": "IPY_MODEL_663009d0d1fa430ca62b39ae843c0575"
      }
     },
     "ee575cc254a642b4925ba93e3548c639": {
      "model_module": "@jupyter-widgets/controls",
      "model_module_version": "1.5.0",
      "model_name": "HTMLModel",
      "state": {
       "_dom_classes": [],
       "_model_module": "@jupyter-widgets/controls",
       "_model_module_version": "1.5.0",
       "_model_name": "HTMLModel",
       "_view_count": null,
       "_view_module": "@jupyter-widgets/controls",
       "_view_module_version": "1.5.0",
       "_view_name": "HTMLView",
       "description": "",
       "description_tooltip": null,
       "layout": "IPY_MODEL_01ed06f817044ee69f1da5e98e06d3c5",
       "placeholder": "​",
       "style": "IPY_MODEL_2b9b3be97a2e444190dd40b89b9520cd",
       "value": "Downloading (…)neration_config.json: 100%"
      }
     },
     "ef5469ae0850417e9d0dd1493ffb1cb6": {
      "model_module": "@jupyter-widgets/base",
      "model_module_version": "1.2.0",
      "model_name": "LayoutModel",
      "state": {
       "_model_module": "@jupyter-widgets/base",
       "_model_module_version": "1.2.0",
       "_model_name": "LayoutModel",
       "_view_count": null,
       "_view_module": "@jupyter-widgets/base",
       "_view_module_version": "1.2.0",
       "_view_name": "LayoutView",
       "align_content": null,
       "align_items": null,
       "align_self": null,
       "border": null,
       "bottom": null,
       "display": null,
       "flex": null,
       "flex_flow": null,
       "grid_area": null,
       "grid_auto_columns": null,
       "grid_auto_flow": null,
       "grid_auto_rows": null,
       "grid_column": null,
       "grid_gap": null,
       "grid_row": null,
       "grid_template_areas": null,
       "grid_template_columns": null,
       "grid_template_rows": null,
       "height": null,
       "justify_content": null,
       "justify_items": null,
       "left": null,
       "margin": null,
       "max_height": null,
       "max_width": null,
       "min_height": null,
       "min_width": null,
       "object_fit": null,
       "object_position": null,
       "order": null,
       "overflow": null,
       "overflow_x": null,
       "overflow_y": null,
       "padding": null,
       "right": null,
       "top": null,
       "visibility": null,
       "width": null
      }
     },
     "f8b336d065c340fda3aa629ed91a5c5d": {
      "model_module": "@jupyter-widgets/base",
      "model_module_version": "1.2.0",
      "model_name": "LayoutModel",
      "state": {
       "_model_module": "@jupyter-widgets/base",
       "_model_module_version": "1.2.0",
       "_model_name": "LayoutModel",
       "_view_count": null,
       "_view_module": "@jupyter-widgets/base",
       "_view_module_version": "1.2.0",
       "_view_name": "LayoutView",
       "align_content": null,
       "align_items": null,
       "align_self": null,
       "border": null,
       "bottom": null,
       "display": null,
       "flex": null,
       "flex_flow": null,
       "grid_area": null,
       "grid_auto_columns": null,
       "grid_auto_flow": null,
       "grid_auto_rows": null,
       "grid_column": null,
       "grid_gap": null,
       "grid_row": null,
       "grid_template_areas": null,
       "grid_template_columns": null,
       "grid_template_rows": null,
       "height": null,
       "justify_content": null,
       "justify_items": null,
       "left": null,
       "margin": null,
       "max_height": null,
       "max_width": null,
       "min_height": null,
       "min_width": null,
       "object_fit": null,
       "object_position": null,
       "order": null,
       "overflow": null,
       "overflow_x": null,
       "overflow_y": null,
       "padding": null,
       "right": null,
       "top": null,
       "visibility": null,
       "width": null
      }
     },
     "fb1740f6f1f042549aed401f541b8f9e": {
      "model_module": "@jupyter-widgets/controls",
      "model_module_version": "1.5.0",
      "model_name": "DescriptionStyleModel",
      "state": {
       "_model_module": "@jupyter-widgets/controls",
       "_model_module_version": "1.5.0",
       "_model_name": "DescriptionStyleModel",
       "_view_count": null,
       "_view_module": "@jupyter-widgets/base",
       "_view_module_version": "1.2.0",
       "_view_name": "StyleView",
       "description_width": ""
      }
     },
     "fd303b761a8f40d7914cbc39e0275a67": {
      "model_module": "@jupyter-widgets/base",
      "model_module_version": "1.2.0",
      "model_name": "LayoutModel",
      "state": {
       "_model_module": "@jupyter-widgets/base",
       "_model_module_version": "1.2.0",
       "_model_name": "LayoutModel",
       "_view_count": null,
       "_view_module": "@jupyter-widgets/base",
       "_view_module_version": "1.2.0",
       "_view_name": "LayoutView",
       "align_content": null,
       "align_items": null,
       "align_self": null,
       "border": null,
       "bottom": null,
       "display": null,
       "flex": null,
       "flex_flow": null,
       "grid_area": null,
       "grid_auto_columns": null,
       "grid_auto_flow": null,
       "grid_auto_rows": null,
       "grid_column": null,
       "grid_gap": null,
       "grid_row": null,
       "grid_template_areas": null,
       "grid_template_columns": null,
       "grid_template_rows": null,
       "height": null,
       "justify_content": null,
       "justify_items": null,
       "left": null,
       "margin": null,
       "max_height": null,
       "max_width": null,
       "min_height": null,
       "min_width": null,
       "object_fit": null,
       "object_position": null,
       "order": null,
       "overflow": null,
       "overflow_x": null,
       "overflow_y": null,
       "padding": null,
       "right": null,
       "top": null,
       "visibility": null,
       "width": null
      }
     }
    },
    "version_major": 2,
    "version_minor": 0
   }
  }
 },
 "nbformat": 4,
 "nbformat_minor": 5
}
