{
 "cells": [
  {
   "cell_type": "markdown",
   "id": "4db656b6",
   "metadata": {
    "papermill": {
     "duration": 0.009811,
     "end_time": "2023-10-24T20:23:17.391055",
     "exception": false,
     "start_time": "2023-10-24T20:23:17.381244",
     "status": "completed"
    },
    "tags": []
   },
   "source": [
    "# Imports"
   ]
  },
  {
   "cell_type": "code",
   "execution_count": 1,
   "id": "f3c99620",
   "metadata": {
    "execution": {
     "iopub.execute_input": "2023-10-24T20:23:53.183819Z",
     "iopub.status.busy": "2023-10-24T20:23:53.183386Z",
     "iopub.status.idle": "2023-10-24T20:23:58.476778Z",
     "shell.execute_reply": "2023-10-24T20:23:58.475639Z"
    },
    "papermill": {
     "duration": 5.309214,
     "end_time": "2023-10-24T20:23:58.479351",
     "exception": false,
     "start_time": "2023-10-24T20:23:53.170137",
     "status": "completed"
    },
    "tags": [],
    "ExecuteTime": {
     "end_time": "2023-10-25T10:55:21.883473011Z",
     "start_time": "2023-10-25T10:55:18.519262280Z"
    }
   },
   "outputs": [],
   "source": [
    "import torch\n",
    "import torch.nn as nn\n",
    "import torchtext\n",
    "import numpy as np\n",
    "import pandas as pd\n",
    "import matplotlib.pyplot as plt\n",
    "\n",
    "from typing import Union, Optional\n",
    "from ast import literal_eval\n",
    "from pathlib import Path\n",
    "\n",
    "from torchtext.vocab import Vocab\n",
    "from torch.utils.data import DataLoader, Dataset, random_split\n",
    "from tqdm import tqdm\n",
    "from datasets import load_metric"
   ]
  },
  {
   "cell_type": "markdown",
   "id": "1d434fb0",
   "metadata": {
    "papermill": {
     "duration": 0.01108,
     "end_time": "2023-10-24T20:23:58.502127",
     "exception": false,
     "start_time": "2023-10-24T20:23:58.491047",
     "status": "completed"
    },
    "tags": []
   },
   "source": [
    "# Data loading"
   ]
  },
  {
   "cell_type": "code",
   "execution_count": 13,
   "id": "117365a9",
   "metadata": {
    "collapsed": false,
    "execution": {
     "iopub.execute_input": "2023-10-24T20:23:58.526705Z",
     "iopub.status.busy": "2023-10-24T20:23:58.526131Z",
     "iopub.status.idle": "2023-10-24T20:24:45.020992Z",
     "shell.execute_reply": "2023-10-24T20:24:45.019833Z"
    },
    "papermill": {
     "duration": 46.523406,
     "end_time": "2023-10-24T20:24:45.037032",
     "exception": false,
     "start_time": "2023-10-24T20:23:58.513626",
     "status": "completed"
    },
    "tags": [],
    "ExecuteTime": {
     "end_time": "2023-10-25T10:58:42.224871318Z",
     "start_time": "2023-10-25T10:58:09.632289200Z"
    }
   },
   "outputs": [
    {
     "data": {
      "text/plain": "                                           reference  \\\n0  [if, alkar, is, flooding, her, with, psychic, ...   \n1               [now, you, ', re, getting, nasty, .]   \n2  [well, ,, we, could, spare, your, life, ,, for...   \n3  [ah, !, monkey, ,, you, ', ve, got, to, snap, ...   \n4     [i, ', ve, got, orders, to, put, her, down, .]   \n\n                                         translation  similarity  lenght_diff  \\\n0  [if, alkar, floods, her, with, her, mental, wa...    0.785171     0.010309   \n1              [you, ', re, becoming, disgusting, .]    0.749687     0.071429   \n2           [well, ,, we, can, spare, your, life, .]    0.919051     0.268293   \n3            [monkey, ,, you, have, to, wake, up, .]    0.664333     0.309524   \n4                [i, have, orders, to, kill, her, .]    0.726639     0.181818   \n\n    ref_tox   trn_tox  \n0  0.014195  0.981983  \n1  0.065473  0.999039  \n2  0.213313  0.985068  \n3  0.053362  0.994215  \n4  0.009402  0.999348  ",
      "text/html": "<div>\n<style scoped>\n    .dataframe tbody tr th:only-of-type {\n        vertical-align: middle;\n    }\n\n    .dataframe tbody tr th {\n        vertical-align: top;\n    }\n\n    .dataframe thead th {\n        text-align: right;\n    }\n</style>\n<table border=\"1\" class=\"dataframe\">\n  <thead>\n    <tr style=\"text-align: right;\">\n      <th></th>\n      <th>reference</th>\n      <th>translation</th>\n      <th>similarity</th>\n      <th>lenght_diff</th>\n      <th>ref_tox</th>\n      <th>trn_tox</th>\n    </tr>\n  </thead>\n  <tbody>\n    <tr>\n      <th>0</th>\n      <td>[if, alkar, is, flooding, her, with, psychic, ...</td>\n      <td>[if, alkar, floods, her, with, her, mental, wa...</td>\n      <td>0.785171</td>\n      <td>0.010309</td>\n      <td>0.014195</td>\n      <td>0.981983</td>\n    </tr>\n    <tr>\n      <th>1</th>\n      <td>[now, you, ', re, getting, nasty, .]</td>\n      <td>[you, ', re, becoming, disgusting, .]</td>\n      <td>0.749687</td>\n      <td>0.071429</td>\n      <td>0.065473</td>\n      <td>0.999039</td>\n    </tr>\n    <tr>\n      <th>2</th>\n      <td>[well, ,, we, could, spare, your, life, ,, for...</td>\n      <td>[well, ,, we, can, spare, your, life, .]</td>\n      <td>0.919051</td>\n      <td>0.268293</td>\n      <td>0.213313</td>\n      <td>0.985068</td>\n    </tr>\n    <tr>\n      <th>3</th>\n      <td>[ah, !, monkey, ,, you, ', ve, got, to, snap, ...</td>\n      <td>[monkey, ,, you, have, to, wake, up, .]</td>\n      <td>0.664333</td>\n      <td>0.309524</td>\n      <td>0.053362</td>\n      <td>0.994215</td>\n    </tr>\n    <tr>\n      <th>4</th>\n      <td>[i, ', ve, got, orders, to, put, her, down, .]</td>\n      <td>[i, have, orders, to, kill, her, .]</td>\n      <td>0.726639</td>\n      <td>0.181818</td>\n      <td>0.009402</td>\n      <td>0.999348</td>\n    </tr>\n  </tbody>\n</table>\n</div>"
     },
     "execution_count": 13,
     "metadata": {},
     "output_type": "execute_result"
    }
   ],
   "source": [
    "base_path = Path('..').resolve()\n",
    "data_path = base_path / Path('data/interim/intermediate.tsv')\n",
    "model_cktp_path = base_path / 'models'/ 'encoder-decoder.pt'\n",
    "\n",
    "tox_data = pd.read_csv(data_path, sep='\\t', converters={'reference': literal_eval, 'translation': literal_eval})\n",
    "tox_data.head()"
   ]
  },
  {
   "cell_type": "markdown",
   "id": "45a9c661",
   "metadata": {
    "papermill": {
     "duration": 0.011857,
     "end_time": "2023-10-24T20:24:45.061424",
     "exception": false,
     "start_time": "2023-10-24T20:24:45.049567",
     "status": "completed"
    },
    "tags": []
   },
   "source": [
    "# Dataset"
   ]
  },
  {
   "cell_type": "code",
   "execution_count": 3,
   "id": "9b7ce890",
   "metadata": {
    "collapsed": false,
    "execution": {
     "iopub.execute_input": "2023-10-24T20:24:45.087696Z",
     "iopub.status.busy": "2023-10-24T20:24:45.087325Z",
     "iopub.status.idle": "2023-10-24T20:24:45.101375Z",
     "shell.execute_reply": "2023-10-24T20:24:45.100473Z"
    },
    "papermill": {
     "duration": 0.029919,
     "end_time": "2023-10-24T20:24:45.103522",
     "exception": false,
     "start_time": "2023-10-24T20:24:45.073603",
     "status": "completed"
    },
    "tags": [],
    "ExecuteTime": {
     "end_time": "2023-10-25T10:55:51.452197915Z",
     "start_time": "2023-10-25T10:55:51.430954952Z"
    }
   },
   "outputs": [],
   "source": [
    "UNK_IDX, PAD_IDX, BOS_IDX, EOS_IDX = 0, 1, 2, 3\n",
    "SPECIAL_SYMBOLS = ['<unk>', '<pad>', '<bos>', '<eos>']\n",
    "\n",
    "\n",
    "class DeToxificationDataset(Dataset):\n",
    "    def __init__(self, \n",
    "                 dataframe: pd.DataFrame, \n",
    "                 vocab: Optional[Vocab] = None, \n",
    "                 min_tox: float = 0.75, \n",
    "                 max_length: int = 150,\n",
    "                 amount_of_pairs: Optional[int] = None):\n",
    "        self.dataframe = dataframe\n",
    "        self.min_tox = min_tox\n",
    "        self.max_length = max_length\n",
    "        self.amount_of_pairs = amount_of_pairs or len(dataframe)\n",
    "        self._preprocess()\n",
    "        self.reference = self.dataframe['reference'].values[:self.amount_of_pairs]\n",
    "        self.translation = self.dataframe['translation'].values[:self.amount_of_pairs]\n",
    "        self.vocab = vocab or self._create_vocab()\n",
    "\n",
    "    def _preprocess(self):\n",
    "        self.dataframe = self.dataframe[\n",
    "            (self.dataframe['ref_tox'] >= self.min_tox) &\n",
    "            (self.dataframe['trn_tox'] <= 1 - self.min_tox) &\n",
    "            (self.dataframe['reference'].str.len() <= self.max_length) &\n",
    "            (self.dataframe['translation'].str.len() <= self.max_length)\n",
    "        ]\n",
    "\n",
    "    def _create_vocab(self) -> Vocab:\n",
    "        new_vocab = torchtext.vocab.build_vocab_from_iterator(\n",
    "            iter(self.reference + self.translation),\n",
    "            specials=SPECIAL_SYMBOLS\n",
    "        )\n",
    "        new_vocab.set_default_index(UNK_IDX)\n",
    "        return new_vocab\n",
    "\n",
    "    def _get_reference(self, index: int) -> list[int]:\n",
    "        return self.vocab(self.reference[index])\n",
    "\n",
    "    def _get_translation(self, index: int) -> list[int]:\n",
    "        # retrieves tags from dataset by index\n",
    "        return self.vocab(self.translation[index])\n",
    "\n",
    "    def __getitem__(self, index) -> tuple[list, list]:\n",
    "        return self._get_reference(index), self._get_translation(index)\n",
    "\n",
    "    def __len__(self) -> int:\n",
    "        return self.amount_of_pairs"
   ]
  },
  {
   "cell_type": "code",
   "execution_count": 4,
   "id": "e2bcb2a1",
   "metadata": {
    "collapsed": false,
    "execution": {
     "iopub.execute_input": "2023-10-24T20:24:45.128431Z",
     "iopub.status.busy": "2023-10-24T20:24:45.128127Z",
     "iopub.status.idle": "2023-10-24T20:24:46.590569Z",
     "shell.execute_reply": "2023-10-24T20:24:46.589473Z"
    },
    "papermill": {
     "duration": 1.478002,
     "end_time": "2023-10-24T20:24:46.593244",
     "exception": false,
     "start_time": "2023-10-24T20:24:45.115242",
     "status": "completed"
    },
    "tags": [],
    "ExecuteTime": {
     "end_time": "2023-10-25T10:55:52.592353162Z",
     "start_time": "2023-10-25T10:55:51.431610068Z"
    }
   },
   "outputs": [],
   "source": [
    "tox_dataset = DeToxificationDataset(tox_data, amount_of_pairs=50000)\n",
    "\n",
    "\n",
    "# splitting dataset into train and validation\n",
    "split_proportion = 0.9\n",
    "size = int(len(tox_dataset) * split_proportion)\n",
    "train_dataset, val_dataset = random_split(tox_dataset, [size, len(tox_dataset) - size])"
   ]
  },
  {
   "cell_type": "code",
   "execution_count": 6,
   "id": "bb8085cf",
   "metadata": {
    "ExecuteTime": {
     "end_time": "2023-10-24T17:40:55.512773525Z",
     "start_time": "2023-10-24T17:40:55.511633366Z"
    },
    "collapsed": false,
    "execution": {
     "iopub.execute_input": "2023-10-24T20:24:46.620297Z",
     "iopub.status.busy": "2023-10-24T20:24:46.619877Z",
     "iopub.status.idle": "2023-10-24T20:24:46.627418Z",
     "shell.execute_reply": "2023-10-24T20:24:46.626411Z"
    },
    "papermill": {
     "duration": 0.023943,
     "end_time": "2023-10-24T20:24:46.629946",
     "exception": false,
     "start_time": "2023-10-24T20:24:46.606003",
     "status": "completed"
    },
    "tags": []
   },
   "outputs": [
    {
     "name": "stdout",
     "output_type": "stream",
     "text": [
      "and as home grew closer and my team waited there for me to cross the plate , i realized that my shoulder was fucking killing me .\n",
      "and as the home base was getting closer , and my team was waiting there for me when i stepped on to base , i realized that shoulder pain was killing me .\n"
     ]
    }
   ],
   "source": [
    "def random_sample(some_dataset: DeToxificationDataset, vocab: Vocab):\n",
    "    idx = np.random.randint(0, len(some_dataset))\n",
    "    ref, trn = some_dataset[idx]\n",
    "    print(' '.join(vocab.lookup_tokens(ref)))\n",
    "    print(' '.join(vocab.lookup_tokens(trn)))\n",
    "\n",
    "\n",
    "random_sample(train_dataset, tox_dataset.vocab)"
   ]
  },
  {
   "cell_type": "code",
   "execution_count": 7,
   "id": "1f572762",
   "metadata": {
    "ExecuteTime": {
     "end_time": "2023-10-24T17:40:55.514762932Z",
     "start_time": "2023-10-24T17:40:55.512029792Z"
    },
    "collapsed": false,
    "execution": {
     "iopub.execute_input": "2023-10-24T20:24:46.656886Z",
     "iopub.status.busy": "2023-10-24T20:24:46.656530Z",
     "iopub.status.idle": "2023-10-24T20:24:46.663015Z",
     "shell.execute_reply": "2023-10-24T20:24:46.662157Z"
    },
    "papermill": {
     "duration": 0.021862,
     "end_time": "2023-10-24T20:24:46.665230",
     "exception": false,
     "start_time": "2023-10-24T20:24:46.643368",
     "status": "completed"
    },
    "tags": []
   },
   "outputs": [
    {
     "data": {
      "text/plain": [
       "(45000, 5000)"
      ]
     },
     "execution_count": 7,
     "metadata": {},
     "output_type": "execute_result"
    }
   ],
   "source": [
    "len(train_dataset), len(val_dataset)"
   ]
  },
  {
   "cell_type": "markdown",
   "id": "03f8850f",
   "metadata": {
    "papermill": {
     "duration": 0.011891,
     "end_time": "2023-10-24T20:24:46.688839",
     "exception": false,
     "start_time": "2023-10-24T20:24:46.676948",
     "status": "completed"
    },
    "tags": []
   },
   "source": [
    "# Dataloaders"
   ]
  },
  {
   "cell_type": "code",
   "execution_count": 8,
   "id": "7c87c930",
   "metadata": {
    "ExecuteTime": {
     "end_time": "2023-10-24T17:40:55.515591956Z",
     "start_time": "2023-10-24T17:40:55.512251007Z"
    },
    "collapsed": false,
    "execution": {
     "iopub.execute_input": "2023-10-24T20:24:46.714664Z",
     "iopub.status.busy": "2023-10-24T20:24:46.714315Z",
     "iopub.status.idle": "2023-10-24T20:24:46.723219Z",
     "shell.execute_reply": "2023-10-24T20:24:46.722250Z"
    },
    "papermill": {
     "duration": 0.024388,
     "end_time": "2023-10-24T20:24:46.725382",
     "exception": false,
     "start_time": "2023-10-24T20:24:46.700994",
     "status": "completed"
    },
    "tags": []
   },
   "outputs": [],
   "source": [
    "def collate_batch(batch: list[np.ndarray]):\n",
    "    ref_list, trn_list, trn_lengths = [], [], []\n",
    "\n",
    "    for _ref, _trn in batch:\n",
    "        ref_list.append(torch.tensor(_ref + [EOS_IDX]))\n",
    "        trn_list.append(torch.tensor(_trn + [EOS_IDX]))\n",
    "        trn_lengths.append(len(_trn))\n",
    "\n",
    "    ref_list = torch.nn.utils.rnn.pad_sequence(ref_list, padding_value=PAD_IDX, batch_first=True)\n",
    "    trn_list = torch.nn.utils.rnn.pad_sequence(trn_list, padding_value=PAD_IDX, batch_first=True)\n",
    "\n",
    "    return ref_list, trn_list, trn_lengths\n",
    "\n",
    "\n",
    "batch_size = 50\n",
    "train_dataloader = DataLoader(\n",
    "    train_dataset, batch_size=batch_size, shuffle=True, collate_fn=collate_batch\n",
    ")\n",
    "val_dataloader = DataLoader(\n",
    "    val_dataset, batch_size=batch_size, shuffle=False, collate_fn=collate_batch\n",
    ")"
   ]
  },
  {
   "cell_type": "markdown",
   "id": "0a427e5c",
   "metadata": {
    "papermill": {
     "duration": 0.013427,
     "end_time": "2023-10-24T20:24:46.751460",
     "exception": false,
     "start_time": "2023-10-24T20:24:46.738033",
     "status": "completed"
    },
    "tags": []
   },
   "source": [
    "# Model"
   ]
  },
  {
   "cell_type": "code",
   "execution_count": 5,
   "id": "a8f55550",
   "metadata": {
    "collapsed": false,
    "execution": {
     "iopub.execute_input": "2023-10-24T20:24:46.778916Z",
     "iopub.status.busy": "2023-10-24T20:24:46.778073Z",
     "iopub.status.idle": "2023-10-24T20:24:46.786679Z",
     "shell.execute_reply": "2023-10-24T20:24:46.785659Z"
    },
    "papermill": {
     "duration": 0.02506,
     "end_time": "2023-10-24T20:24:46.789155",
     "exception": false,
     "start_time": "2023-10-24T20:24:46.764095",
     "status": "completed"
    },
    "tags": [],
    "ExecuteTime": {
     "end_time": "2023-10-25T10:56:00.379106755Z",
     "start_time": "2023-10-25T10:56:00.364080035Z"
    }
   },
   "outputs": [],
   "source": [
    "class BahdanauAttention(nn.Module):\n",
    "    def __init__(self, hidden_dim: int):\n",
    "        super(BahdanauAttention, self).__init__()\n",
    "        self.Wa = nn.Linear(hidden_dim, hidden_dim)\n",
    "        self.Ua = nn.Linear(hidden_dim, hidden_dim)\n",
    "        self.Va = nn.Linear(hidden_dim, 1)\n",
    "        self.act = nn.Softmax(dim=-1)\n",
    "\n",
    "    def forward(self, query: torch.Tensor, keys: torch.Tensor) -> tuple[torch.Tensor, torch.Tensor]:\n",
    "        scores: torch.Tensor = self.Va(torch.tanh(self.Wa(query) + self.Ua(keys)))\n",
    "        scores = scores.squeeze(2).unsqueeze(1)\n",
    "\n",
    "        weights = self.act(scores)\n",
    "        context = torch.bmm(weights, keys)\n",
    "\n",
    "        return context, weights"
   ]
  },
  {
   "cell_type": "code",
   "execution_count": 6,
   "id": "b43c6229",
   "metadata": {
    "collapsed": false,
    "execution": {
     "iopub.execute_input": "2023-10-24T20:24:46.816464Z",
     "iopub.status.busy": "2023-10-24T20:24:46.816095Z",
     "iopub.status.idle": "2023-10-24T20:24:46.829558Z",
     "shell.execute_reply": "2023-10-24T20:24:46.828560Z"
    },
    "papermill": {
     "duration": 0.029811,
     "end_time": "2023-10-24T20:24:46.831839",
     "exception": false,
     "start_time": "2023-10-24T20:24:46.802028",
     "status": "completed"
    },
    "tags": [],
    "ExecuteTime": {
     "end_time": "2023-10-25T10:56:00.905196993Z",
     "start_time": "2023-10-25T10:56:00.902212927Z"
    }
   },
   "outputs": [],
   "source": [
    "class EncoderRNN(nn.Module):\n",
    "    def __init__(self,\n",
    "                 num_embeddings: int,\n",
    "                 embedding_dim: int,\n",
    "                 hidden_dim: int,\n",
    "                 lstm_layers: int,\n",
    "                 dropout_p: float = 0.1):\n",
    "        super(EncoderRNN, self).__init__()\n",
    "        self.lstm_layers = lstm_layers\n",
    "        self.hidden_dim = hidden_dim\n",
    "\n",
    "        self.embedding = nn.Embedding(num_embeddings=num_embeddings, embedding_dim=embedding_dim)\n",
    "        self.rnn = nn.LSTM(\n",
    "            input_size=embedding_dim, hidden_size=hidden_dim, num_layers=lstm_layers,\n",
    "            batch_first=True, dropout=dropout_p\n",
    "        )\n",
    "        self.dropout = nn.Dropout(dropout_p)\n",
    "        self.device: Optional[torch.device] = None\n",
    "\n",
    "    def _get_initial_shape(self, x: torch.Tensor) -> tuple[int, ...]:\n",
    "        if self.device is None:\n",
    "            self.device = torch.device(\"cuda\" if x.get_device() > -1 else \"cpu\")\n",
    "        if len(x.shape) == 2:\n",
    "            return self.lstm_layers, self.hidden_dim\n",
    "        return self.lstm_layers, x.shape[0], self.hidden_dim\n",
    "\n",
    "    def forward(self,\n",
    "                x: torch.Tensor,\n",
    "                h_0: Optional[torch.Tensor] = None,\n",
    "                c_0: Optional[torch.Tensor] = None) -> tuple[torch.Tensor, torch.Tensor, torch.Tensor]:\n",
    "        embedded = self.dropout(self.embedding(x))\n",
    "        h_and_c_shape = self._get_initial_shape(embedded)\n",
    "        if h_0 is None:\n",
    "            h_0 = torch.zeros(h_and_c_shape).to(self.device)\n",
    "        if c_0 is None:\n",
    "            c_0 = torch.zeros(h_and_c_shape).to(self.device)\n",
    "\n",
    "        output, (h_n, c_n) = self.rnn(embedded, (h_0, c_0))\n",
    "        return output, h_n, c_n"
   ]
  },
  {
   "cell_type": "code",
   "execution_count": 7,
   "id": "e51954d7",
   "metadata": {
    "collapsed": false,
    "execution": {
     "iopub.execute_input": "2023-10-24T20:24:46.859776Z",
     "iopub.status.busy": "2023-10-24T20:24:46.859380Z",
     "iopub.status.idle": "2023-10-24T20:24:46.879826Z",
     "shell.execute_reply": "2023-10-24T20:24:46.878782Z"
    },
    "papermill": {
     "duration": 0.037657,
     "end_time": "2023-10-24T20:24:46.882428",
     "exception": false,
     "start_time": "2023-10-24T20:24:46.844771",
     "status": "completed"
    },
    "tags": [],
    "ExecuteTime": {
     "end_time": "2023-10-25T10:56:02.537390485Z",
     "start_time": "2023-10-25T10:56:02.512667827Z"
    }
   },
   "outputs": [],
   "source": [
    "class AttnDecoderRNN(nn.Module):\n",
    "    def __init__(self,\n",
    "                 num_embeddings: int,\n",
    "                 embedding_dim: int,\n",
    "                 hidden_dim: int,\n",
    "                 lstm_layers: int,\n",
    "                 dropout_p: float = 0.1):\n",
    "        super(AttnDecoderRNN, self).__init__()\n",
    "        self.embedding = nn.Embedding(num_embeddings=num_embeddings, embedding_dim=embedding_dim)\n",
    "        self.rnn = nn.LSTM(\n",
    "            input_size=2 * embedding_dim, hidden_size=hidden_dim, num_layers=lstm_layers,\n",
    "            batch_first=True, dropout=dropout_p\n",
    "        )\n",
    "        self.attention_h = BahdanauAttention(hidden_dim)\n",
    "        self.out = nn.Linear(hidden_dim, num_embeddings)\n",
    "        self.dropout = nn.Dropout(dropout_p)\n",
    "        self.device: Optional[torch.device] = None\n",
    "\n",
    "    def _set_device(self, x: torch.Tensor):\n",
    "        if self.device is None:\n",
    "            self.device = torch.device(\"cuda\" if x.get_device() > -1 else \"cpu\")\n",
    "\n",
    "    def forward(self,\n",
    "                x: torch.Tensor,\n",
    "                h_n: torch.Tensor,\n",
    "                c_n: torch.Tensor,\n",
    "                encoder_outputs: torch.Tensor,\n",
    "                target_tensor: Optional[torch.Tensor] = None,\n",
    "                max_length: Optional[int] = None):\n",
    "        if max_length is None and target_tensor is None:\n",
    "            raise ValueError(\"either max_length or target_tensor should be specified!\")\n",
    "        if target_tensor is not None:\n",
    "            max_length = target_tensor.shape[1]\n",
    "        self._set_device(x)\n",
    "\n",
    "        b_size = x.shape[0]\n",
    "        decoder_input = torch.empty((b_size, 1), dtype=torch.long).fill_(BOS_IDX).to(self.device)\n",
    "        decoder_h_n = h_n\n",
    "        decoder_c_n = c_n\n",
    "        decoder_outputs = []\n",
    "        attentions = []\n",
    "\n",
    "        for i in range(max_length):\n",
    "            decoder_output, decoder_h_n, decoder_c_n, attn_weights = self.forward_step(\n",
    "                decoder_input, decoder_h_n, decoder_c_n, encoder_outputs\n",
    "            )\n",
    "            decoder_outputs.append(decoder_output)\n",
    "            attentions.append(attn_weights)\n",
    "\n",
    "            if target_tensor is not None:\n",
    "                # Teacher forcing: Feed the target as the next input\n",
    "                decoder_input = target_tensor[:, i].unsqueeze(1)  # Teacher forcing\n",
    "            else:\n",
    "                # Without teacher forcing: use its own predictions as the next input\n",
    "                _, topi = decoder_output.topk(1)\n",
    "                decoder_input = topi.squeeze(-1).detach()  # detach from history as input\n",
    "\n",
    "            if torch.cuda.is_available():\n",
    "                torch.cuda.empty_cache()\n",
    "\n",
    "        decoder_outputs = torch.cat(decoder_outputs, dim=1)\n",
    "        attentions = torch.cat(attentions, dim=1)\n",
    "\n",
    "        return decoder_outputs, decoder_h_n, decoder_c_n, attentions\n",
    "\n",
    "    def forward_step(self, \n",
    "                     decoder_input: torch.Tensor, \n",
    "                     decoder_h_0: torch.Tensor,\n",
    "                     decoder_c_0: torch.Tensor,\n",
    "                     encoder_outputs: torch.Tensor) -> tuple[torch.Tensor, ...]:\n",
    "        embedded = self.dropout(self.embedding(decoder_input))\n",
    "\n",
    "        query = decoder_h_0[-1].unsqueeze(0).permute(1, 0, 2)\n",
    "        context, attn_weights = self.attention_h(query, encoder_outputs)\n",
    "        input_lstm = torch.cat((embedded, context), dim=2)\n",
    "\n",
    "        output, (h_n, c_n) = self.rnn(input_lstm, (decoder_h_0, decoder_c_0))\n",
    "        output = self.out(output)\n",
    "\n",
    "        return output, h_n, c_n, attn_weights"
   ]
  },
  {
   "cell_type": "code",
   "execution_count": 8,
   "id": "705de249",
   "metadata": {
    "collapsed": false,
    "execution": {
     "iopub.execute_input": "2023-10-24T20:24:46.910084Z",
     "iopub.status.busy": "2023-10-24T20:24:46.909661Z",
     "iopub.status.idle": "2023-10-24T20:24:46.918595Z",
     "shell.execute_reply": "2023-10-24T20:24:46.917660Z"
    },
    "papermill": {
     "duration": 0.025328,
     "end_time": "2023-10-24T20:24:46.920839",
     "exception": false,
     "start_time": "2023-10-24T20:24:46.895511",
     "status": "completed"
    },
    "tags": [],
    "ExecuteTime": {
     "end_time": "2023-10-25T10:56:04.124042862Z",
     "start_time": "2023-10-25T10:56:04.078469272Z"
    }
   },
   "outputs": [],
   "source": [
    "class DeToxification(nn.Module):\n",
    "    def __init__(self,\n",
    "                 num_embeddings: int,\n",
    "                 embedding_dim: int,\n",
    "                 hidden_dim: int,\n",
    "                 lstm_layers: int,\n",
    "                 dropout_p: float = 0.1):\n",
    "        super(DeToxification, self).__init__()\n",
    "        self.enc = EncoderRNN(\n",
    "            num_embeddings=num_embeddings,\n",
    "            embedding_dim=embedding_dim,\n",
    "            hidden_dim=hidden_dim,\n",
    "            lstm_layers=lstm_layers,\n",
    "            dropout_p=dropout_p,\n",
    "        )\n",
    "        self.dec = AttnDecoderRNN(\n",
    "            num_embeddings=num_embeddings,\n",
    "            embedding_dim=embedding_dim,\n",
    "            hidden_dim=hidden_dim,\n",
    "            lstm_layers=lstm_layers,\n",
    "            dropout_p=dropout_p,\n",
    "        )\n",
    "\n",
    "    def forward(self, \n",
    "                x: torch.Tensor, \n",
    "                target: Optional[torch.Tensor] = None, \n",
    "                max_length: Optional[int] = None) -> torch.Tensor:\n",
    "        out_e, h_n_e, c_n_e = self.enc(x)\n",
    "        out_d, _, _, _ = self.dec(x, h_n_e, c_n_e, out_e, target, max_length)\n",
    "        return out_d"
   ]
  },
  {
   "cell_type": "markdown",
   "id": "38f70914",
   "metadata": {
    "papermill": {
     "duration": 0.012472,
     "end_time": "2023-10-24T20:24:46.946054",
     "exception": false,
     "start_time": "2023-10-24T20:24:46.933582",
     "status": "completed"
    },
    "tags": []
   },
   "source": [
    "# Training"
   ]
  },
  {
   "cell_type": "code",
   "execution_count": 9,
   "id": "929fb3ad",
   "metadata": {
    "collapsed": false,
    "execution": {
     "iopub.execute_input": "2023-10-24T20:24:46.973313Z",
     "iopub.status.busy": "2023-10-24T20:24:46.972894Z",
     "iopub.status.idle": "2023-10-24T20:24:46.978506Z",
     "shell.execute_reply": "2023-10-24T20:24:46.977483Z"
    },
    "papermill": {
     "duration": 0.02211,
     "end_time": "2023-10-24T20:24:46.980996",
     "exception": false,
     "start_time": "2023-10-24T20:24:46.958886",
     "status": "completed"
    },
    "tags": [],
    "ExecuteTime": {
     "end_time": "2023-10-25T10:56:06.027942676Z",
     "start_time": "2023-10-25T10:56:06.006416206Z"
    }
   },
   "outputs": [],
   "source": [
    "def to_device(dev: torch.device, *args: torch.Tensor) -> tuple[torch.Tensor, ...]:\n",
    "    return tuple(t.to(dev) for t in args)"
   ]
  },
  {
   "cell_type": "code",
   "execution_count": 10,
   "id": "f143ee3f",
   "metadata": {
    "collapsed": false,
    "execution": {
     "iopub.execute_input": "2023-10-24T20:24:47.009002Z",
     "iopub.status.busy": "2023-10-24T20:24:47.007852Z",
     "iopub.status.idle": "2023-10-24T20:24:53.038133Z",
     "shell.execute_reply": "2023-10-24T20:24:53.037051Z"
    },
    "papermill": {
     "duration": 6.046684,
     "end_time": "2023-10-24T20:24:53.040422",
     "exception": false,
     "start_time": "2023-10-24T20:24:46.993738",
     "status": "completed"
    },
    "tags": [],
    "ExecuteTime": {
     "end_time": "2023-10-25T10:56:08.081550094Z",
     "start_time": "2023-10-25T10:56:06.825586277Z"
    }
   },
   "outputs": [
    {
     "data": {
      "text/plain": "device(type='cuda')"
     },
     "execution_count": 10,
     "metadata": {},
     "output_type": "execute_result"
    }
   ],
   "source": [
    "device = torch.device(\"cuda\" if torch.cuda.is_available() else \"cpu\")\n",
    "model = DeToxification(\n",
    "    num_embeddings=len(tox_dataset.vocab),\n",
    "    embedding_dim=300,\n",
    "    hidden_dim=300,\n",
    "    lstm_layers=5,\n",
    "    dropout_p=0.3,\n",
    ").to(device)\n",
    "loss_function = torch.nn.CrossEntropyLoss()\n",
    "optimizer = torch.optim.Adam(model.parameters())\n",
    "device"
   ]
  },
  {
   "cell_type": "code",
   "execution_count": 15,
   "id": "e2741d37",
   "metadata": {
    "ExecuteTime": {
     "end_time": "2023-10-24T18:08:26.901895675Z",
     "start_time": "2023-10-24T18:08:20.590658469Z"
    },
    "collapsed": false,
    "execution": {
     "iopub.execute_input": "2023-10-24T20:24:53.066655Z",
     "iopub.status.busy": "2023-10-24T20:24:53.066350Z",
     "iopub.status.idle": "2023-10-24T20:24:53.530063Z",
     "shell.execute_reply": "2023-10-24T20:24:53.529009Z"
    },
    "papermill": {
     "duration": 0.47945,
     "end_time": "2023-10-24T20:24:53.532547",
     "exception": false,
     "start_time": "2023-10-24T20:24:53.053097",
     "status": "completed"
    },
    "tags": []
   },
   "outputs": [
    {
     "data": {
      "application/vnd.jupyter.widget-view+json": {
       "model_id": "0eda3f7cb7204245ba51054af954c79d",
       "version_major": 2,
       "version_minor": 0
      },
      "text/plain": [
       "Downloading builder script:   0%|          | 0.00/2.85k [00:00<?, ?B/s]"
      ]
     },
     "metadata": {},
     "output_type": "display_data"
    },
    {
     "data": {
      "text/plain": [
       "Metric(name: \"sacrebleu\", features: {'predictions': Value(dtype='string', id='sequence'), 'references': Sequence(feature=Value(dtype='string', id='sequence'), length=-1, id='references')}, usage: \"\"\"\n",
       "Produces BLEU scores along with its sufficient statistics\n",
       "from a source against one or more references.\n",
       "\n",
       "Args:\n",
       "    predictions (`list` of `str`): list of translations to score. Each translation should be tokenized into a list of tokens.\n",
       "    references (`list` of `list` of `str`): A list of lists of references. The contents of the first sub-list are the references for the first prediction, the contents of the second sub-list are for the second prediction, etc. Note that there must be the same number of references for each prediction (i.e. all sub-lists must be of the same length).\n",
       "    smooth_method (`str`): The smoothing method to use, defaults to `'exp'`. Possible values are:\n",
       "        - `'none'`: no smoothing\n",
       "        - `'floor'`: increment zero counts\n",
       "        - `'add-k'`: increment num/denom by k for n>1\n",
       "        - `'exp'`: exponential decay\n",
       "    smooth_value (`float`): The smoothing value. Only valid when `smooth_method='floor'` (in which case `smooth_value` defaults to `0.1`) or `smooth_method='add-k'` (in which case `smooth_value` defaults to `1`).\n",
       "    tokenize (`str`): Tokenization method to use for BLEU. If not provided, defaults to `'zh'` for Chinese, `'ja-mecab'` for Japanese and `'13a'` (mteval) otherwise. Possible values are:\n",
       "        - `'none'`: No tokenization.\n",
       "        - `'zh'`: Chinese tokenization.\n",
       "        - `'13a'`: mimics the `mteval-v13a` script from Moses.\n",
       "        - `'intl'`: International tokenization, mimics the `mteval-v14` script from Moses\n",
       "        - `'char'`: Language-agnostic character-level tokenization.\n",
       "        - `'ja-mecab'`: Japanese tokenization. Uses the [MeCab tokenizer](https://pypi.org/project/mecab-python3).\n",
       "    lowercase (`bool`): If `True`, lowercases the input, enabling case-insensitivity. Defaults to `False`.\n",
       "    force (`bool`): If `True`, insists that your tokenized input is actually detokenized. Defaults to `False`.\n",
       "    use_effective_order (`bool`): If `True`, stops including n-gram orders for which precision is 0. This should be `True`, if sentence-level BLEU will be computed. Defaults to `False`.\n",
       "\n",
       "Returns:\n",
       "    'score': BLEU score,\n",
       "    'counts': Counts,\n",
       "    'totals': Totals,\n",
       "    'precisions': Precisions,\n",
       "    'bp': Brevity penalty,\n",
       "    'sys_len': predictions length,\n",
       "    'ref_len': reference length,\n",
       "\n",
       "Examples:\n",
       "\n",
       "    Example 1:\n",
       "        >>> predictions = [\"hello there general kenobi\", \"foo bar foobar\"]\n",
       "        >>> references = [[\"hello there general kenobi\", \"hello there !\"], [\"foo bar foobar\", \"foo bar foobar\"]]\n",
       "        >>> sacrebleu = datasets.load_metric(\"sacrebleu\")\n",
       "        >>> results = sacrebleu.compute(predictions=predictions, references=references)\n",
       "        >>> print(list(results.keys()))\n",
       "        ['score', 'counts', 'totals', 'precisions', 'bp', 'sys_len', 'ref_len']\n",
       "        >>> print(round(results[\"score\"], 1))\n",
       "        100.0\n",
       "\n",
       "    Example 2:\n",
       "        >>> predictions = [\"hello there general kenobi\",\n",
       "        ...                 \"on our way to ankh morpork\"]\n",
       "        >>> references = [[\"hello there general kenobi\", \"hello there !\"],\n",
       "        ...                 [\"goodbye ankh morpork\", \"ankh morpork\"]]\n",
       "        >>> sacrebleu = datasets.load_metric(\"sacrebleu\")\n",
       "        >>> results = sacrebleu.compute(predictions=predictions,\n",
       "        ...                             references=references)\n",
       "        >>> print(list(results.keys()))\n",
       "        ['score', 'counts', 'totals', 'precisions', 'bp', 'sys_len', 'ref_len']\n",
       "        >>> print(round(results[\"score\"], 1))\n",
       "        39.8\n",
       "\"\"\", stored examples: 0)"
      ]
     },
     "execution_count": 15,
     "metadata": {},
     "output_type": "execute_result"
    }
   ],
   "source": [
    "# Load the BLUE metric\n",
    "sacrebleu = load_metric(\"sacrebleu\")\n",
    "sacrebleu"
   ]
  },
  {
   "cell_type": "code",
   "execution_count": 16,
   "id": "4db0806b",
   "metadata": {
    "ExecuteTime": {
     "end_time": "2023-10-24T18:08:27.613405991Z",
     "start_time": "2023-10-24T18:08:27.600622378Z"
    },
    "collapsed": false,
    "execution": {
     "iopub.execute_input": "2023-10-24T20:24:53.559666Z",
     "iopub.status.busy": "2023-10-24T20:24:53.558671Z",
     "iopub.status.idle": "2023-10-24T20:24:53.578371Z",
     "shell.execute_reply": "2023-10-24T20:24:53.577503Z"
    },
    "papermill": {
     "duration": 0.035813,
     "end_time": "2023-10-24T20:24:53.580662",
     "exception": false,
     "start_time": "2023-10-24T20:24:53.544849",
     "status": "completed"
    },
    "tags": []
   },
   "outputs": [],
   "source": [
    "def train(tr_model: nn.Module,\n",
    "          epochs: int, \n",
    "          train_ld: DataLoader, \n",
    "          val_ld: DataLoader,\n",
    "          optim: torch.optim.Optimizer,\n",
    "          loss_fn: nn.CrossEntropyLoss,\n",
    "          vocab: Vocab,\n",
    "          metric,\n",
    "          dev: torch.device,\n",
    "          ckpt_path: Union[Path, str]) -> tuple[list[float], list[float], float]:\n",
    "    tr_losses = []\n",
    "    vl_losses = []\n",
    "    _best = 0\n",
    "    # loop for every epoch (training + evaluation)\n",
    "    for epoch in range(1, epochs + 1):\n",
    "        total_loss = 0\n",
    "    \n",
    "        # progress bar\n",
    "        progress_train = tqdm(enumerate(train_ld, 1), desc=\"Loss: \", total=len(train_ld))\n",
    "    \n",
    "        # ----------------- TRAINING  --------------------\n",
    "        # set model to training\n",
    "        tr_model.train()\n",
    "    \n",
    "        for i, data in progress_train:\n",
    "            inputs, targets = to_device(dev, *data[:-1])\n",
    "    \n",
    "            # training step for single batch\n",
    "            optim.zero_grad()\n",
    "    \n",
    "            outputs = tr_model(inputs, targets)\n",
    "            outputs = outputs.permute(0, 2, 1)\n",
    "            loss = loss_fn(outputs, targets)\n",
    "    \n",
    "            # update running training loss\n",
    "            current_loss = loss.item()\n",
    "            total_loss += current_loss\n",
    "    \n",
    "            # optimizer run\n",
    "            loss.backward()\n",
    "            optim.step()\n",
    "    \n",
    "            # updating progress bar\n",
    "            progress_train.set_description(\"Loss: {:.4f}\".format(total_loss / i))\n",
    "\n",
    "            # releasing unnecessary memory in GPU\n",
    "            if torch.cuda.is_available():\n",
    "                torch.cuda.empty_cache()\n",
    "    \n",
    "        # releasing unnecessary memory in GPU\n",
    "        if torch.cuda.is_available():\n",
    "            torch.cuda.empty_cache()\n",
    "    \n",
    "        # ----------------- VALIDATION  -----------------\n",
    "        # progress bar\n",
    "        progress_val = tqdm(enumerate(val_ld, 1), desc=\"Loss: \", total=len(val_ld))\n",
    "        val_loss_total = 0\n",
    "        metric_total = 0\n",
    "    \n",
    "        # set model to evaluating (testing)\n",
    "        tr_model.eval()\n",
    "        with torch.no_grad():\n",
    "            for i, data in progress_val:\n",
    "                lengths = data[-1]\n",
    "                inputs, targets = to_device(dev, *data[:-1])\n",
    "    \n",
    "                outputs = tr_model(inputs, max_length=targets.shape[1])\n",
    "                outputs = outputs.permute(0, 2, 1)\n",
    "    \n",
    "                # update running validation loss\n",
    "                val_loss_total += loss_function(outputs, targets).item()\n",
    "                predicted = outputs.argmax(dim=1)\n",
    "\n",
    "                predicted = predicted.detach().cpu().numpy()\n",
    "                targets = targets.detach().cpu().numpy()\n",
    "    \n",
    "                predicted = [' '.join(vocab.lookup_tokens(row[:ln])) for row, ln in zip(predicted, lengths)]\n",
    "                targets = [[' '.join(vocab.lookup_tokens(row[:ln]))] for row, ln in zip(targets, lengths)]\n",
    "                metric_total += metric.compute(predictions=predicted, references=targets)['score']\n",
    "    \n",
    "                progress_val.set_description(\"Loss: {:.4f}, Sacrebleu: {:.4f}\".format(val_loss_total / i, metric_total / i))\n",
    "\n",
    "                # releasing unnecessary memory in GPU\n",
    "                if torch.cuda.is_available():\n",
    "                    torch.cuda.empty_cache()\n",
    "\n",
    "        if _best < metric_total / len(val_ld):\n",
    "            torch.save(tr_model.state_dict(), ckpt_path)\n",
    "            _best = metric_total / len(val_ld)\n",
    "\n",
    "        print(\n",
    "            f\"Epoch {epoch}/{epochs}, \"\n",
    "            f\"training loss: {total_loss / len(train_ld):.4f}, \"\n",
    "            f\"validation loss: {val_loss_total / len(val_ld):.4f}, \"\n",
    "            f\"sacrebleu: {metric_total / len(val_ld):.4f}\"\n",
    "        )\n",
    "        tr_losses.append(total_loss / len(train_ld))\n",
    "        vl_losses.append(val_loss_total / len(val_ld))\n",
    "\n",
    "    return tr_losses, vl_losses, _best"
   ]
  },
  {
   "cell_type": "code",
   "execution_count": 17,
   "id": "d6ebe03a",
   "metadata": {
    "ExecuteTime": {
     "end_time": "2023-10-24T18:08:29.241561857Z",
     "start_time": "2023-10-24T18:08:28.727731125Z"
    },
    "collapsed": false,
    "execution": {
     "iopub.execute_input": "2023-10-24T20:24:53.607627Z",
     "iopub.status.busy": "2023-10-24T20:24:53.607306Z",
     "iopub.status.idle": "2023-10-24T21:32:20.456755Z",
     "shell.execute_reply": "2023-10-24T21:32:20.455517Z"
    },
    "papermill": {
     "duration": 4046.86561,
     "end_time": "2023-10-24T21:32:20.459274",
     "exception": false,
     "start_time": "2023-10-24T20:24:53.593664",
     "status": "completed"
    },
    "tags": []
   },
   "outputs": [
    {
     "name": "stderr",
     "output_type": "stream",
     "text": [
      "Loss: 2.1762: 100%|██████████| 900/900 [06:31<00:00,  2.30it/s]\n",
      "Loss: 2.1040, Sacrebleu: 0.3693: 100%|██████████| 100/100 [00:12<00:00,  8.03it/s]\n"
     ]
    },
    {
     "name": "stdout",
     "output_type": "stream",
     "text": [
      "Epoch 1/10, training loss: 2.1762, validation loss: 2.1040, sacrebleu: 0.3693\n"
     ]
    },
    {
     "name": "stderr",
     "output_type": "stream",
     "text": [
      "Loss: 1.9613: 100%|██████████| 900/900 [06:34<00:00,  2.28it/s]\n",
      "Loss: 2.4945, Sacrebleu: 0.6672: 100%|██████████| 100/100 [00:11<00:00,  8.35it/s]\n"
     ]
    },
    {
     "name": "stdout",
     "output_type": "stream",
     "text": [
      "Epoch 2/10, training loss: 1.9613, validation loss: 2.4945, sacrebleu: 0.6672\n"
     ]
    },
    {
     "name": "stderr",
     "output_type": "stream",
     "text": [
      "Loss: 1.5907: 100%|██████████| 900/900 [06:30<00:00,  2.30it/s]\n",
      "Loss: 2.8447, Sacrebleu: 2.3394: 100%|██████████| 100/100 [00:12<00:00,  8.11it/s]\n"
     ]
    },
    {
     "name": "stdout",
     "output_type": "stream",
     "text": [
      "Epoch 3/10, training loss: 1.5907, validation loss: 2.8447, sacrebleu: 2.3394\n"
     ]
    },
    {
     "name": "stderr",
     "output_type": "stream",
     "text": [
      "Loss: 1.4103: 100%|██████████| 900/900 [06:32<00:00,  2.29it/s]\n",
      "Loss: 2.9585, Sacrebleu: 3.6943: 100%|██████████| 100/100 [00:12<00:00,  7.98it/s]\n"
     ]
    },
    {
     "name": "stdout",
     "output_type": "stream",
     "text": [
      "Epoch 4/10, training loss: 1.4103, validation loss: 2.9585, sacrebleu: 3.6943\n"
     ]
    },
    {
     "name": "stderr",
     "output_type": "stream",
     "text": [
      "Loss: 1.2972: 100%|██████████| 900/900 [06:34<00:00,  2.28it/s]\n",
      "Loss: 3.0781, Sacrebleu: 4.6085: 100%|██████████| 100/100 [00:11<00:00,  8.46it/s]\n"
     ]
    },
    {
     "name": "stdout",
     "output_type": "stream",
     "text": [
      "Epoch 5/10, training loss: 1.2972, validation loss: 3.0781, sacrebleu: 4.6085\n"
     ]
    },
    {
     "name": "stderr",
     "output_type": "stream",
     "text": [
      "Loss: 1.2197: 100%|██████████| 900/900 [06:32<00:00,  2.29it/s]\n",
      "Loss: 3.1129, Sacrebleu: 5.2301: 100%|██████████| 100/100 [00:12<00:00,  8.12it/s]\n"
     ]
    },
    {
     "name": "stdout",
     "output_type": "stream",
     "text": [
      "Epoch 6/10, training loss: 1.2197, validation loss: 3.1129, sacrebleu: 5.2301\n"
     ]
    },
    {
     "name": "stderr",
     "output_type": "stream",
     "text": [
      "Loss: 1.1560: 100%|██████████| 900/900 [06:31<00:00,  2.30it/s]\n",
      "Loss: 3.1921, Sacrebleu: 6.3398: 100%|██████████| 100/100 [00:12<00:00,  8.30it/s]\n"
     ]
    },
    {
     "name": "stdout",
     "output_type": "stream",
     "text": [
      "Epoch 7/10, training loss: 1.1560, validation loss: 3.1921, sacrebleu: 6.3398\n"
     ]
    },
    {
     "name": "stderr",
     "output_type": "stream",
     "text": [
      "Loss: 1.1031: 100%|██████████| 900/900 [06:29<00:00,  2.31it/s]\n",
      "Loss: 3.2885, Sacrebleu: 6.8194: 100%|██████████| 100/100 [00:12<00:00,  8.08it/s]\n"
     ]
    },
    {
     "name": "stdout",
     "output_type": "stream",
     "text": [
      "Epoch 8/10, training loss: 1.1031, validation loss: 3.2885, sacrebleu: 6.8194\n"
     ]
    },
    {
     "name": "stderr",
     "output_type": "stream",
     "text": [
      "Loss: 1.0462: 100%|██████████| 900/900 [06:31<00:00,  2.30it/s]\n",
      "Loss: 3.3420, Sacrebleu: 6.7742: 100%|██████████| 100/100 [00:12<00:00,  8.15it/s]\n"
     ]
    },
    {
     "name": "stdout",
     "output_type": "stream",
     "text": [
      "Epoch 9/10, training loss: 1.0462, validation loss: 3.3420, sacrebleu: 6.7742\n"
     ]
    },
    {
     "name": "stderr",
     "output_type": "stream",
     "text": [
      "Loss: 0.9931: 100%|██████████| 900/900 [06:32<00:00,  2.29it/s]\n",
      "Loss: 3.4068, Sacrebleu: 7.2083: 100%|██████████| 100/100 [00:12<00:00,  8.16it/s]\n"
     ]
    },
    {
     "name": "stdout",
     "output_type": "stream",
     "text": [
      "Epoch 10/10, training loss: 0.9931, validation loss: 3.4068, sacrebleu: 7.2083\n"
     ]
    }
   ],
   "source": [
    "train_losses, val_losses, best_score = train(\n",
    "    tr_model=model,\n",
    "    epochs=10,\n",
    "    train_ld=train_dataloader,\n",
    "    val_ld=val_dataloader,\n",
    "    optim=optimizer,\n",
    "    loss_fn=loss_function,\n",
    "    vocab=tox_dataset.vocab,\n",
    "    metric=sacrebleu,\n",
    "    dev=device,\n",
    "    ckpt_path=model_cktp_path\n",
    ")"
   ]
  },
  {
   "cell_type": "code",
   "execution_count": 18,
   "id": "908089ac",
   "metadata": {
    "execution": {
     "iopub.execute_input": "2023-10-24T21:32:24.223565Z",
     "iopub.status.busy": "2023-10-24T21:32:24.223154Z",
     "iopub.status.idle": "2023-10-24T21:32:24.575232Z",
     "shell.execute_reply": "2023-10-24T21:32:24.574278Z"
    },
    "papermill": {
     "duration": 2.180546,
     "end_time": "2023-10-24T21:32:24.577523",
     "exception": false,
     "start_time": "2023-10-24T21:32:22.396977",
     "status": "completed"
    },
    "tags": []
   },
   "outputs": [
    {
     "data": {
      "image/png": "[encoded data removed]",
      "text/plain": [
       "<Figure size 640x480 with 1 Axes>"
      ]
     },
     "metadata": {},
     "output_type": "display_data"
    }
   ],
   "source": [
    "epochs_arr = np.arange(1, len(train_losses) + 1, 1)\n",
    "plt.title('Train history')\n",
    "plt.plot(epochs_arr, train_losses, c='b', label='Train loss')\n",
    "plt.plot(epochs_arr, val_losses, c='r', label='Validation loss')\n",
    "plt.legend(loc='best')\n",
    "plt.xlabel('Epochs')\n",
    "plt.ylabel('Cross entropy loss')\n",
    "plt.show()"
   ]
  },
  {
   "cell_type": "markdown",
   "source": [
    "# Test"
   ],
   "metadata": {
    "collapsed": false
   },
   "id": "5c12e2f639e4defa"
  },
  {
   "cell_type": "code",
   "execution_count": 14,
   "outputs": [
    {
     "data": {
      "text/plain": "DeToxification(\n  (enc): EncoderRNN(\n    (embedding): Embedding(34217, 300)\n    (rnn): LSTM(300, 300, num_layers=5, batch_first=True, dropout=0.3)\n    (dropout): Dropout(p=0.3, inplace=False)\n  )\n  (dec): AttnDecoderRNN(\n    (embedding): Embedding(34217, 300)\n    (rnn): LSTM(600, 300, num_layers=5, batch_first=True, dropout=0.3)\n    (attention_h): BahdanauAttention(\n      (Wa): Linear(in_features=300, out_features=300, bias=True)\n      (Ua): Linear(in_features=300, out_features=300, bias=True)\n      (Va): Linear(in_features=300, out_features=1, bias=True)\n      (act): Softmax(dim=-1)\n    )\n    (out): Linear(in_features=300, out_features=34217, bias=True)\n    (dropout): Dropout(p=0.3, inplace=False)\n  )\n)"
     },
     "execution_count": 14,
     "metadata": {},
     "output_type": "execute_result"
    }
   ],
   "source": [
    "model = DeToxification(\n",
    "    num_embeddings=len(tox_dataset.vocab),\n",
    "    embedding_dim=300,\n",
    "    hidden_dim=300,\n",
    "    lstm_layers=5,\n",
    "    dropout_p=0.3,\n",
    ")\n",
    "model.load_state_dict(torch.load(model_cktp_path))\n",
    "model.to(device)"
   ],
   "metadata": {
    "collapsed": false,
    "ExecuteTime": {
     "end_time": "2023-10-25T10:58:48.806763945Z",
     "start_time": "2023-10-25T10:58:48.217380081Z"
    }
   },
   "id": "53d36e4ad4bb0a0b"
  },
  {
   "cell_type": "code",
   "execution_count": 45,
   "id": "6f0eeb66",
   "metadata": {
    "execution": {
     "iopub.execute_input": "2023-10-24T21:32:28.146494Z",
     "iopub.status.busy": "2023-10-24T21:32:28.145748Z",
     "iopub.status.idle": "2023-10-24T21:32:28.155371Z",
     "shell.execute_reply": "2023-10-24T21:32:28.154379Z"
    },
    "papermill": {
     "duration": 1.815727,
     "end_time": "2023-10-24T21:32:28.157374",
     "exception": false,
     "start_time": "2023-10-24T21:32:26.341647",
     "status": "completed"
    },
    "tags": [],
    "ExecuteTime": {
     "end_time": "2023-10-25T11:05:37.924382606Z",
     "start_time": "2023-10-25T11:05:37.878870890Z"
    }
   },
   "outputs": [],
   "source": [
    "tokenizer = torchtext.data.utils.get_tokenizer('basic_english')\n",
    "\n",
    "def de_toxification(tr_model: nn.Module, text: str, vocab: Vocab, dev: torch.device, max_length: int = 50) -> str:\n",
    "    text = text.lower()\n",
    "    garbage = [\n",
    "        '^', '&', '*', '%', '@', '#', '$', '_', '+', '-', '=', '>', '<', ':', '~'\n",
    "    ]\n",
    "    for symbol in garbage:\n",
    "        text = text.replace(symbol, '')\n",
    "    text = text.replace('...', '.')\n",
    "    tokens = tokenizer(text)\n",
    "    tokens_idx = torch.tensor(vocab(tokens) + [EOS_IDX]).unsqueeze(0).to(device)\n",
    "    output = tr_model(tokens_idx, max_length=max_length)\n",
    "    output = output.permute(0, 2, 1)\n",
    "\n",
    "    predicted = output.argmax(dim=1)\n",
    "    predicted = predicted.detach()\n",
    "    if device.type == 'cuda':\n",
    "        predicted = predicted.cpu()\n",
    "    predicted = predicted.numpy()[0, ]\n",
    "    predicted = predicted[0]\n",
    "\n",
    "    end_idx = predicted.tolist().index(EOS_IDX)\n",
    "    predicted = predicted[:end_idx] if end_idx > -1 else predicted\n",
    "    predicted = ' '.join(vocab.lookup_tokens(predicted))\n",
    "\n",
    "    return predicted"
   ]
  },
  {
   "cell_type": "code",
   "execution_count": 61,
   "id": "c68a3138",
   "metadata": {
    "execution": {
     "iopub.execute_input": "2023-10-24T21:32:31.710285Z",
     "iopub.status.busy": "2023-10-24T21:32:31.709576Z",
     "iopub.status.idle": "2023-10-24T21:32:31.774467Z",
     "shell.execute_reply": "2023-10-24T21:32:31.773489Z"
    },
    "papermill": {
     "duration": 1.887319,
     "end_time": "2023-10-24T21:32:31.776874",
     "exception": false,
     "start_time": "2023-10-24T21:32:29.889555",
     "status": "completed"
    },
    "tags": [],
    "ExecuteTime": {
     "end_time": "2023-10-25T11:09:32.066613708Z",
     "start_time": "2023-10-25T11:09:31.916844380Z"
    }
   },
   "outputs": [
    {
     "name": "stdout",
     "output_type": "stream",
     "text": [
      "you ' re a idiot .\n"
     ]
    }
   ],
   "source": [
    "de_tox = de_toxification(model, \"You are bastard\", tox_dataset.vocab, device)\n",
    "print(de_tox)"
   ]
  }
 ],
 "metadata": {
  "kernelspec": {
   "display_name": "Python 3",
   "language": "python",
   "name": "python3"
  },
  "language_info": {
   "codemirror_mode": {
    "name": "ipython",
    "version": 3
   },
   "file_extension": ".py",
   "mimetype": "text/x-python",
   "name": "python",
   "nbconvert_exporter": "python",
   "pygments_lexer": "ipython3",
   "version": "3.10.12"
  },
  "papermill": {
   "default_parameters": {},
   "duration": 4163.53542,
   "end_time": "2023-10-24T21:32:37.169487",
   "environment_variables": {},
   "exception": null,
   "input_path": "__notebook__.ipynb",
   "output_path": "__notebook__.ipynb",
   "parameters": {},
   "start_time": "2023-10-24T20:23:13.634067",
   "version": "2.4.0"
  },
  "widgets": {
   "application/vnd.jupyter.widget-state+json": {
    "state": {
     "0a2b0ee029334d5697253e2fe90b631f": {
      "model_module": "@jupyter-widgets/controls",
      "model_module_version": "1.5.0",
      "model_name": "ProgressStyleModel",
      "state": {
       "_model_module": "@jupyter-widgets/controls",
       "_model_module_version": "1.5.0",
       "_model_name": "ProgressStyleModel",
       "_view_count": null,
       "_view_module": "@jupyter-widgets/base",
       "_view_module_version": "1.2.0",
       "_view_name": "StyleView",
       "bar_color": null,
       "description_width": ""
      }
     },
     "0eda3f7cb7204245ba51054af954c79d": {
      "model_module": "@jupyter-widgets/controls",
      "model_module_version": "1.5.0",
      "model_name": "HBoxModel",
      "state": {
       "_dom_classes": [],
       "_model_module": "@jupyter-widgets/controls",
       "_model_module_version": "1.5.0",
       "_model_name": "HBoxModel",
       "_view_count": null,
       "_view_module": "@jupyter-widgets/controls",
       "_view_module_version": "1.5.0",
       "_view_name": "HBoxView",
       "box_style": "",
       "children": [
        "IPY_MODEL_a962f7f3152e4753940747760ae0829e",
        "IPY_MODEL_c684782840924b9bbbb78c604d1d20fc",
        "IPY_MODEL_6af5939017924c219cb0bb569883dc93"
       ],
       "layout": "IPY_MODEL_2eecab061fd74f298100de420369b428"
      }
     },
     "149a44276d3941ac89dbdf91fed813f9": {
      "model_module": "@jupyter-widgets/controls",
      "model_module_version": "1.5.0",
      "model_name": "DescriptionStyleModel",
      "state": {
       "_model_module": "@jupyter-widgets/controls",
       "_model_module_version": "1.5.0",
       "_model_name": "DescriptionStyleModel",
       "_view_count": null,
       "_view_module": "@jupyter-widgets/base",
       "_view_module_version": "1.2.0",
       "_view_name": "StyleView",
       "description_width": ""
      }
     },
     "2eecab061fd74f298100de420369b428": {
      "model_module": "@jupyter-widgets/base",
      "model_module_version": "1.2.0",
      "model_name": "LayoutModel",
      "state": {
       "_model_module": "@jupyter-widgets/base",
       "_model_module_version": "1.2.0",
       "_model_name": "LayoutModel",
       "_view_count": null,
       "_view_module": "@jupyter-widgets/base",
       "_view_module_version": "1.2.0",
       "_view_name": "LayoutView",
       "align_content": null,
       "align_items": null,
       "align_self": null,
       "border": null,
       "bottom": null,
       "display": null,
       "flex": null,
       "flex_flow": null,
       "grid_area": null,
       "grid_auto_columns": null,
       "grid_auto_flow": null,
       "grid_auto_rows": null,
       "grid_column": null,
       "grid_gap": null,
       "grid_row": null,
       "grid_template_areas": null,
       "grid_template_columns": null,
       "grid_template_rows": null,
       "height": null,
       "justify_content": null,
       "justify_items": null,
       "left": null,
       "margin": null,
       "max_height": null,
       "max_width": null,
       "min_height": null,
       "min_width": null,
       "object_fit": null,
       "object_position": null,
       "order": null,
       "overflow": null,
       "overflow_x": null,
       "overflow_y": null,
       "padding": null,
       "right": null,
       "top": null,
       "visibility": null,
       "width": null
      }
     },
     "6af5939017924c219cb0bb569883dc93": {
      "model_module": "@jupyter-widgets/controls",
      "model_module_version": "1.5.0",
      "model_name": "HTMLModel",
      "state": {
       "_dom_classes": [],
       "_model_module": "@jupyter-widgets/controls",
       "_model_module_version": "1.5.0",
       "_model_name": "HTMLModel",
       "_view_count": null,
       "_view_module": "@jupyter-widgets/controls",
       "_view_module_version": "1.5.0",
       "_view_name": "HTMLView",
       "description": "",
       "description_tooltip": null,
       "layout": "IPY_MODEL_fdfb2755c7f94b5f9fe903a1d5689d37",
       "placeholder": "​",
       "style": "IPY_MODEL_a1edbf70866e42ef9732ceb0d8fc4459",
       "value": " 7.65k/? [00:00&lt;00:00, 481kB/s]"
      }
     },
     "6bb796d2f5524de3a3b9e5493ed0a3a4": {
      "model_module": "@jupyter-widgets/base",
      "model_module_version": "1.2.0",
      "model_name": "LayoutModel",
      "state": {
       "_model_module": "@jupyter-widgets/base",
       "_model_module_version": "1.2.0",
       "_model_name": "LayoutModel",
       "_view_count": null,
       "_view_module": "@jupyter-widgets/base",
       "_view_module_version": "1.2.0",
       "_view_name": "LayoutView",
       "align_content": null,
       "align_items": null,
       "align_self": null,
       "border": null,
       "bottom": null,
       "display": null,
       "flex": null,
       "flex_flow": null,
       "grid_area": null,
       "grid_auto_columns": null,
       "grid_auto_flow": null,
       "grid_auto_rows": null,
       "grid_column": null,
       "grid_gap": null,
       "grid_row": null,
       "grid_template_areas": null,
       "grid_template_columns": null,
       "grid_template_rows": null,
       "height": null,
       "justify_content": null,
       "justify_items": null,
       "left": null,
       "margin": null,
       "max_height": null,
       "max_width": null,
       "min_height": null,
       "min_width": null,
       "object_fit": null,
       "object_position": null,
       "order": null,
       "overflow": null,
       "overflow_x": null,
       "overflow_y": null,
       "padding": null,
       "right": null,
       "top": null,
       "visibility": null,
       "width": null
      }
     },
     "6d1e68661c524f1ba835eaf990bf1849": {
      "model_module": "@jupyter-widgets/base",
      "model_module_version": "1.2.0",
      "model_name": "LayoutModel",
      "state": {
       "_model_module": "@jupyter-widgets/base",
       "_model_module_version": "1.2.0",
       "_model_name": "LayoutModel",
       "_view_count": null,
       "_view_module": "@jupyter-widgets/base",
       "_view_module_version": "1.2.0",
       "_view_name": "LayoutView",
       "align_content": null,
       "align_items": null,
       "align_self": null,
       "border": null,
       "bottom": null,
       "display": null,
       "flex": null,
       "flex_flow": null,
       "grid_area": null,
       "grid_auto_columns": null,
       "grid_auto_flow": null,
       "grid_auto_rows": null,
       "grid_column": null,
       "grid_gap": null,
       "grid_row": null,
       "grid_template_areas": null,
       "grid_template_columns": null,
       "grid_template_rows": null,
       "height": null,
       "justify_content": null,
       "justify_items": null,
       "left": null,
       "margin": null,
       "max_height": null,
       "max_width": null,
       "min_height": null,
       "min_width": null,
       "object_fit": null,
       "object_position": null,
       "order": null,
       "overflow": null,
       "overflow_x": null,
       "overflow_y": null,
       "padding": null,
       "right": null,
       "top": null,
       "visibility": null,
       "width": null
      }
     },
     "a1edbf70866e42ef9732ceb0d8fc4459": {
      "model_module": "@jupyter-widgets/controls",
      "model_module_version": "1.5.0",
      "model_name": "DescriptionStyleModel",
      "state": {
       "_model_module": "@jupyter-widgets/controls",
       "_model_module_version": "1.5.0",
       "_model_name": "DescriptionStyleModel",
       "_view_count": null,
       "_view_module": "@jupyter-widgets/base",
       "_view_module_version": "1.2.0",
       "_view_name": "StyleView",
       "description_width": ""
      }
     },
     "a962f7f3152e4753940747760ae0829e": {
      "model_module": "@jupyter-widgets/controls",
      "model_module_version": "1.5.0",
      "model_name": "HTMLModel",
      "state": {
       "_dom_classes": [],
       "_model_module": "@jupyter-widgets/controls",
       "_model_module_version": "1.5.0",
       "_model_name": "HTMLModel",
       "_view_count": null,
       "_view_module": "@jupyter-widgets/controls",
       "_view_module_version": "1.5.0",
       "_view_name": "HTMLView",
       "description": "",
       "description_tooltip": null,
       "layout": "IPY_MODEL_6bb796d2f5524de3a3b9e5493ed0a3a4",
       "placeholder": "​",
       "style": "IPY_MODEL_149a44276d3941ac89dbdf91fed813f9",
       "value": "Downloading builder script: "
      }
     },
     "c684782840924b9bbbb78c604d1d20fc": {
      "model_module": "@jupyter-widgets/controls",
      "model_module_version": "1.5.0",
      "model_name": "FloatProgressModel",
      "state": {
       "_dom_classes": [],
       "_model_module": "@jupyter-widgets/controls",
       "_model_module_version": "1.5.0",
       "_model_name": "FloatProgressModel",
       "_view_count": null,
       "_view_module": "@jupyter-widgets/controls",
       "_view_module_version": "1.5.0",
       "_view_name": "ProgressView",
       "bar_style": "success",
       "description": "",
       "description_tooltip": null,
       "layout": "IPY_MODEL_6d1e68661c524f1ba835eaf990bf1849",
       "max": 2848.0,
       "min": 0.0,
       "orientation": "horizontal",
       "style": "IPY_MODEL_0a2b0ee029334d5697253e2fe90b631f",
       "value": 2848.0
      }
     },
     "fdfb2755c7f94b5f9fe903a1d5689d37": {
      "model_module": "@jupyter-widgets/base",
      "model_module_version": "1.2.0",
      "model_name": "LayoutModel",
      "state": {
       "_model_module": "@jupyter-widgets/base",
       "_model_module_version": "1.2.0",
       "_model_name": "LayoutModel",
       "_view_count": null,
       "_view_module": "@jupyter-widgets/base",
       "_view_module_version": "1.2.0",
       "_view_name": "LayoutView",
       "align_content": null,
       "align_items": null,
       "align_self": null,
       "border": null,
       "bottom": null,
       "display": null,
       "flex": null,
       "flex_flow": null,
       "grid_area": null,
       "grid_auto_columns": null,
       "grid_auto_flow": null,
       "grid_auto_rows": null,
       "grid_column": null,
       "grid_gap": null,
       "grid_row": null,
       "grid_template_areas": null,
       "grid_template_columns": null,
       "grid_template_rows": null,
       "height": null,
       "justify_content": null,
       "justify_items": null,
       "left": null,
       "margin": null,
       "max_height": null,
       "max_width": null,
       "min_height": null,
       "min_width": null,
       "object_fit": null,
       "object_position": null,
       "order": null,
       "overflow": null,
       "overflow_x": null,
       "overflow_y": null,
       "padding": null,
       "right": null,
       "top": null,
       "visibility": null,
       "width": null
      }
     }
    },
    "version_major": 2,
    "version_minor": 0
   }
  }
 },
 "nbformat": 4,
 "nbformat_minor": 5
}
