{
 "cells": [
  {
   "cell_type": "markdown",
   "id": "aba60443",
   "metadata": {
    "papermill": {
     "duration": 0.01005,
     "end_time": "2023-10-26T07:05:57.968137",
     "exception": false,
     "start_time": "2023-10-26T07:05:57.958087",
     "status": "completed"
    },
    "tags": []
   },
   "source": [
    "# Imports"
   ]
  },
  {
   "cell_type": "code",
   "execution_count": 1,
   "id": "a19e48e3",
   "metadata": {
    "execution": {
     "iopub.execute_input": "2023-10-26T07:06:35.519360Z",
     "iopub.status.busy": "2023-10-26T07:06:35.519068Z",
     "iopub.status.idle": "2023-10-26T07:06:44.457709Z",
     "shell.execute_reply": "2023-10-26T07:06:44.456617Z"
    },
    "papermill": {
     "duration": 8.954676,
     "end_time": "2023-10-26T07:06:44.461694",
     "exception": false,
     "start_time": "2023-10-26T07:06:35.507018",
     "status": "completed"
    },
    "tags": [],
    "ExecuteTime": {
     "end_time": "2023-10-29T15:24:34.215264282Z",
     "start_time": "2023-10-29T15:24:32.196908565Z"
    }
   },
   "outputs": [
    {
     "data": {
      "text/plain": "<torch._C.Generator at 0x7f5374d9dd70>"
     },
     "execution_count": 1,
     "metadata": {},
     "output_type": "execute_result"
    }
   ],
   "source": [
    "import torch\n",
    "import torch.nn as nn\n",
    "import torchtext\n",
    "import numpy as np\n",
    "import pandas as pd\n",
    "import matplotlib.pyplot as plt\n",
    "\n",
    "from typing import Union, Optional\n",
    "from ast import literal_eval\n",
    "from pathlib import Path\n",
    "\n",
    "from torchtext.vocab import Vocab\n",
    "from torch.utils.data import DataLoader, Dataset, random_split\n",
    "from tqdm import tqdm\n",
    "from datasets import load_metric\n",
    "\n",
    "torch.manual_seed(432)"
   ]
  },
  {
   "cell_type": "markdown",
   "id": "29e69677",
   "metadata": {
    "papermill": {
     "duration": 0.011733,
     "end_time": "2023-10-26T07:06:44.485319",
     "exception": false,
     "start_time": "2023-10-26T07:06:44.473586",
     "status": "completed"
    },
    "tags": []
   },
   "source": [
    "# Data loading"
   ]
  },
  {
   "cell_type": "code",
   "execution_count": 4,
   "id": "234fedee",
   "metadata": {
    "collapsed": false,
    "execution": {
     "iopub.execute_input": "2023-10-26T07:06:44.511323Z",
     "iopub.status.busy": "2023-10-26T07:06:44.510797Z",
     "iopub.status.idle": "2023-10-26T07:07:27.291478Z",
     "shell.execute_reply": "2023-10-26T07:07:27.290372Z"
    },
    "papermill": {
     "duration": 42.807213,
     "end_time": "2023-10-26T07:07:27.305278",
     "exception": false,
     "start_time": "2023-10-26T07:06:44.498065",
     "status": "completed"
    },
    "tags": [],
    "ExecuteTime": {
     "end_time": "2023-10-26T16:53:58.258854888Z",
     "start_time": "2023-10-26T16:53:30.178208477Z"
    }
   },
   "outputs": [
    {
     "data": {
      "text/plain": "                                           reference  \\\n0  [if, alkar, is, flooding, her, with, psychic, ...   \n1               [now, you, ', re, getting, nasty, .]   \n2  [well, ,, we, could, spare, your, life, ,, for...   \n3  [ah, !, monkey, ,, you, ', ve, got, to, snap, ...   \n4     [i, ', ve, got, orders, to, put, her, down, .]   \n\n                                         translation  similarity  lenght_diff  \\\n0  [if, alkar, floods, her, with, her, mental, wa...    0.785171     0.010309   \n1              [you, ', re, becoming, disgusting, .]    0.749687     0.071429   \n2           [well, ,, we, can, spare, your, life, .]    0.919051     0.268293   \n3            [monkey, ,, you, have, to, wake, up, .]    0.664333     0.309524   \n4                [i, have, orders, to, kill, her, .]    0.726639     0.181818   \n\n    ref_tox   trn_tox  \n0  0.014195  0.981983  \n1  0.065473  0.999039  \n2  0.213313  0.985068  \n3  0.053362  0.994215  \n4  0.009402  0.999348  ",
      "text/html": "<div>\n<style scoped>\n    .dataframe tbody tr th:only-of-type {\n        vertical-align: middle;\n    }\n\n    .dataframe tbody tr th {\n        vertical-align: top;\n    }\n\n    .dataframe thead th {\n        text-align: right;\n    }\n</style>\n<table border=\"1\" class=\"dataframe\">\n  <thead>\n    <tr style=\"text-align: right;\">\n      <th></th>\n      <th>reference</th>\n      <th>translation</th>\n      <th>similarity</th>\n      <th>lenght_diff</th>\n      <th>ref_tox</th>\n      <th>trn_tox</th>\n    </tr>\n  </thead>\n  <tbody>\n    <tr>\n      <th>0</th>\n      <td>[if, alkar, is, flooding, her, with, psychic, ...</td>\n      <td>[if, alkar, floods, her, with, her, mental, wa...</td>\n      <td>0.785171</td>\n      <td>0.010309</td>\n      <td>0.014195</td>\n      <td>0.981983</td>\n    </tr>\n    <tr>\n      <th>1</th>\n      <td>[now, you, ', re, getting, nasty, .]</td>\n      <td>[you, ', re, becoming, disgusting, .]</td>\n      <td>0.749687</td>\n      <td>0.071429</td>\n      <td>0.065473</td>\n      <td>0.999039</td>\n    </tr>\n    <tr>\n      <th>2</th>\n      <td>[well, ,, we, could, spare, your, life, ,, for...</td>\n      <td>[well, ,, we, can, spare, your, life, .]</td>\n      <td>0.919051</td>\n      <td>0.268293</td>\n      <td>0.213313</td>\n      <td>0.985068</td>\n    </tr>\n    <tr>\n      <th>3</th>\n      <td>[ah, !, monkey, ,, you, ', ve, got, to, snap, ...</td>\n      <td>[monkey, ,, you, have, to, wake, up, .]</td>\n      <td>0.664333</td>\n      <td>0.309524</td>\n      <td>0.053362</td>\n      <td>0.994215</td>\n    </tr>\n    <tr>\n      <th>4</th>\n      <td>[i, ', ve, got, orders, to, put, her, down, .]</td>\n      <td>[i, have, orders, to, kill, her, .]</td>\n      <td>0.726639</td>\n      <td>0.181818</td>\n      <td>0.009402</td>\n      <td>0.999348</td>\n    </tr>\n  </tbody>\n</table>\n</div>"
     },
     "execution_count": 4,
     "metadata": {},
     "output_type": "execute_result"
    }
   ],
   "source": [
    "base_path = Path('..').resolve()\n",
    "data_path = base_path / Path('data/interim/intermediate.tsv')\n",
    "model_cktp_path = base_path / 'models' / 'encoder-decoder.pt'\n",
    "\n",
    "tox_data = pd.read_csv(data_path, sep='\\t', converters={'reference': literal_eval, 'translation': literal_eval})\n",
    "tox_data.head()"
   ]
  },
  {
   "cell_type": "markdown",
   "id": "58263860",
   "metadata": {
    "papermill": {
     "duration": 0.01198,
     "end_time": "2023-10-26T07:07:27.329201",
     "exception": false,
     "start_time": "2023-10-26T07:07:27.317221",
     "status": "completed"
    },
    "tags": []
   },
   "source": [
    "# Dataset"
   ]
  },
  {
   "cell_type": "code",
   "execution_count": 5,
   "id": "646ae9d8",
   "metadata": {
    "collapsed": false,
    "execution": {
     "iopub.execute_input": "2023-10-26T07:07:27.354107Z",
     "iopub.status.busy": "2023-10-26T07:07:27.353454Z",
     "iopub.status.idle": "2023-10-26T07:07:27.366847Z",
     "shell.execute_reply": "2023-10-26T07:07:27.365954Z"
    },
    "papermill": {
     "duration": 0.028148,
     "end_time": "2023-10-26T07:07:27.368796",
     "exception": false,
     "start_time": "2023-10-26T07:07:27.340648",
     "status": "completed"
    },
    "tags": [],
    "ExecuteTime": {
     "end_time": "2023-10-26T16:53:58.274072127Z",
     "start_time": "2023-10-26T16:53:58.265153335Z"
    }
   },
   "outputs": [],
   "source": [
    "UNK_IDX, PAD_IDX, BOS_IDX, EOS_IDX = 0, 1, 2, 3\n",
    "SPECIAL_SYMBOLS = ['<unk>', '<pad>', '<bos>', '<eos>']\n",
    "\n",
    "\n",
    "class DeToxificationDataset(Dataset):\n",
    "    \"\"\"\n",
    "    A dataset class for de-toxification data.\n",
    "\n",
    "    Args:\n",
    "        dataframe (pd.DataFrame): The input data in a Pandas DataFrame.\n",
    "        vocab (Optional[Vocab]): Vocabulary for tokenization (default: None).\n",
    "        min_tox (float): Minimum toxicity threshold (default: 0.75).\n",
    "        max_length (int): Maximum allowed sequence length (default: 150).\n",
    "        amount_of_pairs (Optional[int]): Number of pairs to use from the dataframe (default: None, using all).\n",
    "\n",
    "    Attributes:\n",
    "        dataframe (pd.DataFrame): The input data in a Pandas DataFrame.\n",
    "        min_tox (float): Minimum toxicity threshold.\n",
    "        max_length (int): Maximum allowed sequence length.\n",
    "        amount_of_pairs (int): Number of pairs to use.\n",
    "        reference (np.ndarray): Reference text data.\n",
    "        translation (np.ndarray): Translation text data.\n",
    "        vocab (Vocab): Vocabulary for tokenization.\n",
    "\n",
    "    Methods:\n",
    "        __init__(self, dataframe, vocab, min_tox, max_length, amount_of_pairs)\n",
    "        _preprocess(self): Preprocess the data based on toxicity and sequence length.\n",
    "        _create_vocab(self) -> Vocab: Create the vocabulary from the reference and translation text.\n",
    "        _get_reference(self, index) -> list[int]: Get tokenized reference text at the given index.\n",
    "        _get_translation(self, index) -> list[int]: Get tokenized translation text at the given index.\n",
    "        __getitem__(self, index) -> tuple[list, list]: Get reference and translation at the given index.\n",
    "        __len__(self) -> int: Get the length of the dataset.\n",
    "    \"\"\"\n",
    "\n",
    "    def __init__(self, \n",
    "                 dataframe: pd.DataFrame, \n",
    "                 vocab: Optional[Vocab] = None, \n",
    "                 min_tox: float = 0.75, \n",
    "                 max_length: int = 150,\n",
    "                 amount_of_pairs: Optional[int] = None):\n",
    "        self.dataframe = dataframe\n",
    "        self.min_tox = min_tox\n",
    "        self.max_length = max_length\n",
    "        self.amount_of_pairs: int = amount_of_pairs or len(dataframe)\n",
    "        self._preprocess()\n",
    "        self.reference = self.dataframe['reference'].values[:self.amount_of_pairs]\n",
    "        self.translation = self.dataframe['translation'].values[:self.amount_of_pairs]\n",
    "        self.vocab: Vocab = vocab or self._create_vocab()\n",
    "\n",
    "    def _preprocess(self):\n",
    "        \"\"\"\n",
    "        Preprocess the input data based on toxicity and sequence length.\n",
    "        \"\"\"\n",
    "        self.dataframe = self.dataframe[\n",
    "            (self.dataframe['ref_tox'] >= self.min_tox) &\n",
    "            (self.dataframe['trn_tox'] <= 1 - self.min_tox) &\n",
    "            (self.dataframe['reference'].str.len() <= self.max_length) &\n",
    "            (self.dataframe['translation'].str.len() <= self.max_length)\n",
    "        ]\n",
    "\n",
    "    def _create_vocab(self) -> Vocab:\n",
    "        \"\"\"\n",
    "        Create a vocabulary from the reference and translation text.\n",
    "\n",
    "        Returns:\n",
    "            Vocab: A vocabulary for tokenization.\n",
    "        \"\"\"\n",
    "        new_vocab = torchtext.vocab.build_vocab_from_iterator(\n",
    "            iter(self.reference + self.translation),\n",
    "            specials=SPECIAL_SYMBOLS\n",
    "        )\n",
    "        new_vocab.set_default_index(UNK_IDX)\n",
    "        return new_vocab\n",
    "\n",
    "    def _get_reference(self, index: int) -> list[int]:\n",
    "        \"\"\"\n",
    "        Get tokenized reference text at the given index.\n",
    "\n",
    "        Args:\n",
    "            index (int): Index of the reference text.\n",
    "\n",
    "        Returns:\n",
    "            list[int]: Tokenized reference text.\n",
    "        \"\"\"\n",
    "        return self.vocab(self.reference[index])\n",
    "\n",
    "    def _get_translation(self, index: int) -> list[int]:\n",
    "        \"\"\"\n",
    "        Get tokenized translation text at the given index.\n",
    "\n",
    "        Args:\n",
    "            index (int): Index of the translation text.\n",
    "\n",
    "        Returns:\n",
    "            list[int]: Tokenized translation text.\n",
    "        \"\"\"\n",
    "        return self.vocab(self.translation[index])\n",
    "\n",
    "    def __getitem__(self, index) -> tuple[list, list]:\n",
    "        return self._get_reference(index), self._get_translation(index)\n",
    "\n",
    "    def __len__(self) -> int:\n",
    "        return self.amount_of_pairs"
   ]
  },
  {
   "cell_type": "code",
   "execution_count": 6,
   "id": "5d1d2d11",
   "metadata": {
    "collapsed": false,
    "execution": {
     "iopub.execute_input": "2023-10-26T07:07:27.393240Z",
     "iopub.status.busy": "2023-10-26T07:07:27.392952Z",
     "iopub.status.idle": "2023-10-26T07:07:28.796721Z",
     "shell.execute_reply": "2023-10-26T07:07:28.795867Z"
    },
    "papermill": {
     "duration": 1.418588,
     "end_time": "2023-10-26T07:07:28.799206",
     "exception": false,
     "start_time": "2023-10-26T07:07:27.380618",
     "status": "completed"
    },
    "tags": [],
    "ExecuteTime": {
     "end_time": "2023-10-26T16:53:59.152119084Z",
     "start_time": "2023-10-26T16:53:58.270500757Z"
    }
   },
   "outputs": [],
   "source": [
    "tox_dataset = DeToxificationDataset(tox_data, amount_of_pairs=50000)\n",
    "\n",
    "\n",
    "# splitting dataset into train and validation\n",
    "split_proportion = 0.9\n",
    "size = int(len(tox_dataset) * split_proportion)\n",
    "train_dataset, val_dataset = random_split(tox_dataset, [size, len(tox_dataset) - size])"
   ]
  },
  {
   "cell_type": "code",
   "execution_count": 7,
   "id": "b7e94cc4",
   "metadata": {
    "collapsed": false,
    "execution": {
     "iopub.execute_input": "2023-10-26T07:07:28.824169Z",
     "iopub.status.busy": "2023-10-26T07:07:28.823834Z",
     "iopub.status.idle": "2023-10-26T07:07:28.829939Z",
     "shell.execute_reply": "2023-10-26T07:07:28.829101Z"
    },
    "papermill": {
     "duration": 0.020835,
     "end_time": "2023-10-26T07:07:28.831961",
     "exception": false,
     "start_time": "2023-10-26T07:07:28.811126",
     "status": "completed"
    },
    "tags": [],
    "ExecuteTime": {
     "end_time": "2023-10-26T16:53:59.153944459Z",
     "start_time": "2023-10-26T16:53:59.144795651Z"
    }
   },
   "outputs": [
    {
     "name": "stdout",
     "output_type": "stream",
     "text": [
      "pussy . sugar britches .\n",
      "sugar princess !\n"
     ]
    }
   ],
   "source": [
    "def random_sample(some_dataset: DeToxificationDataset, vocab: Vocab):\n",
    "    idx = np.random.randint(0, len(some_dataset))\n",
    "    ref, trn = some_dataset[idx]\n",
    "    print(' '.join(vocab.lookup_tokens(ref)))\n",
    "    print(' '.join(vocab.lookup_tokens(trn)))\n",
    "\n",
    "\n",
    "random_sample(train_dataset, tox_dataset.vocab)"
   ]
  },
  {
   "cell_type": "code",
   "execution_count": 8,
   "id": "10d33e34",
   "metadata": {
    "collapsed": false,
    "execution": {
     "iopub.execute_input": "2023-10-26T07:07:28.855457Z",
     "iopub.status.busy": "2023-10-26T07:07:28.855165Z",
     "iopub.status.idle": "2023-10-26T07:07:28.860800Z",
     "shell.execute_reply": "2023-10-26T07:07:28.859927Z"
    },
    "papermill": {
     "duration": 0.019711,
     "end_time": "2023-10-26T07:07:28.862749",
     "exception": false,
     "start_time": "2023-10-26T07:07:28.843038",
     "status": "completed"
    },
    "tags": [],
    "ExecuteTime": {
     "end_time": "2023-10-26T16:53:59.161123172Z",
     "start_time": "2023-10-26T16:53:59.153474343Z"
    }
   },
   "outputs": [
    {
     "data": {
      "text/plain": "(45000, 5000)"
     },
     "execution_count": 8,
     "metadata": {},
     "output_type": "execute_result"
    }
   ],
   "source": [
    "len(train_dataset), len(val_dataset)"
   ]
  },
  {
   "cell_type": "markdown",
   "id": "6204a7cf",
   "metadata": {
    "papermill": {
     "duration": 0.011351,
     "end_time": "2023-10-26T07:07:28.885344",
     "exception": false,
     "start_time": "2023-10-26T07:07:28.873993",
     "status": "completed"
    },
    "tags": []
   },
   "source": [
    "# Dataloaders"
   ]
  },
  {
   "cell_type": "code",
   "execution_count": 9,
   "id": "fdf73c4e",
   "metadata": {
    "collapsed": false,
    "execution": {
     "iopub.execute_input": "2023-10-26T07:07:28.909528Z",
     "iopub.status.busy": "2023-10-26T07:07:28.909250Z",
     "iopub.status.idle": "2023-10-26T07:07:28.917179Z",
     "shell.execute_reply": "2023-10-26T07:07:28.916246Z"
    },
    "papermill": {
     "duration": 0.022238,
     "end_time": "2023-10-26T07:07:28.919202",
     "exception": false,
     "start_time": "2023-10-26T07:07:28.896964",
     "status": "completed"
    },
    "tags": [],
    "ExecuteTime": {
     "end_time": "2023-10-26T16:53:59.211245121Z",
     "start_time": "2023-10-26T16:53:59.161236335Z"
    }
   },
   "outputs": [],
   "source": [
    "def collate_batch(batch: list[np.ndarray]):\n",
    "    ref_list, trn_list, trn_lengths = [], [], []\n",
    "\n",
    "    for _ref, _trn in batch:\n",
    "        ref_list.append(torch.tensor(_ref + [EOS_IDX]))\n",
    "        trn_list.append(torch.tensor(_trn + [EOS_IDX]))\n",
    "        trn_lengths.append(len(_trn))\n",
    "\n",
    "    ref_list = torch.nn.utils.rnn.pad_sequence(ref_list, padding_value=PAD_IDX, batch_first=True)\n",
    "    trn_list = torch.nn.utils.rnn.pad_sequence(trn_list, padding_value=PAD_IDX, batch_first=True)\n",
    "\n",
    "    return ref_list, trn_list, trn_lengths\n",
    "\n",
    "\n",
    "batch_size = 50\n",
    "train_dataloader = DataLoader(\n",
    "    train_dataset, batch_size=batch_size, shuffle=True, collate_fn=collate_batch\n",
    ")\n",
    "val_dataloader = DataLoader(\n",
    "    val_dataset, batch_size=batch_size, shuffle=False, collate_fn=collate_batch\n",
    ")"
   ]
  },
  {
   "cell_type": "markdown",
   "id": "eb658ca6",
   "metadata": {
    "papermill": {
     "duration": 0.011286,
     "end_time": "2023-10-26T07:07:28.942509",
     "exception": false,
     "start_time": "2023-10-26T07:07:28.931223",
     "status": "completed"
    },
    "tags": []
   },
   "source": [
    "# Model"
   ]
  },
  {
   "cell_type": "code",
   "execution_count": 10,
   "id": "7d3be7b8",
   "metadata": {
    "collapsed": false,
    "execution": {
     "iopub.execute_input": "2023-10-26T07:07:28.966535Z",
     "iopub.status.busy": "2023-10-26T07:07:28.966246Z",
     "iopub.status.idle": "2023-10-26T07:07:28.973304Z",
     "shell.execute_reply": "2023-10-26T07:07:28.972441Z"
    },
    "papermill": {
     "duration": 0.021101,
     "end_time": "2023-10-26T07:07:28.975279",
     "exception": false,
     "start_time": "2023-10-26T07:07:28.954178",
     "status": "completed"
    },
    "tags": [],
    "ExecuteTime": {
     "end_time": "2023-10-26T16:53:59.212043744Z",
     "start_time": "2023-10-26T16:53:59.168029005Z"
    }
   },
   "outputs": [],
   "source": [
    "class BahdanauAttention(nn.Module):\n",
    "    \"\"\"\n",
    "    Bahdanau Attention mechanism for sequence-to-sequence models.\n",
    "\n",
    "    Args:\n",
    "        hidden_dim (int): The dimension of the hidden state.\n",
    "\n",
    "    Attributes:\n",
    "        Wa (nn.Linear): Linear transformation for the query.\n",
    "        Ua (nn.Linear): Linear transformation for the keys.\n",
    "        Va (nn.Linear): Linear transformation for the attention scores.\n",
    "        act (nn.Softmax): Softmax activation function for calculating attention weights.\n",
    "\n",
    "    Methods:\n",
    "        forward(self, query, keys) -> tuple[torch.Tensor, torch.Tensor]: Forward pass of the attention mechanism.\n",
    "    \"\"\"\n",
    "\n",
    "    def __init__(self, hidden_dim: int):\n",
    "        super(BahdanauAttention, self).__init__()\n",
    "        self.Wa = nn.Linear(hidden_dim, hidden_dim)\n",
    "        self.Ua = nn.Linear(hidden_dim, hidden_dim)\n",
    "        self.Va = nn.Linear(hidden_dim, 1)\n",
    "        self.act = nn.Softmax(dim=-1)\n",
    "\n",
    "    def forward(self, query: torch.Tensor, keys: torch.Tensor) -> tuple[torch.Tensor, torch.Tensor]:\n",
    "        \"\"\"\n",
    "        Calculate the attention scores and context vector.\n",
    "\n",
    "        Args:\n",
    "            query (torch.Tensor): The query tensor.\n",
    "            keys (torch.Tensor): The keys tensor.\n",
    "\n",
    "        Returns:\n",
    "            tuple[torch.Tensor, torch.Tensor]: A tuple containing the context vector and attention weights.\n",
    "        \"\"\"\n",
    "        scores: torch.Tensor = self.Va(torch.tanh(self.Wa(query) + self.Ua(keys)))\n",
    "        scores = scores.squeeze(2).unsqueeze(1)\n",
    "\n",
    "        weights = self.act(scores)\n",
    "        context = torch.bmm(weights, keys)\n",
    "\n",
    "        return context, weights"
   ]
  },
  {
   "cell_type": "code",
   "execution_count": 11,
   "id": "25e04469",
   "metadata": {
    "collapsed": false,
    "execution": {
     "iopub.execute_input": "2023-10-26T07:07:28.999059Z",
     "iopub.status.busy": "2023-10-26T07:07:28.998794Z",
     "iopub.status.idle": "2023-10-26T07:07:29.010559Z",
     "shell.execute_reply": "2023-10-26T07:07:29.009699Z"
    },
    "papermill": {
     "duration": 0.025955,
     "end_time": "2023-10-26T07:07:29.012788",
     "exception": false,
     "start_time": "2023-10-26T07:07:28.986833",
     "status": "completed"
    },
    "tags": [],
    "ExecuteTime": {
     "end_time": "2023-10-26T16:53:59.230100061Z",
     "start_time": "2023-10-26T16:53:59.176455719Z"
    }
   },
   "outputs": [],
   "source": [
    "class EncoderRNN(nn.Module):\n",
    "    \"\"\"\n",
    "    Encoder RNN for sequence-to-sequence models.\n",
    "\n",
    "    Args:\n",
    "        num_embeddings (int): The number of unique embeddings.\n",
    "        embedding_dim (int): The dimension of the embedding space.\n",
    "        hidden_dim (int): The dimension of the hidden state.\n",
    "        lstm_layers (int): The number of LSTM layers.\n",
    "        dropout_p (float): Dropout probability (default: 0.1).\n",
    "\n",
    "    Attributes:\n",
    "        lstm_layers (int): The number of LSTM layers.\n",
    "        hidden_dim (int): The dimension of the hidden state.\n",
    "        embedding (nn.Embedding): Embedding layer.\n",
    "        rnn (nn.LSTM): LSTM layers.\n",
    "        dropout (nn.Dropout): Dropout layer.\n",
    "        device (Optional[torch.device]): Device to use (automatically determined).\n",
    "\n",
    "    Methods:\n",
    "        _get_initial_shape(self, x) -> tuple[int, ...]: Get the initial shape for LSTM.\n",
    "        forward(self, x, h_0, c_0) -> tuple[torch.Tensor, torch.Tensor, torch.Tensor]: Forward pass of the encoder.\n",
    "    \"\"\"\n",
    "\n",
    "    def __init__(self,\n",
    "                 num_embeddings: int,\n",
    "                 embedding_dim: int,\n",
    "                 hidden_dim: int,\n",
    "                 lstm_layers: int,\n",
    "                 dropout_p: float = 0.1):\n",
    "        super(EncoderRNN, self).__init__()\n",
    "        self.lstm_layers = lstm_layers\n",
    "        self.hidden_dim = hidden_dim\n",
    "\n",
    "        self.embedding = nn.Embedding(num_embeddings=num_embeddings, embedding_dim=embedding_dim)\n",
    "        self.rnn = nn.LSTM(\n",
    "            input_size=embedding_dim, hidden_size=hidden_dim, num_layers=lstm_layers,\n",
    "            batch_first=True, dropout=dropout_p\n",
    "        )\n",
    "        self.dropout = nn.Dropout(dropout_p)\n",
    "        self.device: Optional[torch.device] = None\n",
    "\n",
    "    def _get_initial_shape(self, x: torch.Tensor) -> tuple[int, ...]:\n",
    "        \"\"\"\n",
    "        Get the initial shape for LSTM based on the input tensor shape.\n",
    "\n",
    "        Args:\n",
    "            x (torch.Tensor): Input tensor.\n",
    "\n",
    "        Returns:\n",
    "            tuple[int, ...]: Initial shape for LSTM.\n",
    "        \"\"\"\n",
    "        if self.device is None:\n",
    "            self.device = torch.device(\"cuda\" if x.get_device() > -1 else \"cpu\")\n",
    "        if len(x.shape) == 2:\n",
    "            return self.lstm_layers, self.hidden_dim\n",
    "        return self.lstm_layers, x.shape[0], self.hidden_dim\n",
    "\n",
    "    def forward(self,\n",
    "                x: torch.Tensor,\n",
    "                h_0: Optional[torch.Tensor] = None,\n",
    "                c_0: Optional[torch.Tensor] = None) -> tuple[torch.Tensor, torch.Tensor, torch.Tensor]:\n",
    "        \"\"\"\n",
    "        Forward pass of the encoder.\n",
    "\n",
    "        Args:\n",
    "            x (torch.Tensor): Input tensor.\n",
    "            h_0 (Optional[torch.Tensor]): Initial hidden state tensor (default: None).\n",
    "            c_0 (Optional[torch.Tensor]): Initial cell state tensor (default: None).\n",
    "\n",
    "        Returns:\n",
    "            tuple[torch.Tensor, torch.Tensor, torch.Tensor]: Encoder output, final hidden state, and final cell state.\n",
    "        \"\"\"\n",
    "        embedded = self.dropout(self.embedding(x))\n",
    "        h_and_c_shape = self._get_initial_shape(embedded)\n",
    "        if h_0 is None:\n",
    "            h_0 = torch.zeros(h_and_c_shape).to(self.device)\n",
    "        if c_0 is None:\n",
    "            c_0 = torch.zeros(h_and_c_shape).to(self.device)\n",
    "\n",
    "        output, (h_n, c_n) = self.rnn(embedded, (h_0, c_0))\n",
    "        return output, h_n, c_n"
   ]
  },
  {
   "cell_type": "code",
   "execution_count": 12,
   "id": "1835c9ce",
   "metadata": {
    "collapsed": false,
    "execution": {
     "iopub.execute_input": "2023-10-26T07:07:29.038149Z",
     "iopub.status.busy": "2023-10-26T07:07:29.037872Z",
     "iopub.status.idle": "2023-10-26T07:07:29.055298Z",
     "shell.execute_reply": "2023-10-26T07:07:29.054492Z"
    },
    "papermill": {
     "duration": 0.032266,
     "end_time": "2023-10-26T07:07:29.057246",
     "exception": false,
     "start_time": "2023-10-26T07:07:29.024980",
     "status": "completed"
    },
    "tags": [],
    "ExecuteTime": {
     "end_time": "2023-10-26T16:53:59.230813326Z",
     "start_time": "2023-10-26T16:53:59.221002755Z"
    }
   },
   "outputs": [],
   "source": [
    "class AttnDecoderRNN(nn.Module):\n",
    "    \"\"\"\n",
    "    Attention Decoder RNN for sequence-to-sequence models.\n",
    "\n",
    "    Args:\n",
    "        num_embeddings (int): The number of unique embeddings.\n",
    "        embedding_dim (int): The dimension of the embedding space.\n",
    "        hidden_dim (int): The dimension of the hidden state.\n",
    "        lstm_layers (int): The number of LSTM layers.\n",
    "        dropout_p (float): Dropout probability (default: 0.1).\n",
    "\n",
    "    Attributes:\n",
    "        embedding (nn.Embedding): Embedding layer.\n",
    "        rnn (nn.LSTM): LSTM layers.\n",
    "        attention_h (BahdanauAttention): Attention mechanism.\n",
    "        out (nn.Linear): Linear layer for output.\n",
    "        dropout (nn.Dropout): Dropout layer.\n",
    "        device (Optional[torch.device]): Device to use (automatically determined).\n",
    "\n",
    "    Methods:\n",
    "        forward(self, x, h_n, c_n, encoder_outputs, target_tensor, max_length) -> tuple[torch.Tensor, torch.Tensor, torch.Tensor, torch.Tensor]:\n",
    "            Forward pass of the decoder.\n",
    "        forward_step(self, decoder_input, decoder_h_0, decoder_c_0, encoder_outputs) -> tuple[torch.Tensor, ...]:\n",
    "            Forward step of the decoder.\n",
    "    \"\"\"\n",
    "\n",
    "    def __init__(self,\n",
    "                 num_embeddings: int,\n",
    "                 embedding_dim: int,\n",
    "                 hidden_dim: int,\n",
    "                 lstm_layers: int,\n",
    "                 dropout_p: float = 0.1):\n",
    "        super(AttnDecoderRNN, self).__init__()\n",
    "        self.embedding = nn.Embedding(num_embeddings=num_embeddings, embedding_dim=embedding_dim)\n",
    "        self.rnn = nn.LSTM(\n",
    "            input_size=2 * embedding_dim, hidden_size=hidden_dim, num_layers=lstm_layers,\n",
    "            batch_first=True, dropout=dropout_p\n",
    "        )\n",
    "        self.attention_h = BahdanauAttention(hidden_dim)\n",
    "        self.out = nn.Linear(hidden_dim, num_embeddings)\n",
    "        self.dropout = nn.Dropout(dropout_p)\n",
    "        self.device: Optional[torch.device] = None\n",
    "\n",
    "    def _set_device(self, x: torch.Tensor):\n",
    "        if self.device is None:\n",
    "            self.device = torch.device(\"cuda\" if x.get_device() > -1 else \"cpu\")\n",
    "\n",
    "    def forward(self,\n",
    "                x: torch.Tensor,\n",
    "                h_n: torch.Tensor,\n",
    "                c_n: torch.Tensor,\n",
    "                encoder_outputs: torch.Tensor,\n",
    "                target_tensor: Optional[torch.Tensor] = None,\n",
    "                max_length: Optional[int] = None):\n",
    "        \"\"\"\n",
    "        Forward pass of the decoder.\n",
    "\n",
    "        Args:\n",
    "            x (torch.Tensor): Input tensor.\n",
    "            h_n (torch.Tensor): Initial hidden state tensor.\n",
    "            c_n (torch.Tensor): Initial cell state tensor.\n",
    "            encoder_outputs (torch.Tensor): Outputs from the encoder.\n",
    "            target_tensor (Optional[torch.Tensor]): Target tensor for teacher forcing.\n",
    "            max_length (Optional[int]): Maximum sequence length (default: None).\n",
    "\n",
    "        Returns:\n",
    "            tuple[torch.Tensor, torch.Tensor, torch.Tensor, torch.Tensor]: Decoder outputs, final hidden state, final cell state, and attention weights.\n",
    "        \"\"\"\n",
    "        if max_length is None and target_tensor is None:\n",
    "            raise ValueError(\"either max_length or target_tensor should be specified!\")\n",
    "        if target_tensor is not None:\n",
    "            max_length = target_tensor.shape[1]\n",
    "        self._set_device(x)\n",
    "\n",
    "        b_size = x.shape[0]\n",
    "        decoder_input = torch.empty((b_size, 1), dtype=torch.long).fill_(BOS_IDX).to(self.device)\n",
    "        decoder_h_n = h_n\n",
    "        decoder_c_n = c_n\n",
    "        decoder_outputs = []\n",
    "        attentions = []\n",
    "\n",
    "        for i in range(max_length):\n",
    "            decoder_output, decoder_h_n, decoder_c_n, attn_weights = self.forward_step(\n",
    "                decoder_input, decoder_h_n, decoder_c_n, encoder_outputs\n",
    "            )\n",
    "            decoder_outputs.append(decoder_output)\n",
    "            attentions.append(attn_weights)\n",
    "\n",
    "            if target_tensor is not None:\n",
    "                # Teacher forcing: Feed the target as the next input\n",
    "                decoder_input = target_tensor[:, i].unsqueeze(1)  # Teacher forcing\n",
    "            else:\n",
    "                # Without teacher forcing: use its own predictions as the next input\n",
    "                _, topi = decoder_output.topk(1)\n",
    "                decoder_input = topi.squeeze(-1).detach()  # detach from history as input\n",
    "\n",
    "            if torch.cuda.is_available():\n",
    "                torch.cuda.empty_cache()\n",
    "\n",
    "        decoder_outputs = torch.cat(decoder_outputs, dim=1)\n",
    "        attentions = torch.cat(attentions, dim=1)\n",
    "\n",
    "        return decoder_outputs, decoder_h_n, decoder_c_n, attentions\n",
    "\n",
    "    def forward_step(self, \n",
    "                     decoder_input: torch.Tensor, \n",
    "                     decoder_h_0: torch.Tensor,\n",
    "                     decoder_c_0: torch.Tensor,\n",
    "                     encoder_outputs: torch.Tensor) -> tuple[torch.Tensor, ...]:\n",
    "        \"\"\"\n",
    "        Forward step of the decoder.\n",
    "\n",
    "        Args:\n",
    "            decoder_input (torch.Tensor): Input tensor for the step.\n",
    "            decoder_h_0 (torch.Tensor): Initial hidden state tensor.\n",
    "            decoder_c_0 (torch.Tensor): Initial cell state tensor.\n",
    "            encoder_outputs (torch.Tensor): Outputs from the encoder.\n",
    "\n",
    "        Returns:\n",
    "            tuple[torch.Tensor, ...]: Decoder output, final hidden state, final cell state, and attention weights.\n",
    "        \"\"\"\n",
    "        embedded = self.dropout(self.embedding(decoder_input))\n",
    "\n",
    "        query = decoder_h_0[-1].unsqueeze(0).permute(1, 0, 2)\n",
    "        context, attn_weights = self.attention_h(query, encoder_outputs)\n",
    "        input_lstm = torch.cat((embedded, context), dim=2)\n",
    "\n",
    "        output, (h_n, c_n) = self.rnn(input_lstm, (decoder_h_0, decoder_c_0))\n",
    "        output = self.out(output)\n",
    "\n",
    "        return output, h_n, c_n, attn_weights"
   ]
  },
  {
   "cell_type": "code",
   "execution_count": 13,
   "id": "471ff564",
   "metadata": {
    "collapsed": false,
    "execution": {
     "iopub.execute_input": "2023-10-26T07:07:29.080671Z",
     "iopub.status.busy": "2023-10-26T07:07:29.080378Z",
     "iopub.status.idle": "2023-10-26T07:07:29.088290Z",
     "shell.execute_reply": "2023-10-26T07:07:29.087410Z"
    },
    "papermill": {
     "duration": 0.021632,
     "end_time": "2023-10-26T07:07:29.090114",
     "exception": false,
     "start_time": "2023-10-26T07:07:29.068482",
     "status": "completed"
    },
    "tags": [],
    "ExecuteTime": {
     "end_time": "2023-10-26T16:53:59.231401381Z",
     "start_time": "2023-10-26T16:53:59.221133210Z"
    }
   },
   "outputs": [],
   "source": [
    "class DeToxification(nn.Module):\n",
    "    \"\"\"\n",
    "    DeToxification model for sequence-to-sequence tasks.\n",
    "\n",
    "    Args:\n",
    "        num_embeddings (int): The number of unique embeddings.\n",
    "        embedding_dim (int): The dimension of the embedding space.\n",
    "        hidden_dim (int): The dimension of the hidden state.\n",
    "        lstm_layers (int): The number of LSTM layers.\n",
    "        dropout_p (float): Dropout probability (default: 0.1).\n",
    "\n",
    "    Attributes:\n",
    "        enc (EncoderRNN): Encoder RNN.\n",
    "        dec (AttnDecoderRNN): Attention Decoder RNN.\n",
    "\n",
    "    Methods:\n",
    "        forward(self, x, target, max_length) -> torch.Tensor: Forward pass of the DeToxification model.\n",
    "    \"\"\"\n",
    "\n",
    "    def __init__(self,\n",
    "                 num_embeddings: int,\n",
    "                 embedding_dim: int,\n",
    "                 hidden_dim: int,\n",
    "                 lstm_layers: int,\n",
    "                 dropout_p: float = 0.1):\n",
    "        super(DeToxification, self).__init__()\n",
    "        self.enc = EncoderRNN(\n",
    "            num_embeddings=num_embeddings,\n",
    "            embedding_dim=embedding_dim,\n",
    "            hidden_dim=hidden_dim,\n",
    "            lstm_layers=lstm_layers,\n",
    "            dropout_p=dropout_p,\n",
    "        )\n",
    "        self.dec = AttnDecoderRNN(\n",
    "            num_embeddings=num_embeddings,\n",
    "            embedding_dim=embedding_dim,\n",
    "            hidden_dim=hidden_dim,\n",
    "            lstm_layers=lstm_layers,\n",
    "            dropout_p=dropout_p,\n",
    "        )\n",
    "\n",
    "    def forward(self, \n",
    "                x: torch.Tensor, \n",
    "                target: Optional[torch.Tensor] = None, \n",
    "                max_length: Optional[int] = None) -> torch.Tensor:\n",
    "        \"\"\"\n",
    "        Forward pass of the DeToxification model.\n",
    "\n",
    "        Args:\n",
    "            x (torch.Tensor): Input tensor.\n",
    "            target (Optional[torch.Tensor]): Target tensor for teacher forcing.\n",
    "            max_length (Optional[int]): Maximum sequence length (default: None).\n",
    "\n",
    "        Returns:\n",
    "            torch.Tensor: Decoder outputs.\n",
    "        \"\"\"\n",
    "        out_e, h_n_e, c_n_e = self.enc(x)\n",
    "        out_d, _, _, _ = self.dec(x, h_n_e, c_n_e, out_e, target, max_length)\n",
    "        return out_d"
   ]
  },
  {
   "cell_type": "markdown",
   "id": "c66391e8",
   "metadata": {
    "papermill": {
     "duration": 0.011488,
     "end_time": "2023-10-26T07:07:29.113001",
     "exception": false,
     "start_time": "2023-10-26T07:07:29.101513",
     "status": "completed"
    },
    "tags": []
   },
   "source": [
    "# Training"
   ]
  },
  {
   "cell_type": "code",
   "execution_count": 14,
   "id": "0b0b883a",
   "metadata": {
    "collapsed": false,
    "execution": {
     "iopub.execute_input": "2023-10-26T07:07:29.137072Z",
     "iopub.status.busy": "2023-10-26T07:07:29.136795Z",
     "iopub.status.idle": "2023-10-26T07:07:29.141476Z",
     "shell.execute_reply": "2023-10-26T07:07:29.140587Z"
    },
    "papermill": {
     "duration": 0.019176,
     "end_time": "2023-10-26T07:07:29.143542",
     "exception": false,
     "start_time": "2023-10-26T07:07:29.124366",
     "status": "completed"
    },
    "tags": [],
    "ExecuteTime": {
     "end_time": "2023-10-26T16:53:59.231973672Z",
     "start_time": "2023-10-26T16:53:59.221219770Z"
    }
   },
   "outputs": [],
   "source": [
    "def to_device(dev: torch.device, *args: torch.Tensor) -> tuple[torch.Tensor, ...]:\n",
    "    return tuple(t.to(dev) for t in args)"
   ]
  },
  {
   "cell_type": "code",
   "execution_count": 15,
   "id": "aa4b1a77",
   "metadata": {
    "collapsed": false,
    "execution": {
     "iopub.execute_input": "2023-10-26T07:07:29.211245Z",
     "iopub.status.busy": "2023-10-26T07:07:29.210937Z",
     "iopub.status.idle": "2023-10-26T07:07:38.584810Z",
     "shell.execute_reply": "2023-10-26T07:07:38.583890Z"
    },
    "papermill": {
     "duration": 9.388324,
     "end_time": "2023-10-26T07:07:38.586923",
     "exception": false,
     "start_time": "2023-10-26T07:07:29.198599",
     "status": "completed"
    },
    "tags": [],
    "ExecuteTime": {
     "end_time": "2023-10-26T16:54:01.467595072Z",
     "start_time": "2023-10-26T16:54:00.804297405Z"
    }
   },
   "outputs": [
    {
     "data": {
      "text/plain": "device(type='cuda')"
     },
     "execution_count": 15,
     "metadata": {},
     "output_type": "execute_result"
    }
   ],
   "source": [
    "device = torch.device(\"cuda\" if torch.cuda.is_available() else \"cpu\")\n",
    "model = DeToxification(\n",
    "    num_embeddings=len(tox_dataset.vocab),\n",
    "    embedding_dim=300,\n",
    "    hidden_dim=300,\n",
    "    lstm_layers=5,\n",
    "    dropout_p=0.3,\n",
    ").to(device)\n",
    "loss_function = torch.nn.CrossEntropyLoss()\n",
    "optimizer = torch.optim.Adam(model.parameters())\n",
    "device"
   ]
  },
  {
   "cell_type": "code",
   "execution_count": 15,
   "id": "8b6d85ac",
   "metadata": {
    "ExecuteTime": {
     "end_time": "2023-10-24T18:08:26.901895675Z",
     "start_time": "2023-10-24T18:08:20.590658469Z"
    },
    "collapsed": false,
    "execution": {
     "iopub.execute_input": "2023-10-26T07:07:38.612583Z",
     "iopub.status.busy": "2023-10-26T07:07:38.612286Z",
     "iopub.status.idle": "2023-10-26T07:07:39.074057Z",
     "shell.execute_reply": "2023-10-26T07:07:39.073091Z"
    },
    "papermill": {
     "duration": 0.476923,
     "end_time": "2023-10-26T07:07:39.076326",
     "exception": false,
     "start_time": "2023-10-26T07:07:38.599403",
     "status": "completed"
    },
    "tags": []
   },
   "outputs": [
    {
     "data": {
      "application/vnd.jupyter.widget-view+json": {
       "model_id": "2447dc45e2ee49b09396355987f02a73",
       "version_major": 2,
       "version_minor": 0
      },
      "text/plain": [
       "Downloading builder script:   0%|          | 0.00/2.85k [00:00<?, ?B/s]"
      ]
     },
     "metadata": {},
     "output_type": "display_data"
    },
    {
     "data": {
      "text/plain": [
       "Metric(name: \"sacrebleu\", features: {'predictions': Value(dtype='string', id='sequence'), 'references': Sequence(feature=Value(dtype='string', id='sequence'), length=-1, id='references')}, usage: \"\"\"\n",
       "Produces BLEU scores along with its sufficient statistics\n",
       "from a source against one or more references.\n",
       "\n",
       "Args:\n",
       "    predictions (`list` of `str`): list of translations to score. Each translation should be tokenized into a list of tokens.\n",
       "    references (`list` of `list` of `str`): A list of lists of references. The contents of the first sub-list are the references for the first prediction, the contents of the second sub-list are for the second prediction, etc. Note that there must be the same number of references for each prediction (i.e. all sub-lists must be of the same length).\n",
       "    smooth_method (`str`): The smoothing method to use, defaults to `'exp'`. Possible values are:\n",
       "        - `'none'`: no smoothing\n",
       "        - `'floor'`: increment zero counts\n",
       "        - `'add-k'`: increment num/denom by k for n>1\n",
       "        - `'exp'`: exponential decay\n",
       "    smooth_value (`float`): The smoothing value. Only valid when `smooth_method='floor'` (in which case `smooth_value` defaults to `0.1`) or `smooth_method='add-k'` (in which case `smooth_value` defaults to `1`).\n",
       "    tokenize (`str`): Tokenization method to use for BLEU. If not provided, defaults to `'zh'` for Chinese, `'ja-mecab'` for Japanese and `'13a'` (mteval) otherwise. Possible values are:\n",
       "        - `'none'`: No tokenization.\n",
       "        - `'zh'`: Chinese tokenization.\n",
       "        - `'13a'`: mimics the `mteval-v13a` script from Moses.\n",
       "        - `'intl'`: International tokenization, mimics the `mteval-v14` script from Moses\n",
       "        - `'char'`: Language-agnostic character-level tokenization.\n",
       "        - `'ja-mecab'`: Japanese tokenization. Uses the [MeCab tokenizer](https://pypi.org/project/mecab-python3).\n",
       "    lowercase (`bool`): If `True`, lowercases the input, enabling case-insensitivity. Defaults to `False`.\n",
       "    force (`bool`): If `True`, insists that your tokenized input is actually detokenized. Defaults to `False`.\n",
       "    use_effective_order (`bool`): If `True`, stops including n-gram orders for which precision is 0. This should be `True`, if sentence-level BLEU will be computed. Defaults to `False`.\n",
       "\n",
       "Returns:\n",
       "    'score': BLEU score,\n",
       "    'counts': Counts,\n",
       "    'totals': Totals,\n",
       "    'precisions': Precisions,\n",
       "    'bp': Brevity penalty,\n",
       "    'sys_len': predictions length,\n",
       "    'ref_len': reference length,\n",
       "\n",
       "Examples:\n",
       "\n",
       "    Example 1:\n",
       "        >>> predictions = [\"hello there general kenobi\", \"foo bar foobar\"]\n",
       "        >>> references = [[\"hello there general kenobi\", \"hello there !\"], [\"foo bar foobar\", \"foo bar foobar\"]]\n",
       "        >>> sacrebleu = datasets.load_metric(\"sacrebleu\")\n",
       "        >>> results = sacrebleu.compute(predictions=predictions, references=references)\n",
       "        >>> print(list(results.keys()))\n",
       "        ['score', 'counts', 'totals', 'precisions', 'bp', 'sys_len', 'ref_len']\n",
       "        >>> print(round(results[\"score\"], 1))\n",
       "        100.0\n",
       "\n",
       "    Example 2:\n",
       "        >>> predictions = [\"hello there general kenobi\",\n",
       "        ...                 \"on our way to ankh morpork\"]\n",
       "        >>> references = [[\"hello there general kenobi\", \"hello there !\"],\n",
       "        ...                 [\"goodbye ankh morpork\", \"ankh morpork\"]]\n",
       "        >>> sacrebleu = datasets.load_metric(\"sacrebleu\")\n",
       "        >>> results = sacrebleu.compute(predictions=predictions,\n",
       "        ...                             references=references)\n",
       "        >>> print(list(results.keys()))\n",
       "        ['score', 'counts', 'totals', 'precisions', 'bp', 'sys_len', 'ref_len']\n",
       "        >>> print(round(results[\"score\"], 1))\n",
       "        39.8\n",
       "\"\"\", stored examples: 0)"
      ]
     },
     "execution_count": 15,
     "metadata": {},
     "output_type": "execute_result"
    }
   ],
   "source": [
    "# Load the BLUE metric\n",
    "sacrebleu = load_metric(\"sacrebleu\")\n",
    "sacrebleu"
   ]
  },
  {
   "cell_type": "code",
   "execution_count": 16,
   "id": "373aac9d",
   "metadata": {
    "ExecuteTime": {
     "end_time": "2023-10-24T18:08:27.613405991Z",
     "start_time": "2023-10-24T18:08:27.600622378Z"
    },
    "collapsed": false,
    "execution": {
     "iopub.execute_input": "2023-10-26T07:07:39.103195Z",
     "iopub.status.busy": "2023-10-26T07:07:39.102722Z",
     "iopub.status.idle": "2023-10-26T07:07:39.120491Z",
     "shell.execute_reply": "2023-10-26T07:07:39.119681Z"
    },
    "papermill": {
     "duration": 0.033706,
     "end_time": "2023-10-26T07:07:39.122510",
     "exception": false,
     "start_time": "2023-10-26T07:07:39.088804",
     "status": "completed"
    },
    "tags": []
   },
   "outputs": [],
   "source": [
    "def train(tr_model: nn.Module,\n",
    "          epochs: int, \n",
    "          train_ld: DataLoader, \n",
    "          val_ld: DataLoader,\n",
    "          optim: torch.optim.Optimizer,\n",
    "          loss_fn: nn.CrossEntropyLoss,\n",
    "          vocab: Vocab,\n",
    "          metric,\n",
    "          dev: torch.device,\n",
    "          ckpt_path: Union[Path, str]) -> tuple[list[float], list[float], float]:\n",
    "    \"\"\"\n",
    "    Train a sequence-to-sequence model.\n",
    "\n",
    "    Args:\n",
    "        tr_model (nn.Module): The model to train.\n",
    "        epochs (int): Number of training epochs.\n",
    "        train_ld (DataLoader): Training data DataLoader.\n",
    "        val_ld (DataLoader): Validation data DataLoader.\n",
    "        optim (torch.optim.Optimizer): Optimizer for training.\n",
    "        loss_fn (nn.CrossEntropyLoss): Loss function.\n",
    "        vocab (Vocab): Vocabulary for tokenization.\n",
    "        metric: Evaluation metric.\n",
    "        dev (torch.device): Device for training.\n",
    "        ckpt_path (Union[Path, str]): Path to save the best model checkpoint.\n",
    "\n",
    "    Returns:\n",
    "        Tuple[list[float], list[float], float]: Training losses, validation losses, and the best metric score.\n",
    "    \"\"\"\n",
    "    tr_losses = []\n",
    "    vl_losses = []\n",
    "    _best = 0\n",
    "    # loop for every epoch (training + evaluation)\n",
    "    for epoch in range(1, epochs + 1):\n",
    "        total_loss = 0\n",
    "    \n",
    "        # progress bar\n",
    "        progress_train = tqdm(enumerate(train_ld, 1), desc=\"Loss: \", total=len(train_ld))\n",
    "    \n",
    "        # ----------------- TRAINING  --------------------\n",
    "        # set model to training\n",
    "        tr_model.train()\n",
    "    \n",
    "        for i, data in progress_train:\n",
    "            inputs, targets = to_device(dev, *data[:-1])\n",
    "    \n",
    "            # training step for single batch\n",
    "            optim.zero_grad()\n",
    "    \n",
    "            outputs = tr_model(inputs, targets)\n",
    "            outputs = outputs.permute(0, 2, 1)\n",
    "            loss = loss_fn(outputs, targets)\n",
    "    \n",
    "            # update running training loss\n",
    "            current_loss = loss.item()\n",
    "            total_loss += current_loss\n",
    "    \n",
    "            # optimizer run\n",
    "            loss.backward()\n",
    "            optim.step()\n",
    "    \n",
    "            # updating progress bar\n",
    "            progress_train.set_description(\"Loss: {:.4f}\".format(total_loss / i))\n",
    "\n",
    "            # releasing unnecessary memory in GPU\n",
    "            if torch.cuda.is_available():\n",
    "                torch.cuda.empty_cache()\n",
    "    \n",
    "        # releasing unnecessary memory in GPU\n",
    "        if torch.cuda.is_available():\n",
    "            torch.cuda.empty_cache()\n",
    "    \n",
    "        # ----------------- VALIDATION  -----------------\n",
    "        # progress bar\n",
    "        progress_val = tqdm(enumerate(val_ld, 1), desc=\"Loss: \", total=len(val_ld))\n",
    "        val_loss_total = 0\n",
    "        metric_total = 0\n",
    "    \n",
    "        # set model to evaluating (testing)\n",
    "        tr_model.eval()\n",
    "        with torch.no_grad():\n",
    "            for i, data in progress_val:\n",
    "                lengths = data[-1]\n",
    "                inputs, targets = to_device(dev, *data[:-1])\n",
    "    \n",
    "                outputs = tr_model(inputs, max_length=targets.shape[1])\n",
    "                outputs = outputs.permute(0, 2, 1)\n",
    "    \n",
    "                # update running validation loss\n",
    "                val_loss_total += loss_function(outputs, targets).item()\n",
    "                predicted = outputs.argmax(dim=1)\n",
    "\n",
    "                predicted = predicted.detach().cpu().numpy()\n",
    "                targets = targets.detach().cpu().numpy()\n",
    "    \n",
    "                predicted = [' '.join(vocab.lookup_tokens(row[:ln])) for row, ln in zip(predicted, lengths)]\n",
    "                targets = [[' '.join(vocab.lookup_tokens(row[:ln]))] for row, ln in zip(targets, lengths)]\n",
    "                metric_total += metric.compute(predictions=predicted, references=targets)['score']\n",
    "    \n",
    "                progress_val.set_description(\"Loss: {:.4f}, Sacrebleu: {:.4f}\".format(val_loss_total / i, metric_total / i))\n",
    "\n",
    "                # releasing unnecessary memory in GPU\n",
    "                if torch.cuda.is_available():\n",
    "                    torch.cuda.empty_cache()\n",
    "\n",
    "        if _best < metric_total / len(val_ld):\n",
    "            torch.save(tr_model.state_dict(), ckpt_path)\n",
    "            _best = metric_total / len(val_ld)\n",
    "\n",
    "        print(\n",
    "            f\"Epoch {epoch}/{epochs}, \"\n",
    "            f\"training loss: {total_loss / len(train_ld):.4f}, \"\n",
    "            f\"validation loss: {val_loss_total / len(val_ld):.4f}, \"\n",
    "            f\"sacrebleu: {metric_total / len(val_ld):.4f}\"\n",
    "        )\n",
    "        tr_losses.append(total_loss / len(train_ld))\n",
    "        vl_losses.append(val_loss_total / len(val_ld))\n",
    "\n",
    "    return tr_losses, vl_losses, _best"
   ]
  },
  {
   "cell_type": "code",
   "execution_count": 17,
   "id": "219c8cb8",
   "metadata": {
    "ExecuteTime": {
     "end_time": "2023-10-24T18:08:29.241561857Z",
     "start_time": "2023-10-24T18:08:28.727731125Z"
    },
    "collapsed": false,
    "execution": {
     "iopub.execute_input": "2023-10-26T07:07:39.148435Z",
     "iopub.status.busy": "2023-10-26T07:07:39.147741Z",
     "iopub.status.idle": "2023-10-26T08:03:46.476617Z",
     "shell.execute_reply": "2023-10-26T08:03:46.475623Z"
    },
    "papermill": {
     "duration": 3367.343632,
     "end_time": "2023-10-26T08:03:46.478561",
     "exception": false,
     "start_time": "2023-10-26T07:07:39.134929",
     "status": "completed"
    },
    "tags": []
   },
   "outputs": [
    {
     "name": "stderr",
     "output_type": "stream",
     "text": [
      "Loss: 2.1976: 100%|██████████| 900/900 [05:23<00:00,  2.78it/s]\n",
      "Loss: 2.0313, Sacrebleu: 0.4438: 100%|██████████| 100/100 [00:10<00:00,  9.29it/s]\n"
     ]
    },
    {
     "name": "stdout",
     "output_type": "stream",
     "text": [
      "Epoch 1/10, training loss: 2.1976, validation loss: 2.0313, sacrebleu: 0.4438\n"
     ]
    },
    {
     "name": "stderr",
     "output_type": "stream",
     "text": [
      "Loss: 1.9752: 100%|██████████| 900/900 [05:26<00:00,  2.76it/s]\n",
      "Loss: 1.9667, Sacrebleu: 0.6741: 100%|██████████| 100/100 [00:10<00:00,  9.32it/s]\n"
     ]
    },
    {
     "name": "stdout",
     "output_type": "stream",
     "text": [
      "Epoch 2/10, training loss: 1.9752, validation loss: 1.9667, sacrebleu: 0.6741\n"
     ]
    },
    {
     "name": "stderr",
     "output_type": "stream",
     "text": [
      "Loss: 1.6245: 100%|██████████| 900/900 [05:25<00:00,  2.77it/s]\n",
      "Loss: 2.7209, Sacrebleu: 2.9515: 100%|██████████| 100/100 [00:10<00:00,  9.43it/s]\n"
     ]
    },
    {
     "name": "stdout",
     "output_type": "stream",
     "text": [
      "Epoch 3/10, training loss: 1.6245, validation loss: 2.7209, sacrebleu: 2.9515\n"
     ]
    },
    {
     "name": "stderr",
     "output_type": "stream",
     "text": [
      "Loss: 1.4448: 100%|██████████| 900/900 [05:25<00:00,  2.77it/s]\n",
      "Loss: 2.8196, Sacrebleu: 4.1398: 100%|██████████| 100/100 [00:10<00:00,  9.34it/s]\n"
     ]
    },
    {
     "name": "stdout",
     "output_type": "stream",
     "text": [
      "Epoch 4/10, training loss: 1.4448, validation loss: 2.8196, sacrebleu: 4.1398\n"
     ]
    },
    {
     "name": "stderr",
     "output_type": "stream",
     "text": [
      "Loss: 1.3320: 100%|██████████| 900/900 [05:26<00:00,  2.76it/s]\n",
      "Loss: 2.9078, Sacrebleu: 4.6309: 100%|██████████| 100/100 [00:10<00:00,  9.09it/s]\n"
     ]
    },
    {
     "name": "stdout",
     "output_type": "stream",
     "text": [
      "Epoch 5/10, training loss: 1.3320, validation loss: 2.9078, sacrebleu: 4.6309\n"
     ]
    },
    {
     "name": "stderr",
     "output_type": "stream",
     "text": [
      "Loss: 1.2645: 100%|██████████| 900/900 [05:23<00:00,  2.78it/s]\n",
      "Loss: 3.0431, Sacrebleu: 5.4558: 100%|██████████| 100/100 [00:10<00:00,  9.47it/s]\n"
     ]
    },
    {
     "name": "stdout",
     "output_type": "stream",
     "text": [
      "Epoch 6/10, training loss: 1.2645, validation loss: 3.0431, sacrebleu: 5.4558\n"
     ]
    },
    {
     "name": "stderr",
     "output_type": "stream",
     "text": [
      "Loss: 1.1885: 100%|██████████| 900/900 [05:24<00:00,  2.77it/s]\n",
      "Loss: 3.1335, Sacrebleu: 6.2904: 100%|██████████| 100/100 [00:10<00:00,  9.37it/s]\n"
     ]
    },
    {
     "name": "stdout",
     "output_type": "stream",
     "text": [
      "Epoch 7/10, training loss: 1.1885, validation loss: 3.1335, sacrebleu: 6.2904\n"
     ]
    },
    {
     "name": "stderr",
     "output_type": "stream",
     "text": [
      "Loss: 1.1282: 100%|██████████| 900/900 [05:29<00:00,  2.74it/s]\n",
      "Loss: 3.2403, Sacrebleu: 6.7012: 100%|██████████| 100/100 [00:10<00:00,  9.46it/s]\n"
     ]
    },
    {
     "name": "stdout",
     "output_type": "stream",
     "text": [
      "Epoch 8/10, training loss: 1.1282, validation loss: 3.2403, sacrebleu: 6.7012\n"
     ]
    },
    {
     "name": "stderr",
     "output_type": "stream",
     "text": [
      "Loss: 1.0819: 100%|██████████| 900/900 [05:26<00:00,  2.76it/s]\n",
      "Loss: 3.2296, Sacrebleu: 6.8398: 100%|██████████| 100/100 [00:10<00:00,  9.34it/s]\n"
     ]
    },
    {
     "name": "stdout",
     "output_type": "stream",
     "text": [
      "Epoch 9/10, training loss: 1.0819, validation loss: 3.2296, sacrebleu: 6.8398\n"
     ]
    },
    {
     "name": "stderr",
     "output_type": "stream",
     "text": [
      "Loss: 1.0368: 100%|██████████| 900/900 [05:25<00:00,  2.76it/s]\n",
      "Loss: 3.3665, Sacrebleu: 7.4520: 100%|██████████| 100/100 [00:10<00:00,  9.30it/s]\n"
     ]
    },
    {
     "name": "stdout",
     "output_type": "stream",
     "text": [
      "Epoch 10/10, training loss: 1.0368, validation loss: 3.3665, sacrebleu: 7.4520\n"
     ]
    }
   ],
   "source": [
    "train_losses, val_losses, best_score = train(\n",
    "    tr_model=model,\n",
    "    epochs=10,\n",
    "    train_ld=train_dataloader,\n",
    "    val_ld=val_dataloader,\n",
    "    optim=optimizer,\n",
    "    loss_fn=loss_function,\n",
    "    vocab=tox_dataset.vocab,\n",
    "    metric=sacrebleu,\n",
    "    dev=device,\n",
    "    ckpt_path=model_cktp_path\n",
    ")"
   ]
  },
  {
   "cell_type": "code",
   "execution_count": 18,
   "id": "930ea964",
   "metadata": {
    "execution": {
     "iopub.execute_input": "2023-10-26T08:03:49.610987Z",
     "iopub.status.busy": "2023-10-26T08:03:49.610598Z",
     "iopub.status.idle": "2023-10-26T08:03:49.946634Z",
     "shell.execute_reply": "2023-10-26T08:03:49.945733Z"
    },
    "papermill": {
     "duration": 1.947228,
     "end_time": "2023-10-26T08:03:49.948652",
     "exception": false,
     "start_time": "2023-10-26T08:03:48.001424",
     "status": "completed"
    },
    "tags": []
   },
   "outputs": [
    {
     "data": {
      "image/png": "[encoded data removed]",
      "text/plain": [
       "<Figure size 640x480 with 1 Axes>"
      ]
     },
     "metadata": {},
     "output_type": "display_data"
    }
   ],
   "source": [
    "epochs_arr = np.arange(1, len(train_losses) + 1, 1)\n",
    "plt.title('Train history')\n",
    "plt.plot(epochs_arr, train_losses, c='b', label='Train loss')\n",
    "plt.plot(epochs_arr, val_losses, c='r', label='Validation loss')\n",
    "plt.legend(loc='best')\n",
    "plt.xlabel('Epochs')\n",
    "plt.ylabel('Cross entroppy loss')\n",
    "plt.show()"
   ]
  },
  {
   "cell_type": "code",
   "execution_count": 16,
   "id": "ea629169",
   "metadata": {
    "collapsed": false,
    "execution": {
     "iopub.execute_input": "2023-10-26T08:03:53.178895Z",
     "iopub.status.busy": "2023-10-26T08:03:53.177992Z",
     "iopub.status.idle": "2023-10-26T08:03:53.680403Z",
     "shell.execute_reply": "2023-10-26T08:03:53.679462Z"
    },
    "papermill": {
     "duration": 2.078433,
     "end_time": "2023-10-26T08:03:53.682420",
     "exception": false,
     "start_time": "2023-10-26T08:03:51.603987",
     "status": "completed"
    },
    "tags": [],
    "ExecuteTime": {
     "end_time": "2023-10-26T16:54:11.822791016Z",
     "start_time": "2023-10-26T16:54:11.464425129Z"
    }
   },
   "outputs": [
    {
     "data": {
      "text/plain": "DeToxification(\n  (enc): EncoderRNN(\n    (embedding): Embedding(32331, 300)\n    (rnn): LSTM(300, 300, num_layers=5, batch_first=True, dropout=0.3)\n    (dropout): Dropout(p=0.3, inplace=False)\n  )\n  (dec): AttnDecoderRNN(\n    (embedding): Embedding(32331, 300)\n    (rnn): LSTM(600, 300, num_layers=5, batch_first=True, dropout=0.3)\n    (attention_h): BahdanauAttention(\n      (Wa): Linear(in_features=300, out_features=300, bias=True)\n      (Ua): Linear(in_features=300, out_features=300, bias=True)\n      (Va): Linear(in_features=300, out_features=1, bias=True)\n      (act): Softmax(dim=-1)\n    )\n    (out): Linear(in_features=300, out_features=32331, bias=True)\n    (dropout): Dropout(p=0.3, inplace=False)\n  )\n)"
     },
     "execution_count": 16,
     "metadata": {},
     "output_type": "execute_result"
    }
   ],
   "source": [
    "model = DeToxification(\n",
    "    num_embeddings=len(tox_dataset.vocab),\n",
    "    embedding_dim=300,\n",
    "    hidden_dim=300,\n",
    "    lstm_layers=5,\n",
    "    dropout_p=0.3,\n",
    ")\n",
    "model.load_state_dict(torch.load(model_cktp_path))\n",
    "model.to(device)"
   ]
  },
  {
   "cell_type": "code",
   "execution_count": 17,
   "id": "80b191b1",
   "metadata": {
    "execution": {
     "iopub.execute_input": "2023-10-26T08:03:56.743365Z",
     "iopub.status.busy": "2023-10-26T08:03:56.742983Z",
     "iopub.status.idle": "2023-10-26T08:03:56.752429Z",
     "shell.execute_reply": "2023-10-26T08:03:56.751435Z"
    },
    "papermill": {
     "duration": 1.580071,
     "end_time": "2023-10-26T08:03:56.754336",
     "exception": false,
     "start_time": "2023-10-26T08:03:55.174265",
     "status": "completed"
    },
    "tags": [],
    "ExecuteTime": {
     "end_time": "2023-10-26T16:54:13.995271863Z",
     "start_time": "2023-10-26T16:54:13.990795611Z"
    }
   },
   "outputs": [],
   "source": [
    "tokenizer = torchtext.data.utils.get_tokenizer('basic_english')\n",
    "\n",
    "def de_toxification(tr_model: nn.Module, text: str, vocab: Vocab, dev: torch.device, max_length: int = 50) -> str:\n",
    "    \"\"\"\n",
    "    De-toxify a given text using a sequence-to-sequence model.\n",
    "\n",
    "    Args:\n",
    "        tr_model (nn.Module): The trained model for de-toxification.\n",
    "        text (str): The input text to de-toxify.\n",
    "        vocab (Vocab): Vocabulary for tokenization.\n",
    "        dev (torch.device): Device for inference.\n",
    "        max_length (int): Maximum length of the output text (default: 50).\n",
    "\n",
    "    Returns:\n",
    "        str: The de-toxified text.\n",
    "    \"\"\"\n",
    "    text = text.lower()\n",
    "    garbage = [\n",
    "        '^', '&', '*', '%', '@', '#', '$', '_', '+', '-', '=', '>', '<', ':', '~'\n",
    "    ]\n",
    "    for symbol in garbage:\n",
    "        text = text.replace(symbol, '')\n",
    "    text = text.replace('...', '.')\n",
    "    tokens = tokenizer(text)\n",
    "    tokens_idx = torch.tensor(vocab(tokens) + [EOS_IDX]).unsqueeze(0).to(device)\n",
    "    output = tr_model(tokens_idx, max_length=max_length)\n",
    "    output = output.permute(0, 2, 1)\n",
    "\n",
    "    predicted = output.argmax(dim=1)\n",
    "    predicted = predicted.detach()\n",
    "    if dev.type == 'cuda':\n",
    "        predicted = predicted.cpu()\n",
    "    predicted = predicted.numpy()\n",
    "    predicted = predicted[0]\n",
    "\n",
    "    end_idx = predicted.tolist().index(EOS_IDX)\n",
    "    predicted = predicted[:end_idx] if end_idx > -1 else predicted\n",
    "    predicted = ' '.join(vocab.lookup_tokens(predicted))\n",
    "\n",
    "    return predicted"
   ]
  },
  {
   "cell_type": "code",
   "execution_count": 21,
   "id": "0ecf522b",
   "metadata": {
    "execution": {
     "iopub.execute_input": "2023-10-26T08:03:59.916084Z",
     "iopub.status.busy": "2023-10-26T08:03:59.915354Z",
     "iopub.status.idle": "2023-10-26T08:03:59.982330Z",
     "shell.execute_reply": "2023-10-26T08:03:59.981457Z"
    },
    "papermill": {
     "duration": 1.628538,
     "end_time": "2023-10-26T08:03:59.984261",
     "exception": false,
     "start_time": "2023-10-26T08:03:58.355723",
     "status": "completed"
    },
    "tags": [],
    "ExecuteTime": {
     "end_time": "2023-10-26T16:57:47.972573760Z",
     "start_time": "2023-10-26T16:57:47.884566634Z"
    }
   },
   "outputs": [
    {
     "name": "stdout",
     "output_type": "stream",
     "text": [
      "you ' re a monster !\n"
     ]
    }
   ],
   "source": [
    "de_tox = de_toxification(model, \"You are dirty bastard!\", tox_dataset.vocab, device)\n",
    "print(de_tox)"
   ]
  },
  {
   "cell_type": "code",
   "execution_count": null,
   "outputs": [],
   "source": [],
   "metadata": {
    "collapsed": false
   },
   "id": "e383c17cf60ec108"
  }
 ],
 "metadata": {
  "kernelspec": {
   "display_name": "Python 3",
   "language": "python",
   "name": "python3"
  },
  "language_info": {
   "codemirror_mode": {
    "name": "ipython",
    "version": 3
   },
   "file_extension": ".py",
   "mimetype": "text/x-python",
   "name": "python",
   "nbconvert_exporter": "python",
   "pygments_lexer": "ipython3",
   "version": "3.10.12"
  },
  "papermill": {
   "default_parameters": {},
   "duration": 3491.231341,
   "end_time": "2023-10-26T08:04:04.528944",
   "environment_variables": {},
   "exception": null,
   "input_path": "__notebook__.ipynb",
   "output_path": "__notebook__.ipynb",
   "parameters": {},
   "start_time": "2023-10-26T07:05:53.297603",
   "version": "2.4.0"
  },
  "widgets": {
   "application/vnd.jupyter.widget-state+json": {
    "state": {
     "0e900d4ed1d041a59b67142df94752ae": {
      "model_module": "@jupyter-widgets/controls",
      "model_module_version": "1.5.0",
      "model_name": "ProgressStyleModel",
      "state": {
       "_model_module": "@jupyter-widgets/controls",
       "_model_module_version": "1.5.0",
       "_model_name": "ProgressStyleModel",
       "_view_count": null,
       "_view_module": "@jupyter-widgets/base",
       "_view_module_version": "1.2.0",
       "_view_name": "StyleView",
       "bar_color": null,
       "description_width": ""
      }
     },
     "2447dc45e2ee49b09396355987f02a73": {
      "model_module": "@jupyter-widgets/controls",
      "model_module_version": "1.5.0",
      "model_name": "HBoxModel",
      "state": {
       "_dom_classes": [],
       "_model_module": "@jupyter-widgets/controls",
       "_model_module_version": "1.5.0",
       "_model_name": "HBoxModel",
       "_view_count": null,
       "_view_module": "@jupyter-widgets/controls",
       "_view_module_version": "1.5.0",
       "_view_name": "HBoxView",
       "box_style": "",
       "children": [
        "IPY_MODEL_d442e5468ba8439384a4e058d06a994f",
        "IPY_MODEL_7d6c8bc1de91432e80105f049b068214",
        "IPY_MODEL_6efa990311bb4a0d8ee3dfe4cc012592"
       ],
       "layout": "IPY_MODEL_fd55cd6556474f7a8027d39126a45ac6"
      }
     },
     "333dea4736714d529a333f1800354570": {
      "model_module": "@jupyter-widgets/controls",
      "model_module_version": "1.5.0",
      "model_name": "DescriptionStyleModel",
      "state": {
       "_model_module": "@jupyter-widgets/controls",
       "_model_module_version": "1.5.0",
       "_model_name": "DescriptionStyleModel",
       "_view_count": null,
       "_view_module": "@jupyter-widgets/base",
       "_view_module_version": "1.2.0",
       "_view_name": "StyleView",
       "description_width": ""
      }
     },
     "6b65867f68534f42a1c234b9c8c79906": {
      "model_module": "@jupyter-widgets/base",
      "model_module_version": "1.2.0",
      "model_name": "LayoutModel",
      "state": {
       "_model_module": "@jupyter-widgets/base",
       "_model_module_version": "1.2.0",
       "_model_name": "LayoutModel",
       "_view_count": null,
       "_view_module": "@jupyter-widgets/base",
       "_view_module_version": "1.2.0",
       "_view_name": "LayoutView",
       "align_content": null,
       "align_items": null,
       "align_self": null,
       "border": null,
       "bottom": null,
       "display": null,
       "flex": null,
       "flex_flow": null,
       "grid_area": null,
       "grid_auto_columns": null,
       "grid_auto_flow": null,
       "grid_auto_rows": null,
       "grid_column": null,
       "grid_gap": null,
       "grid_row": null,
       "grid_template_areas": null,
       "grid_template_columns": null,
       "grid_template_rows": null,
       "height": null,
       "justify_content": null,
       "justify_items": null,
       "left": null,
       "margin": null,
       "max_height": null,
       "max_width": null,
       "min_height": null,
       "min_width": null,
       "object_fit": null,
       "object_position": null,
       "order": null,
       "overflow": null,
       "overflow_x": null,
       "overflow_y": null,
       "padding": null,
       "right": null,
       "top": null,
       "visibility": null,
       "width": null
      }
     },
     "6efa990311bb4a0d8ee3dfe4cc012592": {
      "model_module": "@jupyter-widgets/controls",
      "model_module_version": "1.5.0",
      "model_name": "HTMLModel",
      "state": {
       "_dom_classes": [],
       "_model_module": "@jupyter-widgets/controls",
       "_model_module_version": "1.5.0",
       "_model_name": "HTMLModel",
       "_view_count": null,
       "_view_module": "@jupyter-widgets/controls",
       "_view_module_version": "1.5.0",
       "_view_name": "HTMLView",
       "description": "",
       "description_tooltip": null,
       "layout": "IPY_MODEL_dd28ef3d2f5f4554b641468f0dc58fba",
       "placeholder": "​",
       "style": "IPY_MODEL_93c6970c9fed49579b661784d7a55ae7",
       "value": " 7.65k/? [00:00&lt;00:00, 533kB/s]"
      }
     },
     "7d6c8bc1de91432e80105f049b068214": {
      "model_module": "@jupyter-widgets/controls",
      "model_module_version": "1.5.0",
      "model_name": "FloatProgressModel",
      "state": {
       "_dom_classes": [],
       "_model_module": "@jupyter-widgets/controls",
       "_model_module_version": "1.5.0",
       "_model_name": "FloatProgressModel",
       "_view_count": null,
       "_view_module": "@jupyter-widgets/controls",
       "_view_module_version": "1.5.0",
       "_view_name": "ProgressView",
       "bar_style": "success",
       "description": "",
       "description_tooltip": null,
       "layout": "IPY_MODEL_6b65867f68534f42a1c234b9c8c79906",
       "max": 2848.0,
       "min": 0.0,
       "orientation": "horizontal",
       "style": "IPY_MODEL_0e900d4ed1d041a59b67142df94752ae",
       "value": 2848.0
      }
     },
     "93c6970c9fed49579b661784d7a55ae7": {
      "model_module": "@jupyter-widgets/controls",
      "model_module_version": "1.5.0",
      "model_name": "DescriptionStyleModel",
      "state": {
       "_model_module": "@jupyter-widgets/controls",
       "_model_module_version": "1.5.0",
       "_model_name": "DescriptionStyleModel",
       "_view_count": null,
       "_view_module": "@jupyter-widgets/base",
       "_view_module_version": "1.2.0",
       "_view_name": "StyleView",
       "description_width": ""
      }
     },
     "d442e5468ba8439384a4e058d06a994f": {
      "model_module": "@jupyter-widgets/controls",
      "model_module_version": "1.5.0",
      "model_name": "HTMLModel",
      "state": {
       "_dom_classes": [],
       "_model_module": "@jupyter-widgets/controls",
       "_model_module_version": "1.5.0",
       "_model_name": "HTMLModel",
       "_view_count": null,
       "_view_module": "@jupyter-widgets/controls",
       "_view_module_version": "1.5.0",
       "_view_name": "HTMLView",
       "description": "",
       "description_tooltip": null,
       "layout": "IPY_MODEL_e3dbe0f9af06440fb1758782076bf562",
       "placeholder": "​",
       "style": "IPY_MODEL_333dea4736714d529a333f1800354570",
       "value": "Downloading builder script: "
      }
     },
     "dd28ef3d2f5f4554b641468f0dc58fba": {
      "model_module": "@jupyter-widgets/base",
      "model_module_version": "1.2.0",
      "model_name": "LayoutModel",
      "state": {
       "_model_module": "@jupyter-widgets/base",
       "_model_module_version": "1.2.0",
       "_model_name": "LayoutModel",
       "_view_count": null,
       "_view_module": "@jupyter-widgets/base",
       "_view_module_version": "1.2.0",
       "_view_name": "LayoutView",
       "align_content": null,
       "align_items": null,
       "align_self": null,
       "border": null,
       "bottom": null,
       "display": null,
       "flex": null,
       "flex_flow": null,
       "grid_area": null,
       "grid_auto_columns": null,
       "grid_auto_flow": null,
       "grid_auto_rows": null,
       "grid_column": null,
       "grid_gap": null,
       "grid_row": null,
       "grid_template_areas": null,
       "grid_template_columns": null,
       "grid_template_rows": null,
       "height": null,
       "justify_content": null,
       "justify_items": null,
       "left": null,
       "margin": null,
       "max_height": null,
       "max_width": null,
       "min_height": null,
       "min_width": null,
       "object_fit": null,
       "object_position": null,
       "order": null,
       "overflow": null,
       "overflow_x": null,
       "overflow_y": null,
       "padding": null,
       "right": null,
       "top": null,
       "visibility": null,
       "width": null
      }
     },
     "e3dbe0f9af06440fb1758782076bf562": {
      "model_module": "@jupyter-widgets/base",
      "model_module_version": "1.2.0",
      "model_name": "LayoutModel",
      "state": {
       "_model_module": "@jupyter-widgets/base",
       "_model_module_version": "1.2.0",
       "_model_name": "LayoutModel",
       "_view_count": null,
       "_view_module": "@jupyter-widgets/base",
       "_view_module_version": "1.2.0",
       "_view_name": "LayoutView",
       "align_content": null,
       "align_items": null,
       "align_self": null,
       "border": null,
       "bottom": null,
       "display": null,
       "flex": null,
       "flex_flow": null,
       "grid_area": null,
       "grid_auto_columns": null,
       "grid_auto_flow": null,
       "grid_auto_rows": null,
       "grid_column": null,
       "grid_gap": null,
       "grid_row": null,
       "grid_template_areas": null,
       "grid_template_columns": null,
       "grid_template_rows": null,
       "height": null,
       "justify_content": null,
       "justify_items": null,
       "left": null,
       "margin": null,
       "max_height": null,
       "max_width": null,
       "min_height": null,
       "min_width": null,
       "object_fit": null,
       "object_position": null,
       "order": null,
       "overflow": null,
       "overflow_x": null,
       "overflow_y": null,
       "padding": null,
       "right": null,
       "top": null,
       "visibility": null,
       "width": null
      }
     },
     "fd55cd6556474f7a8027d39126a45ac6": {
      "model_module": "@jupyter-widgets/base",
      "model_module_version": "1.2.0",
      "model_name": "LayoutModel",
      "state": {
       "_model_module": "@jupyter-widgets/base",
       "_model_module_version": "1.2.0",
       "_model_name": "LayoutModel",
       "_view_count": null,
       "_view_module": "@jupyter-widgets/base",
       "_view_module_version": "1.2.0",
       "_view_name": "LayoutView",
       "align_content": null,
       "align_items": null,
       "align_self": null,
       "border": null,
       "bottom": null,
       "display": null,
       "flex": null,
       "flex_flow": null,
       "grid_area": null,
       "grid_auto_columns": null,
       "grid_auto_flow": null,
       "grid_auto_rows": null,
       "grid_column": null,
       "grid_gap": null,
       "grid_row": null,
       "grid_template_areas": null,
       "grid_template_columns": null,
       "grid_template_rows": null,
       "height": null,
       "justify_content": null,
       "justify_items": null,
       "left": null,
       "margin": null,
       "max_height": null,
       "max_width": null,
       "min_height": null,
       "min_width": null,
       "object_fit": null,
       "object_position": null,
       "order": null,
       "overflow": null,
       "overflow_x": null,
       "overflow_y": null,
       "padding": null,
       "right": null,
       "top": null,
       "visibility": null,
       "width": null
      }
     }
    },
    "version_major": 2,
    "version_minor": 0
   }
  }
 },
 "nbformat": 4,
 "nbformat_minor": 5
}
