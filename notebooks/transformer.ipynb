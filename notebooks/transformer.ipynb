{
 "cells": [
  {
   "cell_type": "markdown",
   "id": "4db656b6",
   "metadata": {
    "papermill": {
     "duration": 0.009811,
     "end_time": "2023-10-24T20:23:17.391055",
     "exception": false,
     "start_time": "2023-10-24T20:23:17.381244",
     "status": "completed"
    },
    "tags": []
   },
   "source": [
    "# Imports"
   ]
  },
  {
   "cell_type": "code",
   "execution_count": 1,
   "outputs": [],
   "source": [
    "import warnings\n",
    "\n",
    "warnings.filterwarnings('ignore')"
   ],
   "metadata": {
    "collapsed": false,
    "ExecuteTime": {
     "end_time": "2023-10-29T11:16:52.287666009Z",
     "start_time": "2023-10-29T11:16:52.273443488Z"
    }
   },
   "id": "58d654710d5488b"
  },
  {
   "cell_type": "code",
   "execution_count": 2,
   "outputs": [],
   "source": [
    "import torch\n",
    "import torch.nn as nn\n",
    "import torchtext\n",
    "import numpy as np\n",
    "import pandas as pd\n",
    "import matplotlib.pyplot as plt\n",
    "\n",
    "from typing import Union, Optional\n",
    "from ast import literal_eval\n",
    "from pathlib import Path\n",
    "\n",
    "from torchtext.vocab import Vocab\n",
    "from torch.utils.data import DataLoader, Dataset, random_split\n",
    "from tqdm import tqdm\n",
    "from datasets import load_metric\n",
    "from sklearn.model_selection import train_test_split"
   ],
   "metadata": {
    "collapsed": false,
    "ExecuteTime": {
     "end_time": "2023-10-29T11:16:54.775208924Z",
     "start_time": "2023-10-29T11:16:52.275506420Z"
    }
   },
   "id": "f3c99620"
  },
  {
   "cell_type": "markdown",
   "source": [
    "# Data loading"
   ],
   "metadata": {
    "collapsed": false
   },
   "id": "1d434fb0"
  },
  {
   "cell_type": "code",
   "execution_count": 3,
   "id": "117365a9",
   "metadata": {
    "collapsed": false,
    "execution": {
     "iopub.execute_input": "2023-10-24T20:23:58.526705Z",
     "iopub.status.busy": "2023-10-24T20:23:58.526131Z",
     "iopub.status.idle": "2023-10-24T20:24:45.020992Z",
     "shell.execute_reply": "2023-10-24T20:24:45.019833Z"
    },
    "papermill": {
     "duration": 46.523406,
     "end_time": "2023-10-24T20:24:45.037032",
     "exception": false,
     "start_time": "2023-10-24T20:23:58.513626",
     "status": "completed"
    },
    "tags": [],
    "ExecuteTime": {
     "end_time": "2023-10-29T11:17:21.234547468Z",
     "start_time": "2023-10-29T11:16:54.817103451Z"
    }
   },
   "outputs": [
    {
     "data": {
      "text/plain": "                                           reference  \\\n0  [if, alkar, is, flooding, her, with, psychic, ...   \n1               [now, you, ', re, getting, nasty, .]   \n2  [well, ,, we, could, spare, your, life, ,, for...   \n3  [ah, !, monkey, ,, you, ', ve, got, to, snap, ...   \n4     [i, ', ve, got, orders, to, put, her, down, .]   \n\n                                         translation  similarity  lenght_diff  \\\n0  [if, alkar, floods, her, with, her, mental, wa...    0.785171     0.010309   \n1              [you, ', re, becoming, disgusting, .]    0.749687     0.071429   \n2           [well, ,, we, can, spare, your, life, .]    0.919051     0.268293   \n3            [monkey, ,, you, have, to, wake, up, .]    0.664333     0.309524   \n4                [i, have, orders, to, kill, her, .]    0.726639     0.181818   \n\n    ref_tox   trn_tox  \n0  0.014195  0.981983  \n1  0.065473  0.999039  \n2  0.213313  0.985068  \n3  0.053362  0.994215  \n4  0.009402  0.999348  ",
      "text/html": "<div>\n<style scoped>\n    .dataframe tbody tr th:only-of-type {\n        vertical-align: middle;\n    }\n\n    .dataframe tbody tr th {\n        vertical-align: top;\n    }\n\n    .dataframe thead th {\n        text-align: right;\n    }\n</style>\n<table border=\"1\" class=\"dataframe\">\n  <thead>\n    <tr style=\"text-align: right;\">\n      <th></th>\n      <th>reference</th>\n      <th>translation</th>\n      <th>similarity</th>\n      <th>lenght_diff</th>\n      <th>ref_tox</th>\n      <th>trn_tox</th>\n    </tr>\n  </thead>\n  <tbody>\n    <tr>\n      <th>0</th>\n      <td>[if, alkar, is, flooding, her, with, psychic, ...</td>\n      <td>[if, alkar, floods, her, with, her, mental, wa...</td>\n      <td>0.785171</td>\n      <td>0.010309</td>\n      <td>0.014195</td>\n      <td>0.981983</td>\n    </tr>\n    <tr>\n      <th>1</th>\n      <td>[now, you, ', re, getting, nasty, .]</td>\n      <td>[you, ', re, becoming, disgusting, .]</td>\n      <td>0.749687</td>\n      <td>0.071429</td>\n      <td>0.065473</td>\n      <td>0.999039</td>\n    </tr>\n    <tr>\n      <th>2</th>\n      <td>[well, ,, we, could, spare, your, life, ,, for...</td>\n      <td>[well, ,, we, can, spare, your, life, .]</td>\n      <td>0.919051</td>\n      <td>0.268293</td>\n      <td>0.213313</td>\n      <td>0.985068</td>\n    </tr>\n    <tr>\n      <th>3</th>\n      <td>[ah, !, monkey, ,, you, ', ve, got, to, snap, ...</td>\n      <td>[monkey, ,, you, have, to, wake, up, .]</td>\n      <td>0.664333</td>\n      <td>0.309524</td>\n      <td>0.053362</td>\n      <td>0.994215</td>\n    </tr>\n    <tr>\n      <th>4</th>\n      <td>[i, ', ve, got, orders, to, put, her, down, .]</td>\n      <td>[i, have, orders, to, kill, her, .]</td>\n      <td>0.726639</td>\n      <td>0.181818</td>\n      <td>0.009402</td>\n      <td>0.999348</td>\n    </tr>\n  </tbody>\n</table>\n</div>"
     },
     "execution_count": 3,
     "metadata": {},
     "output_type": "execute_result"
    }
   ],
   "source": [
    "base_path = Path('..').resolve()\n",
    "data_path = base_path / Path('data/interim/intermediate.tsv')\n",
    "model_cktp_path = base_path / 'models' / 'transformer.pt'\n",
    "\n",
    "tox_data = pd.read_csv(data_path, sep='\\t', converters={'reference': literal_eval, 'translation': literal_eval})\n",
    "tox_data.head()"
   ]
  },
  {
   "cell_type": "code",
   "execution_count": 4,
   "outputs": [],
   "source": [
    "AMOUNT_OF_PAIRS = 50000\n",
    "VAL_RATIO = 0.1\n",
    "MAX_LENGTH = 75\n",
    "MIN_TOX = 0.75\n",
    "\n",
    "tox_data = tox_data[\n",
    "    (tox_data['ref_tox'] >= MIN_TOX) &\n",
    "    (tox_data['trn_tox'] <= 1 - MIN_TOX) &\n",
    "    (tox_data['reference'].str.len() <= MAX_LENGTH) &\n",
    "    (tox_data['translation'].str.len() <= MAX_LENGTH)\n",
    "]"
   ],
   "metadata": {
    "collapsed": false,
    "ExecuteTime": {
     "end_time": "2023-10-29T11:17:21.671131448Z",
     "start_time": "2023-10-29T11:17:21.236124035Z"
    }
   },
   "id": "c859825e73667af0"
  },
  {
   "cell_type": "code",
   "execution_count": 5,
   "outputs": [],
   "source": [
    "tox_data['id'] = pd.RangeIndex(0, len(tox_data))\n",
    "train_split, val_split = train_test_split(\n",
    "    range(tox_data[tox_data['id'] < AMOUNT_OF_PAIRS]['id'].max() + 1),\n",
    "    test_size=VAL_RATIO,\n",
    "    random_state=420\n",
    ")\n",
    "train_dataframe = tox_data[tox_data['id'].isin(train_split)]\n",
    "val_dataframe = tox_data[tox_data['id'].isin(val_split)]"
   ],
   "metadata": {
    "collapsed": false,
    "ExecuteTime": {
     "end_time": "2023-10-29T11:17:21.707703906Z",
     "start_time": "2023-10-29T11:17:21.673247486Z"
    }
   },
   "id": "8b45ee591895cfb1"
  },
  {
   "cell_type": "markdown",
   "id": "45a9c661",
   "metadata": {
    "papermill": {
     "duration": 0.011857,
     "end_time": "2023-10-24T20:24:45.061424",
     "exception": false,
     "start_time": "2023-10-24T20:24:45.049567",
     "status": "completed"
    },
    "tags": []
   },
   "source": [
    "# Dataset"
   ]
  },
  {
   "cell_type": "code",
   "execution_count": 6,
   "id": "9b7ce890",
   "metadata": {
    "collapsed": false,
    "execution": {
     "iopub.execute_input": "2023-10-24T20:24:45.087696Z",
     "iopub.status.busy": "2023-10-24T20:24:45.087325Z",
     "iopub.status.idle": "2023-10-24T20:24:45.101375Z",
     "shell.execute_reply": "2023-10-24T20:24:45.100473Z"
    },
    "papermill": {
     "duration": 0.029919,
     "end_time": "2023-10-24T20:24:45.103522",
     "exception": false,
     "start_time": "2023-10-24T20:24:45.073603",
     "status": "completed"
    },
    "tags": [],
    "ExecuteTime": {
     "end_time": "2023-10-29T11:17:21.721925590Z",
     "start_time": "2023-10-29T11:17:21.710935831Z"
    }
   },
   "outputs": [],
   "source": [
    "UNK_IDX, PAD_IDX, BOS_IDX, EOS_IDX = 0, 1, 2, 3\n",
    "SPECIAL_SYMBOLS = ['<unk>', '<pad>', '<bos>', '<eos>']\n",
    "\n",
    "\n",
    "class DeToxificationDataset(Dataset):\n",
    "    def __init__(self,\n",
    "                 dataframe: pd.DataFrame,\n",
    "                 vocab: Optional[Vocab] = None):\n",
    "        self.dataframe = dataframe\n",
    "        self.reference = self.dataframe['reference'].values\n",
    "        self.translation = self.dataframe['translation'].values\n",
    "        self.vocab = vocab or self._create_vocab()\n",
    "\n",
    "    def _create_vocab(self) -> Vocab:\n",
    "        new_vocab = torchtext.vocab.build_vocab_from_iterator(\n",
    "            iter(self.reference + self.translation),\n",
    "            specials=SPECIAL_SYMBOLS\n",
    "        )\n",
    "        new_vocab.set_default_index(UNK_IDX)\n",
    "        return new_vocab\n",
    "\n",
    "    def _get_reference(self, index: int) -> list[int]:\n",
    "        return self.vocab(self.reference[index])\n",
    "\n",
    "    def _get_translation(self, index: int) -> list[int]:\n",
    "        # retrieves tags from dataset by index\n",
    "        return self.vocab(self.translation[index])\n",
    "\n",
    "    def __getitem__(self, index) -> tuple[list, list]:\n",
    "        return self._get_reference(index), self._get_translation(index)\n",
    "\n",
    "    def __len__(self) -> int:\n",
    "        return len(self.dataframe)"
   ]
  },
  {
   "cell_type": "code",
   "execution_count": 7,
   "id": "e2bcb2a1",
   "metadata": {
    "collapsed": false,
    "execution": {
     "iopub.execute_input": "2023-10-24T20:24:45.128431Z",
     "iopub.status.busy": "2023-10-24T20:24:45.128127Z",
     "iopub.status.idle": "2023-10-24T20:24:46.590569Z",
     "shell.execute_reply": "2023-10-24T20:24:46.589473Z"
    },
    "papermill": {
     "duration": 1.478002,
     "end_time": "2023-10-24T20:24:46.593244",
     "exception": false,
     "start_time": "2023-10-24T20:24:45.115242",
     "status": "completed"
    },
    "tags": [],
    "ExecuteTime": {
     "end_time": "2023-10-29T11:17:21.980500622Z",
     "start_time": "2023-10-29T11:17:21.715054386Z"
    }
   },
   "outputs": [],
   "source": [
    "train_dataset = DeToxificationDataset(train_dataframe)\n",
    "val_dataset = DeToxificationDataset(val_dataframe, vocab=train_dataset.vocab)"
   ]
  },
  {
   "cell_type": "code",
   "execution_count": 8,
   "id": "bb8085cf",
   "metadata": {
    "collapsed": false,
    "execution": {
     "iopub.execute_input": "2023-10-24T20:24:46.620297Z",
     "iopub.status.busy": "2023-10-24T20:24:46.619877Z",
     "iopub.status.idle": "2023-10-24T20:24:46.627418Z",
     "shell.execute_reply": "2023-10-24T20:24:46.626411Z"
    },
    "papermill": {
     "duration": 0.023943,
     "end_time": "2023-10-24T20:24:46.629946",
     "exception": false,
     "start_time": "2023-10-24T20:24:46.606003",
     "status": "completed"
    },
    "tags": [],
    "ExecuteTime": {
     "end_time": "2023-10-29T11:17:21.992283562Z",
     "start_time": "2023-10-29T11:17:21.983586418Z"
    }
   },
   "outputs": [
    {
     "name": "stdout",
     "output_type": "stream",
     "text": [
      "he must be operated or he ' il die .\n",
      "he has to go to surgery or he dies .\n"
     ]
    }
   ],
   "source": [
    "def random_sample(some_dataset: DeToxificationDataset, vocab: Vocab):\n",
    "    idx = np.random.randint(0, len(some_dataset))\n",
    "    ref, trn = some_dataset[idx]\n",
    "    print(' '.join(vocab.lookup_tokens(ref)))\n",
    "    print(' '.join(vocab.lookup_tokens(trn)))\n",
    "\n",
    "\n",
    "random_sample(train_dataset, train_dataset.vocab)"
   ]
  },
  {
   "cell_type": "code",
   "execution_count": 9,
   "id": "1f572762",
   "metadata": {
    "collapsed": false,
    "execution": {
     "iopub.execute_input": "2023-10-24T20:24:46.656886Z",
     "iopub.status.busy": "2023-10-24T20:24:46.656530Z",
     "iopub.status.idle": "2023-10-24T20:24:46.663015Z",
     "shell.execute_reply": "2023-10-24T20:24:46.662157Z"
    },
    "papermill": {
     "duration": 0.021862,
     "end_time": "2023-10-24T20:24:46.665230",
     "exception": false,
     "start_time": "2023-10-24T20:24:46.643368",
     "status": "completed"
    },
    "tags": [],
    "ExecuteTime": {
     "end_time": "2023-10-29T11:17:22.041258342Z",
     "start_time": "2023-10-29T11:17:21.988703602Z"
    }
   },
   "outputs": [
    {
     "data": {
      "text/plain": "(45000, 5000)"
     },
     "execution_count": 9,
     "metadata": {},
     "output_type": "execute_result"
    }
   ],
   "source": [
    "len(train_dataset), len(val_dataset)"
   ]
  },
  {
   "cell_type": "markdown",
   "id": "03f8850f",
   "metadata": {
    "papermill": {
     "duration": 0.011891,
     "end_time": "2023-10-24T20:24:46.688839",
     "exception": false,
     "start_time": "2023-10-24T20:24:46.676948",
     "status": "completed"
    },
    "tags": [],
    "ExecuteTime": {
     "end_time": "2023-10-26T11:09:25.152916127Z",
     "start_time": "2023-10-26T11:09:25.095427744Z"
    }
   },
   "source": [
    "# Dataloaders"
   ]
  },
  {
   "cell_type": "code",
   "execution_count": 10,
   "id": "7c87c930",
   "metadata": {
    "collapsed": false,
    "execution": {
     "iopub.execute_input": "2023-10-24T20:24:46.714664Z",
     "iopub.status.busy": "2023-10-24T20:24:46.714315Z",
     "iopub.status.idle": "2023-10-24T20:24:46.723219Z",
     "shell.execute_reply": "2023-10-24T20:24:46.722250Z"
    },
    "papermill": {
     "duration": 0.024388,
     "end_time": "2023-10-24T20:24:46.725382",
     "exception": false,
     "start_time": "2023-10-24T20:24:46.700994",
     "status": "completed"
    },
    "tags": [],
    "ExecuteTime": {
     "end_time": "2023-10-29T11:17:22.042166249Z",
     "start_time": "2023-10-29T11:17:22.038556990Z"
    }
   },
   "outputs": [],
   "source": [
    "def collate_batch(batch: list[np.ndarray]):\n",
    "    ref_list, trn_list, trn_lengths = [], [], []\n",
    "\n",
    "    for _ref, _trn in batch:\n",
    "        ref_list.append(torch.tensor(_ref + [EOS_IDX]))\n",
    "        trn_list.append(torch.tensor([BOS_IDX] + _trn + [EOS_IDX]))\n",
    "        trn_lengths.append(len(_trn))\n",
    "\n",
    "    ref_list = torch.nn.utils.rnn.pad_sequence(ref_list, padding_value=PAD_IDX, batch_first=True)\n",
    "    trn_list = torch.nn.utils.rnn.pad_sequence(trn_list, padding_value=PAD_IDX, batch_first=True)\n",
    "\n",
    "    return ref_list, trn_list, trn_lengths\n",
    "\n",
    "\n",
    "batch_size = 25\n",
    "train_dataloader = DataLoader(\n",
    "    train_dataset, batch_size=batch_size, shuffle=True, collate_fn=collate_batch\n",
    ")\n",
    "val_dataloader = DataLoader(\n",
    "    val_dataset, batch_size=batch_size, shuffle=False, collate_fn=collate_batch\n",
    ")"
   ]
  },
  {
   "cell_type": "markdown",
   "id": "0a427e5c",
   "metadata": {
    "papermill": {
     "duration": 0.013427,
     "end_time": "2023-10-24T20:24:46.751460",
     "exception": false,
     "start_time": "2023-10-24T20:24:46.738033",
     "status": "completed"
    },
    "tags": [],
    "ExecuteTime": {
     "end_time": "2023-10-26T11:07:54.789453517Z",
     "start_time": "2023-10-26T11:07:54.784507010Z"
    }
   },
   "source": [
    "# Model"
   ]
  },
  {
   "cell_type": "code",
   "execution_count": 11,
   "outputs": [],
   "source": [
    "class PositionalEncoding(nn.Module):\n",
    "    def __init__(self,\n",
    "                 embedding_dim: int,\n",
    "                 dropout: float,\n",
    "                 max_len: int = 5000):\n",
    "        super(PositionalEncoding, self).__init__()\n",
    "        den = torch.exp(-torch.arange(0, embedding_dim, 2) * np.log(10000) / embedding_dim)\n",
    "        pos = torch.arange(0, max_len).reshape(max_len, 1)\n",
    "\n",
    "        pos_embedding = torch.zeros((max_len, embedding_dim))\n",
    "        pos_embedding[:, 0::2] = torch.sin(pos * den)\n",
    "        pos_embedding[:, 1::2] = torch.cos(pos * den)\n",
    "        pos_embedding = pos_embedding.unsqueeze(-2)\n",
    "\n",
    "        self.dropout = nn.Dropout(dropout)\n",
    "        self.register_buffer('pos_embedding', pos_embedding)\n",
    "\n",
    "    def forward(self, token_embedding: torch.Tensor):\n",
    "        return self.dropout(token_embedding + self.pos_embedding[:token_embedding.shape[0], :])"
   ],
   "metadata": {
    "collapsed": false,
    "ExecuteTime": {
     "end_time": "2023-10-29T11:17:22.042957904Z",
     "start_time": "2023-10-29T11:17:22.038766881Z"
    }
   },
   "id": "eab511945a25ef24"
  },
  {
   "cell_type": "code",
   "execution_count": 12,
   "outputs": [],
   "source": [
    "class TransformerDeToxification(nn.Module):\n",
    "    def __init__(self,\n",
    "                 num_embeddings: int,\n",
    "                 embedding_dim: int,\n",
    "                 nhead: int,\n",
    "                 num_layers: int,\n",
    "                 dropout: float):\n",
    "        super(TransformerDeToxification, self).__init__()\n",
    "        self.embedding_dim = embedding_dim\n",
    "        self.emb_in = nn.Embedding(num_embeddings, embedding_dim)\n",
    "        self.emb_out = nn.Embedding(num_embeddings, embedding_dim)\n",
    "        self.positional_encoding = PositionalEncoding(embedding_dim, dropout)\n",
    "        self.transformer = nn.Transformer(\n",
    "            d_model=embedding_dim,\n",
    "            nhead=nhead,\n",
    "            batch_first=True,\n",
    "            num_decoder_layers=num_layers,\n",
    "            num_encoder_layers=num_layers,\n",
    "            dropout=dropout,\n",
    "        )\n",
    "        self.linear = nn.Linear(embedding_dim, num_embeddings)\n",
    "\n",
    "    def forward(self,\n",
    "                input_s: torch.Tensor,\n",
    "                target_s: torch.Tensor,\n",
    "                input_mask: torch.Tensor,\n",
    "                target_mask: torch.Tensor,\n",
    "                input_padding_mask: torch.Tensor,\n",
    "                target_padding_mask: torch.Tensor) -> torch.Tensor:\n",
    "        input_emb = self.positional_encoding(self.emb_in(input_s) * np.sqrt(self.embedding_dim))\n",
    "        target_emb = self.positional_encoding(self.emb_out(target_s) * np.sqrt(self.embedding_dim))\n",
    "        outs = self.transformer(\n",
    "            input_emb,\n",
    "            target_emb,\n",
    "            src_mask=input_mask,\n",
    "            tgt_mask=target_mask,\n",
    "            src_key_padding_mask=input_padding_mask,\n",
    "            tgt_key_padding_mask=target_padding_mask,\n",
    "            memory_key_padding_mask=input_padding_mask,\n",
    "        )\n",
    "        return self.linear(outs)\n",
    "\n",
    "    def encode(self, input_s: torch.Tensor, input_mask: torch.Tensor):\n",
    "        return self.transformer.encoder(\n",
    "            self.positional_encoding(self.emb_in(input_s) * np.sqrt(self.embedding_dim)),\n",
    "            mask=input_mask\n",
    "        )\n",
    "\n",
    "    def decode(self, target: torch.Tensor, memory: torch.Tensor, target_mask: torch.Tensor):\n",
    "        return self.transformer.decoder(\n",
    "            self.positional_encoding(self.emb_out(target) * np.sqrt(self.embedding_dim)),\n",
    "            memory,\n",
    "            tgt_mask=target_mask\n",
    "        )"
   ],
   "metadata": {
    "collapsed": false,
    "ExecuteTime": {
     "end_time": "2023-10-29T11:17:22.043835491Z",
     "start_time": "2023-10-29T11:17:22.039002538Z"
    }
   },
   "id": "48f4374f5367355c"
  },
  {
   "cell_type": "code",
   "execution_count": 13,
   "outputs": [],
   "source": [
    "def generate_square_subsequent_mask(sz: int, dev: torch.device) -> torch.Tensor:\n",
    "    mask: torch.Tensor = (torch.triu(torch.ones((sz, sz), device=dev)) == 1)\n",
    "    mask = mask.T\n",
    "    mask = mask.float().masked_fill(mask == 0, float('-inf')).masked_fill(mask == 1, float(0.0))\n",
    "    return mask\n",
    "\n",
    "\n",
    "def create_mask(input_s: torch.Tensor,\n",
    "                target_s: torch.Tensor,\n",
    "                dev: torch.device) -> tuple[torch.Tensor, torch.Tensor, torch.Tensor, torch.Tensor]:\n",
    "    src_seq_len = input_s.shape[1]\n",
    "    tgt_seq_len = target_s.shape[1]\n",
    "\n",
    "    target_mask = generate_square_subsequent_mask(tgt_seq_len, dev)\n",
    "    input_mask = torch.zeros((src_seq_len, src_seq_len), device=dev).type(torch.bool)\n",
    "\n",
    "    input_padding_mask = (input_s == PAD_IDX)\n",
    "    target_padding_mask = (target_s == PAD_IDX)\n",
    "    return input_mask, target_mask, input_padding_mask, target_padding_mask"
   ],
   "metadata": {
    "collapsed": false,
    "ExecuteTime": {
     "end_time": "2023-10-29T11:17:22.044622567Z",
     "start_time": "2023-10-29T11:17:22.039262087Z"
    }
   },
   "id": "1c2db87c9a2521dd"
  },
  {
   "cell_type": "markdown",
   "source": [
    "# Training"
   ],
   "metadata": {
    "collapsed": false,
    "ExecuteTime": {
     "end_time": "2023-10-26T11:09:40.968490320Z",
     "start_time": "2023-10-26T11:09:40.963795421Z"
    }
   },
   "id": "78aaba0ff516e659"
  },
  {
   "cell_type": "code",
   "execution_count": 14,
   "outputs": [],
   "source": [
    "def to_device(dev: torch.device, *args: torch.Tensor) -> tuple[torch.Tensor, ...]:\n",
    "    return tuple(t.to(dev) for t in args)"
   ],
   "metadata": {
    "collapsed": false,
    "ExecuteTime": {
     "end_time": "2023-10-29T11:17:22.045493552Z",
     "start_time": "2023-10-29T11:17:22.039753620Z"
    }
   },
   "id": "6013554052fd812e"
  },
  {
   "cell_type": "code",
   "execution_count": 15,
   "outputs": [
    {
     "data": {
      "text/plain": "device(type='cuda')"
     },
     "execution_count": 15,
     "metadata": {},
     "output_type": "execute_result"
    }
   ],
   "source": [
    "device = torch.device(\"cuda\" if torch.cuda.is_available() else \"cpu\")\n",
    "model = TransformerDeToxification(\n",
    "    num_embeddings=len(train_dataset.vocab),\n",
    "    embedding_dim=512,\n",
    "    nhead=8,\n",
    "    num_layers=6,\n",
    "    dropout=0.33,\n",
    ").to(device)\n",
    "loss_function = torch.nn.CrossEntropyLoss()\n",
    "optimizer = torch.optim.Adam(model.parameters())\n",
    "device"
   ],
   "metadata": {
    "collapsed": false,
    "ExecuteTime": {
     "end_time": "2023-10-29T11:17:23.247287122Z",
     "start_time": "2023-10-29T11:17:22.040113935Z"
    }
   },
   "id": "f63ba43e802ebbfe"
  },
  {
   "cell_type": "code",
   "execution_count": 16,
   "outputs": [
    {
     "data": {
      "text/plain": "Metric(name: \"sacrebleu\", features: {'predictions': Value(dtype='string', id='sequence'), 'references': Sequence(feature=Value(dtype='string', id='sequence'), length=-1, id='references')}, usage: \"\"\"\nProduces BLEU scores along with its sufficient statistics\nfrom a source against one or more references.\n\nArgs:\n    predictions (`list` of `str`): list of translations to score. Each translation should be tokenized into a list of tokens.\n    references (`list` of `list` of `str`): A list of lists of references. The contents of the first sub-list are the references for the first prediction, the contents of the second sub-list are for the second prediction, etc. Note that there must be the same number of references for each prediction (i.e. all sub-lists must be of the same length).\n    smooth_method (`str`): The smoothing method to use, defaults to `'exp'`. Possible values are:\n        - `'none'`: no smoothing\n        - `'floor'`: increment zero counts\n        - `'add-k'`: increment num/denom by k for n>1\n        - `'exp'`: exponential decay\n    smooth_value (`float`): The smoothing value. Only valid when `smooth_method='floor'` (in which case `smooth_value` defaults to `0.1`) or `smooth_method='add-k'` (in which case `smooth_value` defaults to `1`).\n    tokenize (`str`): Tokenization method to use for BLEU. If not provided, defaults to `'zh'` for Chinese, `'ja-mecab'` for Japanese and `'13a'` (mteval) otherwise. Possible values are:\n        - `'none'`: No tokenization.\n        - `'zh'`: Chinese tokenization.\n        - `'13a'`: mimics the `mteval-v13a` script from Moses.\n        - `'intl'`: International tokenization, mimics the `mteval-v14` script from Moses\n        - `'char'`: Language-agnostic character-level tokenization.\n        - `'ja-mecab'`: Japanese tokenization. Uses the [MeCab tokenizer](https://pypi.org/project/mecab-python3).\n    lowercase (`bool`): If `True`, lowercases the input, enabling case-insensitivity. Defaults to `False`.\n    force (`bool`): If `True`, insists that your tokenized input is actually detokenized. Defaults to `False`.\n    use_effective_order (`bool`): If `True`, stops including n-gram orders for which precision is 0. This should be `True`, if sentence-level BLEU will be computed. Defaults to `False`.\n\nReturns:\n    'score': BLEU score,\n    'counts': Counts,\n    'totals': Totals,\n    'precisions': Precisions,\n    'bp': Brevity penalty,\n    'sys_len': predictions length,\n    'ref_len': reference length,\n\nExamples:\n\n    Example 1:\n        >>> predictions = [\"hello there general kenobi\", \"foo bar foobar\"]\n        >>> references = [[\"hello there general kenobi\", \"hello there !\"], [\"foo bar foobar\", \"foo bar foobar\"]]\n        >>> sacrebleu = datasets.load_metric(\"sacrebleu\")\n        >>> results = sacrebleu.compute(predictions=predictions, references=references)\n        >>> print(list(results.keys()))\n        ['score', 'counts', 'totals', 'precisions', 'bp', 'sys_len', 'ref_len']\n        >>> print(round(results[\"score\"], 1))\n        100.0\n\n    Example 2:\n        >>> predictions = [\"hello there general kenobi\",\n        ...                 \"on our way to ankh morpork\"]\n        >>> references = [[\"hello there general kenobi\", \"hello there !\"],\n        ...                 [\"goodbye ankh morpork\", \"ankh morpork\"]]\n        >>> sacrebleu = datasets.load_metric(\"sacrebleu\")\n        >>> results = sacrebleu.compute(predictions=predictions,\n        ...                             references=references)\n        >>> print(list(results.keys()))\n        ['score', 'counts', 'totals', 'precisions', 'bp', 'sys_len', 'ref_len']\n        >>> print(round(results[\"score\"], 1))\n        39.8\n\"\"\", stored examples: 0)"
     },
     "execution_count": 16,
     "metadata": {},
     "output_type": "execute_result"
    }
   ],
   "source": [
    "# Load the BLUE metric\n",
    "sacrebleu = load_metric(\"sacrebleu\")\n",
    "sacrebleu"
   ],
   "metadata": {
    "collapsed": false,
    "ExecuteTime": {
     "end_time": "2023-10-29T11:17:24.660558062Z",
     "start_time": "2023-10-29T11:17:23.236928659Z"
    }
   },
   "id": "c6475d74546034fe"
  },
  {
   "cell_type": "code",
   "execution_count": 17,
   "outputs": [],
   "source": [
    "def train(tr_model: nn.Module,\n",
    "          epochs: int,\n",
    "          train_ld: DataLoader,\n",
    "          val_ld: DataLoader,\n",
    "          optim: torch.optim.Optimizer,\n",
    "          loss_fn: nn.CrossEntropyLoss,\n",
    "          vocab: Vocab,\n",
    "          metric,\n",
    "          dev: torch.device,\n",
    "          ckpt_path: Union[Path, str]) -> tuple[list[float], list[float], list[float], float]:\n",
    "    tr_losses = []\n",
    "    vl_losses = []\n",
    "    sacrebleus = []\n",
    "    _best = 0\n",
    "    # loop for every epoch (training + evaluation)\n",
    "    for epoch in range(1, epochs + 1):\n",
    "        total_loss = 0\n",
    "\n",
    "        # progress bar\n",
    "        progress_train = tqdm(enumerate(train_ld, 1), desc=\"Loss: \", total=len(train_ld))\n",
    "\n",
    "        # ----------------- TRAINING  --------------------\n",
    "        # set model to training\n",
    "        tr_model.train()\n",
    "\n",
    "        for i, data in progress_train:\n",
    "            inputs, targets = to_device(dev, *data[:-1])\n",
    "\n",
    "            # training step for single batch\n",
    "            optim.zero_grad()\n",
    "            masks = create_mask(inputs, targets, dev)\n",
    "            outputs = tr_model(\n",
    "                inputs, targets,\n",
    "                *masks\n",
    "            )\n",
    "            outputs = outputs[:, :-1].permute(0, 2, 1)\n",
    "            loss = loss_fn(outputs, targets[:, 1:])\n",
    "\n",
    "            # update running training loss\n",
    "            current_loss = loss.item()\n",
    "            total_loss += current_loss\n",
    "\n",
    "            # optimizer run\n",
    "            loss.backward()\n",
    "            optim.step()\n",
    "\n",
    "            # updating progress bar\n",
    "            progress_train.set_description(\"Loss: {:.4f}\".format(total_loss / i))\n",
    "\n",
    "            # releasing unnecessary memory in GPU\n",
    "            if torch.cuda.is_available():\n",
    "                torch.cuda.empty_cache()\n",
    "\n",
    "        # releasing unnecessary memory in GPU\n",
    "        if torch.cuda.is_available():\n",
    "            torch.cuda.empty_cache()\n",
    "\n",
    "        # ----------------- VALIDATION  -----------------\n",
    "        # progress bar\n",
    "        progress_val = tqdm(enumerate(val_ld, 1), desc=\"Loss: \", total=len(val_ld))\n",
    "        val_loss_total = 0\n",
    "        metric_total = 0\n",
    "\n",
    "        # set model to evaluating (testing)\n",
    "        tr_model.eval()\n",
    "        with torch.no_grad():\n",
    "            for i, data in progress_val:\n",
    "                lengths = data[-1]\n",
    "                inputs, targets = to_device(dev, *data[:-1])\n",
    "                masks = create_mask(inputs, targets, dev)\n",
    "                outputs = tr_model(\n",
    "                    inputs, targets,\n",
    "                    *masks\n",
    "                )\n",
    "                outputs = outputs[:, :-1].permute(0, 2, 1)\n",
    "\n",
    "                # update running validation loss\n",
    "                val_loss_total += loss_function(outputs, targets[:, 1:]).item()\n",
    "                predicted = outputs.argmax(dim=1)\n",
    "\n",
    "                predicted = predicted.detach().cpu().numpy()\n",
    "                targets = targets.detach().cpu().numpy()\n",
    "\n",
    "                predicted = [' '.join(vocab.lookup_tokens(row[:ln])) for row, ln in zip(predicted, lengths)]\n",
    "                targets = [[' '.join(vocab.lookup_tokens(row[:ln]))] for row, ln in zip(targets[:, 1:], lengths)]\n",
    "                metric_total += metric.compute(predictions=predicted, references=targets)['score']\n",
    "\n",
    "                progress_val.set_description(\n",
    "                    \"Loss: {:.4f}, Sacrebleu: {:.4f}\".format(val_loss_total / i, metric_total / i))\n",
    "\n",
    "                # releasing unnecessary memory in GPU\n",
    "                if torch.cuda.is_available():\n",
    "                    torch.cuda.empty_cache()\n",
    "\n",
    "        if _best < metric_total / len(val_ld):\n",
    "            torch.save(tr_model.state_dict(), ckpt_path)\n",
    "            _best = metric_total / len(val_ld)\n",
    "\n",
    "        print(\n",
    "            f\"Epoch {epoch}/{epochs}, \"\n",
    "            f\"training loss: {total_loss / len(train_ld):.4f}, \"\n",
    "            f\"validation loss: {val_loss_total / len(val_ld):.4f}, \"\n",
    "            f\"sacrebleu: {metric_total / len(val_ld):.4f}\"\n",
    "        )\n",
    "        sacrebleus.append(metric_total / len(val_ld))\n",
    "        tr_losses.append(total_loss / len(train_ld))\n",
    "        vl_losses.append(val_loss_total / len(val_ld))\n",
    "\n",
    "    return tr_losses, vl_losses, sacrebleus, _best"
   ],
   "metadata": {
    "collapsed": false,
    "ExecuteTime": {
     "end_time": "2023-10-29T11:17:24.674617957Z",
     "start_time": "2023-10-29T11:17:24.659218204Z"
    }
   },
   "id": "999c79f47d2e2057"
  },
  {
   "cell_type": "code",
   "execution_count": 18,
   "outputs": [
    {
     "name": "stderr",
     "output_type": "stream",
     "text": [
      "Loss: 3.0871: 100%|██████████| 1800/1800 [05:52<00:00,  5.11it/s]\n",
      "Loss: 3.4117, Sacrebleu: 0.0736: 100%|██████████| 200/200 [00:13<00:00, 15.38it/s]\n"
     ]
    },
    {
     "name": "stdout",
     "output_type": "stream",
     "text": [
      "Epoch 1/1, training loss: 3.0871, validation loss: 3.4117, sacrebleu: 0.0736\n"
     ]
    }
   ],
   "source": [
    "train_losses, val_losses, sacrebleus_vals, best_score = train(\n",
    "    tr_model=model,\n",
    "    epochs=1,\n",
    "    train_ld=train_dataloader,\n",
    "    val_ld=val_dataloader,\n",
    "    optim=optimizer,\n",
    "    loss_fn=loss_function,\n",
    "    vocab=train_dataset.vocab,\n",
    "    metric=sacrebleu,\n",
    "    dev=device,\n",
    "    ckpt_path=model_cktp_path\n",
    ")"
   ],
   "metadata": {
    "collapsed": false,
    "ExecuteTime": {
     "end_time": "2023-10-29T11:23:30.607002833Z",
     "start_time": "2023-10-29T11:17:24.663580916Z"
    }
   },
   "id": "51e35efa2762f4db"
  },
  {
   "cell_type": "code",
   "execution_count": 19,
   "outputs": [
    {
     "data": {
      "text/plain": "<Figure size 640x480 with 1 Axes>",
      "image/png": "[encoded data removed]"
     },
     "metadata": {},
     "output_type": "display_data"
    },
    {
     "data": {
      "text/plain": "<Figure size 640x480 with 1 Axes>",
      "image/png": "[encoded data removed]"
     },
     "metadata": {},
     "output_type": "display_data"
    }
   ],
   "source": [
    "epochs_arr = np.arange(1, len(train_losses) + 1, 1)\n",
    "plt.title('Train history')\n",
    "plt.plot(epochs_arr, train_losses, c='b', label='Train loss')\n",
    "plt.plot(epochs_arr, val_losses, c='r', label='Validation loss')\n",
    "plt.legend(loc='best')\n",
    "plt.xlabel('Epochs')\n",
    "plt.ylabel('Cross entropy loss')\n",
    "plt.show()\n",
    "\n",
    "plt.title('Sacrebleu history')\n",
    "plt.plot(epochs_arr, sacrebleus_vals, c='b', label='Sacrebleu score')\n",
    "plt.legend(loc='best')\n",
    "plt.xlabel('Epochs')\n",
    "plt.ylabel('Sacrebleu score')\n",
    "plt.show()"
   ],
   "metadata": {
    "collapsed": false,
    "ExecuteTime": {
     "end_time": "2023-10-29T11:23:31.021208340Z",
     "start_time": "2023-10-29T11:23:30.610153855Z"
    }
   },
   "id": "15c38d9e4743f270"
  },
  {
   "cell_type": "markdown",
   "source": [
    "# Test"
   ],
   "metadata": {
    "collapsed": false,
    "is_executing": true
   },
   "id": "a7fe2ee05dc89012"
  },
  {
   "cell_type": "code",
   "execution_count": null,
   "outputs": [],
   "source": [
    "model = TransformerDeToxification(\n",
    "    num_embeddings=len(train_dataset.vocab),\n",
    "    embedding_dim=512,\n",
    "    nhead=8,\n",
    "    num_layers=6,\n",
    "    dropout=0.33,\n",
    ")\n",
    "model.load_state_dict(torch.load(model_cktp_path))\n",
    "model.to(device)"
   ],
   "metadata": {
    "collapsed": false
   },
   "id": "ecff58886f12f142"
  },
  {
   "cell_type": "code",
   "execution_count": null,
   "outputs": [],
   "source": [
    "tokenizer = torchtext.data.utils.get_tokenizer('basic_english')\n",
    "\n",
    "\n",
    "def _de_toxification(tr_model: nn.Module, text: str, vocab: Vocab, dev: torch.device, max_length: int = 50) -> str:\n",
    "    text = text.lower()\n",
    "    garbage = [\n",
    "        '^', '&', '*', '%', '@', '#', '$', '_', '+', '-', '=', '>', '<', ':', '~'\n",
    "    ]\n",
    "    for symbol in garbage:\n",
    "        text = text.replace(symbol, '')\n",
    "    text = text.replace('...', '.')\n",
    "    tokens = tokenizer(text)\n",
    "\n",
    "    input_s = torch.tensor(vocab(tokens) + [EOS_IDX]).unsqueeze(0).to(device)\n",
    "    input_mask = torch.zeros(input_s.shape[1], input_s.shape[1]).type(torch.bool).to(device)\n",
    "\n",
    "    # Through encoders\n",
    "    memory = model.encode(input_s, input_mask)\n",
    "\n",
    "    # Through decoders\n",
    "    predicted = torch.ones(1, 1).fill_(BOS_IDX).type(torch.long).to(dev)\n",
    "    for i in range(max_length):\n",
    "        memory = memory.to(dev)\n",
    "        target_mask = generate_square_subsequent_mask(predicted.shape[1], dev).type(torch.bool).to(dev)\n",
    "\n",
    "        out = tr_model.decode(predicted, memory, target_mask)\n",
    "        probs = model.linear(out[:, -1])\n",
    "        _, next_word = torch.max(probs, dim=1)\n",
    "        next_word = next_word.item()\n",
    "\n",
    "        predicted = torch.cat([predicted, torch.ones(1, 1).type_as(input_s.data).fill_(next_word)], dim=1)\n",
    "        if next_word == EOS_IDX:\n",
    "            break\n",
    "\n",
    "    # Detach\n",
    "    predicted = predicted.detach()\n",
    "    if device.type == 'cuda':\n",
    "        predicted = predicted.cpu()\n",
    "    predicted = predicted.numpy()[0, 1:]\n",
    "\n",
    "    return ' '.join(vocab.lookup_tokens(predicted))\n",
    "\n",
    "\n",
    "def de_toxification(tr_model: nn.Module, text: str, vocab: Vocab, dev: torch.device, max_length: int = 50) -> str:\n",
    "    with torch.no_grad():\n",
    "        return _de_toxification(tr_model, text, vocab, dev, max_length)"
   ],
   "metadata": {
    "collapsed": false,
    "ExecuteTime": {
     "start_time": "2023-10-29T11:23:31.978182835Z"
    }
   },
   "id": "718321ec2bc6b403"
  },
  {
   "cell_type": "code",
   "execution_count": null,
   "outputs": [],
   "source": [
    "de_tox = de_toxification(model, \"You are bastard\", train_dataset.vocab, device)\n",
    "print(de_tox)"
   ],
   "metadata": {
    "collapsed": false,
    "ExecuteTime": {
     "start_time": "2023-10-29T11:23:31.979894412Z"
    }
   },
   "id": "5fc48b2998471f79"
  },
  {
   "cell_type": "code",
   "execution_count": null,
   "outputs": [],
   "source": [],
   "metadata": {
    "collapsed": false,
    "ExecuteTime": {
     "end_time": "2023-10-29T11:23:31.981450705Z",
     "start_time": "2023-10-29T11:23:31.981270532Z"
    }
   },
   "id": "81c2e0a573ad7f40"
  }
 ],
 "metadata": {
  "kernelspec": {
   "display_name": "Python 3",
   "language": "python",
   "name": "python3"
  },
  "language_info": {
   "codemirror_mode": {
    "name": "ipython",
    "version": 3
   },
   "file_extension": ".py",
   "mimetype": "text/x-python",
   "name": "python",
   "nbconvert_exporter": "python",
   "pygments_lexer": "ipython3",
   "version": "3.10.12"
  },
  "papermill": {
   "default_parameters": {},
   "duration": 4163.53542,
   "end_time": "2023-10-24T21:32:37.169487",
   "environment_variables": {},
   "exception": null,
   "input_path": "__notebook__.ipynb",
   "output_path": "__notebook__.ipynb",
   "parameters": {},
   "start_time": "2023-10-24T20:23:13.634067",
   "version": "2.4.0"
  },
  "widgets": {
   "application/vnd.jupyter.widget-state+json": {
    "state": {
     "0a2b0ee029334d5697253e2fe90b631f": {
      "model_module": "@jupyter-widgets/controls",
      "model_module_version": "1.5.0",
      "model_name": "ProgressStyleModel",
      "state": {
       "_model_module": "@jupyter-widgets/controls",
       "_model_module_version": "1.5.0",
       "_model_name": "ProgressStyleModel",
       "_view_count": null,
       "_view_module": "@jupyter-widgets/base",
       "_view_module_version": "1.2.0",
       "_view_name": "StyleView",
       "bar_color": null,
       "description_width": ""
      }
     },
     "0eda3f7cb7204245ba51054af954c79d": {
      "model_module": "@jupyter-widgets/controls",
      "model_module_version": "1.5.0",
      "model_name": "HBoxModel",
      "state": {
       "_dom_classes": [],
       "_model_module": "@jupyter-widgets/controls",
       "_model_module_version": "1.5.0",
       "_model_name": "HBoxModel",
       "_view_count": null,
       "_view_module": "@jupyter-widgets/controls",
       "_view_module_version": "1.5.0",
       "_view_name": "HBoxView",
       "box_style": "",
       "children": [
        "IPY_MODEL_a962f7f3152e4753940747760ae0829e",
        "IPY_MODEL_c684782840924b9bbbb78c604d1d20fc",
        "IPY_MODEL_6af5939017924c219cb0bb569883dc93"
       ],
       "layout": "IPY_MODEL_2eecab061fd74f298100de420369b428"
      }
     },
     "149a44276d3941ac89dbdf91fed813f9": {
      "model_module": "@jupyter-widgets/controls",
      "model_module_version": "1.5.0",
      "model_name": "DescriptionStyleModel",
      "state": {
       "_model_module": "@jupyter-widgets/controls",
       "_model_module_version": "1.5.0",
       "_model_name": "DescriptionStyleModel",
       "_view_count": null,
       "_view_module": "@jupyter-widgets/base",
       "_view_module_version": "1.2.0",
       "_view_name": "StyleView",
       "description_width": ""
      }
     },
     "2eecab061fd74f298100de420369b428": {
      "model_module": "@jupyter-widgets/base",
      "model_module_version": "1.2.0",
      "model_name": "LayoutModel",
      "state": {
       "_model_module": "@jupyter-widgets/base",
       "_model_module_version": "1.2.0",
       "_model_name": "LayoutModel",
       "_view_count": null,
       "_view_module": "@jupyter-widgets/base",
       "_view_module_version": "1.2.0",
       "_view_name": "LayoutView",
       "align_content": null,
       "align_items": null,
       "align_self": null,
       "border": null,
       "bottom": null,
       "display": null,
       "flex": null,
       "flex_flow": null,
       "grid_area": null,
       "grid_auto_columns": null,
       "grid_auto_flow": null,
       "grid_auto_rows": null,
       "grid_column": null,
       "grid_gap": null,
       "grid_row": null,
       "grid_template_areas": null,
       "grid_template_columns": null,
       "grid_template_rows": null,
       "height": null,
       "justify_content": null,
       "justify_items": null,
       "left": null,
       "margin": null,
       "max_height": null,
       "max_width": null,
       "min_height": null,
       "min_width": null,
       "object_fit": null,
       "object_position": null,
       "order": null,
       "overflow": null,
       "overflow_x": null,
       "overflow_y": null,
       "padding": null,
       "right": null,
       "top": null,
       "visibility": null,
       "width": null
      }
     },
     "6af5939017924c219cb0bb569883dc93": {
      "model_module": "@jupyter-widgets/controls",
      "model_module_version": "1.5.0",
      "model_name": "HTMLModel",
      "state": {
       "_dom_classes": [],
       "_model_module": "@jupyter-widgets/controls",
       "_model_module_version": "1.5.0",
       "_model_name": "HTMLModel",
       "_view_count": null,
       "_view_module": "@jupyter-widgets/controls",
       "_view_module_version": "1.5.0",
       "_view_name": "HTMLView",
       "description": "",
       "description_tooltip": null,
       "layout": "IPY_MODEL_fdfb2755c7f94b5f9fe903a1d5689d37",
       "placeholder": "​",
       "style": "IPY_MODEL_a1edbf70866e42ef9732ceb0d8fc4459",
       "value": " 7.65k/? [00:00&lt;00:00, 481kB/s]"
      }
     },
     "6bb796d2f5524de3a3b9e5493ed0a3a4": {
      "model_module": "@jupyter-widgets/base",
      "model_module_version": "1.2.0",
      "model_name": "LayoutModel",
      "state": {
       "_model_module": "@jupyter-widgets/base",
       "_model_module_version": "1.2.0",
       "_model_name": "LayoutModel",
       "_view_count": null,
       "_view_module": "@jupyter-widgets/base",
       "_view_module_version": "1.2.0",
       "_view_name": "LayoutView",
       "align_content": null,
       "align_items": null,
       "align_self": null,
       "border": null,
       "bottom": null,
       "display": null,
       "flex": null,
       "flex_flow": null,
       "grid_area": null,
       "grid_auto_columns": null,
       "grid_auto_flow": null,
       "grid_auto_rows": null,
       "grid_column": null,
       "grid_gap": null,
       "grid_row": null,
       "grid_template_areas": null,
       "grid_template_columns": null,
       "grid_template_rows": null,
       "height": null,
       "justify_content": null,
       "justify_items": null,
       "left": null,
       "margin": null,
       "max_height": null,
       "max_width": null,
       "min_height": null,
       "min_width": null,
       "object_fit": null,
       "object_position": null,
       "order": null,
       "overflow": null,
       "overflow_x": null,
       "overflow_y": null,
       "padding": null,
       "right": null,
       "top": null,
       "visibility": null,
       "width": null
      }
     },
     "6d1e68661c524f1ba835eaf990bf1849": {
      "model_module": "@jupyter-widgets/base",
      "model_module_version": "1.2.0",
      "model_name": "LayoutModel",
      "state": {
       "_model_module": "@jupyter-widgets/base",
       "_model_module_version": "1.2.0",
       "_model_name": "LayoutModel",
       "_view_count": null,
       "_view_module": "@jupyter-widgets/base",
       "_view_module_version": "1.2.0",
       "_view_name": "LayoutView",
       "align_content": null,
       "align_items": null,
       "align_self": null,
       "border": null,
       "bottom": null,
       "display": null,
       "flex": null,
       "flex_flow": null,
       "grid_area": null,
       "grid_auto_columns": null,
       "grid_auto_flow": null,
       "grid_auto_rows": null,
       "grid_column": null,
       "grid_gap": null,
       "grid_row": null,
       "grid_template_areas": null,
       "grid_template_columns": null,
       "grid_template_rows": null,
       "height": null,
       "justify_content": null,
       "justify_items": null,
       "left": null,
       "margin": null,
       "max_height": null,
       "max_width": null,
       "min_height": null,
       "min_width": null,
       "object_fit": null,
       "object_position": null,
       "order": null,
       "overflow": null,
       "overflow_x": null,
       "overflow_y": null,
       "padding": null,
       "right": null,
       "top": null,
       "visibility": null,
       "width": null
      }
     },
     "a1edbf70866e42ef9732ceb0d8fc4459": {
      "model_module": "@jupyter-widgets/controls",
      "model_module_version": "1.5.0",
      "model_name": "DescriptionStyleModel",
      "state": {
       "_model_module": "@jupyter-widgets/controls",
       "_model_module_version": "1.5.0",
       "_model_name": "DescriptionStyleModel",
       "_view_count": null,
       "_view_module": "@jupyter-widgets/base",
       "_view_module_version": "1.2.0",
       "_view_name": "StyleView",
       "description_width": ""
      }
     },
     "a962f7f3152e4753940747760ae0829e": {
      "model_module": "@jupyter-widgets/controls",
      "model_module_version": "1.5.0",
      "model_name": "HTMLModel",
      "state": {
       "_dom_classes": [],
       "_model_module": "@jupyter-widgets/controls",
       "_model_module_version": "1.5.0",
       "_model_name": "HTMLModel",
       "_view_count": null,
       "_view_module": "@jupyter-widgets/controls",
       "_view_module_version": "1.5.0",
       "_view_name": "HTMLView",
       "description": "",
       "description_tooltip": null,
       "layout": "IPY_MODEL_6bb796d2f5524de3a3b9e5493ed0a3a4",
       "placeholder": "​",
       "style": "IPY_MODEL_149a44276d3941ac89dbdf91fed813f9",
       "value": "Downloading builder script: "
      }
     },
     "c684782840924b9bbbb78c604d1d20fc": {
      "model_module": "@jupyter-widgets/controls",
      "model_module_version": "1.5.0",
      "model_name": "FloatProgressModel",
      "state": {
       "_dom_classes": [],
       "_model_module": "@jupyter-widgets/controls",
       "_model_module_version": "1.5.0",
       "_model_name": "FloatProgressModel",
       "_view_count": null,
       "_view_module": "@jupyter-widgets/controls",
       "_view_module_version": "1.5.0",
       "_view_name": "ProgressView",
       "bar_style": "success",
       "description": "",
       "description_tooltip": null,
       "layout": "IPY_MODEL_6d1e68661c524f1ba835eaf990bf1849",
       "max": 2848.0,
       "min": 0.0,
       "orientation": "horizontal",
       "style": "IPY_MODEL_0a2b0ee029334d5697253e2fe90b631f",
       "value": 2848.0
      }
     },
     "fdfb2755c7f94b5f9fe903a1d5689d37": {
      "model_module": "@jupyter-widgets/base",
      "model_module_version": "1.2.0",
      "model_name": "LayoutModel",
      "state": {
       "_model_module": "@jupyter-widgets/base",
       "_model_module_version": "1.2.0",
       "_model_name": "LayoutModel",
       "_view_count": null,
       "_view_module": "@jupyter-widgets/base",
       "_view_module_version": "1.2.0",
       "_view_name": "LayoutView",
       "align_content": null,
       "align_items": null,
       "align_self": null,
       "border": null,
       "bottom": null,
       "display": null,
       "flex": null,
       "flex_flow": null,
       "grid_area": null,
       "grid_auto_columns": null,
       "grid_auto_flow": null,
       "grid_auto_rows": null,
       "grid_column": null,
       "grid_gap": null,
       "grid_row": null,
       "grid_template_areas": null,
       "grid_template_columns": null,
       "grid_template_rows": null,
       "height": null,
       "justify_content": null,
       "justify_items": null,
       "left": null,
       "margin": null,
       "max_height": null,
       "max_width": null,
       "min_height": null,
       "min_width": null,
       "object_fit": null,
       "object_position": null,
       "order": null,
       "overflow": null,
       "overflow_x": null,
       "overflow_y": null,
       "padding": null,
       "right": null,
       "top": null,
       "visibility": null,
       "width": null
      }
     }
    },
    "version_major": 2,
    "version_minor": 0
   }
  }
 },
 "nbformat": 4,
 "nbformat_minor": 5
}
